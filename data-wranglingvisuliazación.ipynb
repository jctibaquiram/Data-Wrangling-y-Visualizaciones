{
  "cells": [
    {
      "cell_type": "markdown",
      "id": "3a272c88",
      "metadata": {},
      "source": [
        "----"
      ]
    },
    {
      "cell_type": "markdown",
      "id": "mhIvmmkW414q",
      "metadata": {
        "id": "mhIvmmkW414q"
      },
      "source": [
        "# Introducción\n",
        "\n",
        "Instacart es una plataforma de entregas de comestibles donde la clientela puede registrar un pedido y hacer que se lo entreguen, similar a Uber Eats y Door Dash.\n",
        "El conjunto de datos que te hemos proporcionado tiene modificaciones del original. Redujimos el tamaño del conjunto para que tus cálculos se hicieran más rápido e introdujimos valores ausentes y duplicados. Tuvimos cuidado de conservar las distribuciones de los datos originales cuando hicimos los cambios.\n",
        "\n",
        "Debes completar tres pasos. Para cada uno de ellos, escribe una breve introducción que refleje con claridad cómo pretendes resolver cada paso, y escribe párrafos explicatorios que justifiquen tus decisiones al tiempo que avanzas en tu solución.  También escribe una conclusión que resuma tus hallazgos y elecciones.\n"
      ]
    },
    {
      "cell_type": "markdown",
      "id": "3MbyzpOQZ5Or",
      "metadata": {
        "id": "3MbyzpOQZ5Or"
      },
      "source": [
        "## Diccionario de datos\n",
        "\n",
        "Hay cinco tablas en el conjunto de datos, y tendrás que usarlas todas para hacer el preprocesamiento de datos y el análisis exploratorio de datos. A continuación se muestra un diccionario de datos que enumera las columnas de cada tabla y describe los datos que contienen.\n",
        "\n",
        "- `instacart_orders.csv`: cada fila corresponde a un pedido en la aplicación Instacart.\n",
        "    - `'order_id'`: número de ID que identifica de manera única cada pedido.\n",
        "    - `'user_id'`: número de ID que identifica de manera única la cuenta de cada cliente.\n",
        "    - `'order_number'`: el número de veces que este cliente ha hecho un pedido.\n",
        "    - `'order_dow'`: día de la semana en que se hizo el pedido (0 si es domingo).\n",
        "    - `'order_hour_of_day'`: hora del día en que se hizo el pedido.\n",
        "    - `'days_since_prior_order'`: número de días transcurridos desde que este cliente hizo su pedido anterior.\n",
        "- `products.csv`: cada fila corresponde a un producto único que pueden comprar los clientes.\n",
        "    - `'product_id'`: número ID que identifica de manera única cada producto.\n",
        "    - `'product_name'`: nombre del producto.\n",
        "    - `'aisle_id'`: número ID que identifica de manera única cada categoría de pasillo de víveres.\n",
        "    - `'department_id'`: número ID que identifica de manera única cada departamento de víveres.\n",
        "- `order_products.csv`: cada fila corresponde a un artículo pedido en un pedido.\n",
        "    - `'order_id'`: número de ID que identifica de manera única cada pedido.\n",
        "    - `'product_id'`: número ID que identifica de manera única cada producto.\n",
        "    - `'add_to_cart_order'`: el orden secuencial en el que se añadió cada artículo en el carrito.\n",
        "    - `'reordered'`: 0 si el cliente nunca ha pedido este producto antes, 1 si lo ha pedido.\n",
        "- `aisles.csv`\n",
        "    - `'aisle_id'`: número ID que identifica de manera única cada categoría de pasillo de víveres.\n",
        "    - `'aisle'`: nombre del pasillo.\n",
        "- `departments.csv`\n",
        "    - `'department_id'`: número ID que identifica de manera única cada departamento de víveres.\n",
        "    - `'department'`: nombre del departamento."
      ]
    },
    {
      "cell_type": "markdown",
      "id": "n3Ha_cNSZ8lK",
      "metadata": {
        "id": "n3Ha_cNSZ8lK"
      },
      "source": [
        "# Paso 1. Descripción de los datos\n",
        "\n",
        "Lee los archivos de datos (`/datasets/instacart_orders.csv`, `/datasets/products.csv`, `/datasets/aisles.csv`, `/datasets/departments.csv` y `/datasets/order_products.csv`) con `pd.read_csv()` usando los parámetros adecuados para leer los datos correctamente. Verifica la información para cada DataFrame creado.\n"
      ]
    },
    {
      "cell_type": "markdown",
      "id": "OmlQPLlyaAfR",
      "metadata": {
        "id": "OmlQPLlyaAfR"
      },
      "source": [
        "## Plan de solución\n",
        "\n",
        "Escribe aquí tu plan de solución para el Paso 1. Descripción de los datos. "
      ]
    },
    {
      "cell_type": "markdown",
      "id": "ac813568",
      "metadata": {},
      "source": [
        "Mi plan es importar todas las librerias necesarias que incluye a pandas la cual me permite leer los datos tipo dataframe usando Pd.read_csv() ya que al verificar los tipos de archivo, se evidencia que todos los datos son un archivo .csv, adicionalmente al verificar de forma inicial los datos, vemos que están separados por \";\" por lo que agregamos el parametro sep=\";\" al leer los archivos de datos.\n",
        "luego de leer los archivos de datos, nos vamos uno a uno llamando a info() para verificar la cantidad de columnas, si hay columnas con datos nulos y que tipos de datos se tienen en cada columna."
      ]
    },
    {
      "cell_type": "code",
      "execution_count": 1,
      "id": "fbf1adab",
      "metadata": {
        "id": "fbf1adab",
        "trusted": false
      },
      "outputs": [],
      "source": [
        "import pandas as pd\n",
        "from matplotlib import pyplot as plt"
      ]
    },
    {
      "cell_type": "code",
      "execution_count": 3,
      "id": "ad36396d",
      "metadata": {
        "id": "ad36396d",
        "trusted": false
      },
      "outputs": [],
      "source": [
        "df_instacart_orders=pd.read_csv(\"instacart_orders.csv\", sep=';')\n",
        "df_products=pd.read_csv(\"products.csv\", sep=';')\n",
        "df_aisles=pd.read_csv(\"aisles.csv\", sep=';')\n",
        "df_departments=pd.read_csv(\"departments.csv\", sep=';')\n",
        "df_order_products=pd.read_csv(\"order_products.csv\", sep=';')"
      ]
    },
    {
      "cell_type": "code",
      "execution_count": 4,
      "id": "ad6a1efa",
      "metadata": {
        "id": "ad6a1efa",
        "trusted": false
      },
      "outputs": [
        {
          "name": "stdout",
          "output_type": "stream",
          "text": [
            "<class 'pandas.core.frame.DataFrame'>\n",
            "RangeIndex: 478967 entries, 0 to 478966\n",
            "Data columns (total 6 columns):\n",
            " #   Column                  Non-Null Count   Dtype  \n",
            "---  ------                  --------------   -----  \n",
            " 0   order_id                478967 non-null  int64  \n",
            " 1   user_id                 478967 non-null  int64  \n",
            " 2   order_number            478967 non-null  int64  \n",
            " 3   order_dow               478967 non-null  int64  \n",
            " 4   order_hour_of_day       478967 non-null  int64  \n",
            " 5   days_since_prior_order  450148 non-null  float64\n",
            "dtypes: float64(1), int64(5)\n",
            "memory usage: 21.9 MB\n"
          ]
        }
      ],
      "source": [
        "df_instacart_orders.info()"
      ]
    },
    {
      "cell_type": "code",
      "execution_count": null,
      "id": "5130e05e",
      "metadata": {
        "id": "5130e05e",
        "trusted": false
      },
      "outputs": [
        {
          "name": "stdout",
          "output_type": "stream",
          "text": [
            "<class 'pandas.core.frame.DataFrame'>\n",
            "RangeIndex: 49694 entries, 0 to 49693\n",
            "Data columns (total 4 columns):\n",
            " #   Column         Non-Null Count  Dtype \n",
            "---  ------         --------------  ----- \n",
            " 0   product_id     49694 non-null  int64 \n",
            " 1   product_name   48436 non-null  object\n",
            " 2   aisle_id       49694 non-null  int64 \n",
            " 3   department_id  49694 non-null  int64 \n",
            "dtypes: int64(3), object(1)\n",
            "memory usage: 1.5+ MB\n"
          ]
        }
      ],
      "source": [
        "df_products.info()"
      ]
    },
    {
      "cell_type": "code",
      "execution_count": null,
      "id": "d8370c05",
      "metadata": {
        "id": "d8370c05",
        "trusted": false
      },
      "outputs": [
        {
          "name": "stdout",
          "output_type": "stream",
          "text": [
            "<class 'pandas.core.frame.DataFrame'>\n",
            "RangeIndex: 134 entries, 0 to 133\n",
            "Data columns (total 2 columns):\n",
            " #   Column    Non-Null Count  Dtype \n",
            "---  ------    --------------  ----- \n",
            " 0   aisle_id  134 non-null    int64 \n",
            " 1   aisle     134 non-null    object\n",
            "dtypes: int64(1), object(1)\n",
            "memory usage: 2.2+ KB\n"
          ]
        }
      ],
      "source": [
        "df_aisles.info()"
      ]
    },
    {
      "cell_type": "code",
      "execution_count": 6,
      "id": "59e2090f",
      "metadata": {
        "id": "59e2090f",
        "trusted": false
      },
      "outputs": [
        {
          "name": "stdout",
          "output_type": "stream",
          "text": [
            "<class 'pandas.core.frame.DataFrame'>\n",
            "RangeIndex: 21 entries, 0 to 20\n",
            "Data columns (total 2 columns):\n",
            " #   Column         Non-Null Count  Dtype \n",
            "---  ------         --------------  ----- \n",
            " 0   department_id  21 non-null     int64 \n",
            " 1   department     21 non-null     object\n",
            "dtypes: int64(1), object(1)\n",
            "memory usage: 464.0+ bytes\n"
          ]
        }
      ],
      "source": [
        "df_departments.info()"
      ]
    },
    {
      "cell_type": "code",
      "execution_count": 7,
      "id": "6fc81694",
      "metadata": {
        "id": "6fc81694",
        "trusted": false
      },
      "outputs": [
        {
          "name": "stdout",
          "output_type": "stream",
          "text": [
            "<class 'pandas.core.frame.DataFrame'>\n",
            "RangeIndex: 4545007 entries, 0 to 4545006\n",
            "Data columns (total 4 columns):\n",
            " #   Column             Dtype  \n",
            "---  ------             -----  \n",
            " 0   order_id           int64  \n",
            " 1   product_id         int64  \n",
            " 2   add_to_cart_order  float64\n",
            " 3   reordered          int64  \n",
            "dtypes: float64(1), int64(3)\n",
            "memory usage: 138.7 MB\n"
          ]
        }
      ],
      "source": [
        "df_order_products.info()"
      ]
    },
    {
      "cell_type": "markdown",
      "id": "t75BD19oaR5f",
      "metadata": {
        "id": "t75BD19oaR5f"
      },
      "source": [
        "## Conclusiones\n",
        "\n",
        "Escribe aquí tus conclusiones intermedias sobre el Paso 1. Descripción de los datos."
      ]
    },
    {
      "cell_type": "markdown",
      "id": "a2ef12fd",
      "metadata": {},
      "source": [
        "Como conclusiones intermedias, puedo ver que los dataframes como objeto de datos solo presentan 1 columna pero al verificar los datos se tiene que en una columna hay información de varias columnas como es el caso de el dataframe para Order_products el cual cuenta en teoria con solo una columna al llamar el metodo info() pero al verificar el contenido de la columna se tiene que hay información del departemnt_id y el department, dicha información está separa por ;.Adicionalemnte en los datos verificamos que no se cuenta con valores nulos en los DataFrames de forma preliminar, pero luego de verificar que el separador de los datos es \";\", se adicionó este parametro al leer los datos para que me muestre todas las columnas existentes. al llevar a cabo esto evidenció que hay algunos dataframe que presentan columnas con valores nulos como es el caso de df_products que en la columna de product_name presenta valores nulos y para el caso del dataframe df_instacart tambien se identifican valores nulos en la columna days_since_prior_order."
      ]
    },
    {
      "cell_type": "markdown",
      "id": "8RJHqxVmaVsF",
      "metadata": {
        "id": "8RJHqxVmaVsF"
      },
      "source": [
        "# Paso 2. Preprocesamiento de los datos\n",
        "\n",
        "Preprocesa los datos de la siguiente manera:\n",
        "\n",
        "- Verifica y corrige los tipos de datos (por ejemplo, asegúrate de que las columnas de ID sean números enteros).\n",
        "- Identifica y completa los valores ausentes.\n",
        "- Identifica y elimina los valores duplicados.\n",
        "\n",
        "Asegúrate de explicar qué tipos de valores ausentes y duplicados encontraste, cómo los completaste o eliminaste y por qué usaste esos métodos. ¿Por qué crees que estos valores ausentes y duplicados pueden haber estado presentes en el conjunto de datos?"
      ]
    },
    {
      "cell_type": "markdown",
      "id": "p6poABZQaZYb",
      "metadata": {
        "id": "p6poABZQaZYb"
      },
      "source": [
        "## Plan de solución\n",
        "\n",
        "Escribe aquí tu plan para el Paso 2. Preprocesamiento de los datos."
      ]
    },
    {
      "cell_type": "markdown",
      "id": "04d19fa8",
      "metadata": {},
      "source": [
        "Para el preprocesamiento de los datos inicalmente verificamos que todas las columnas de ID en los 5 conjuntos de datos correponsan con el tipo de dato numero entero, está información la podemos obtener de la herramienta info().\n",
        "Para verificar los valores ausentes y completarlos, inicialmente verificaría la herramienta info() la cual me permite ver que columnas del dataframe contienen valores ausentes, luego verificaría la descripción y el tipo de datos de la columna con valores ausentes para luego ingresar valores que ayuden al procesamiento de los datos.\n",
        "para identificar valores duplicados y eliminarlos, inicialmente verificaría con la herramienta duplicated() si se evidencian filas enteras de duplicados y luego eliminaria dichos duplicados con el metodo drop_duplicates()"
      ]
    },
    {
      "cell_type": "markdown",
      "id": "07357848-dc64-4156-9cc3-01ff4365226d",
      "metadata": {
        "id": "07357848-dc64-4156-9cc3-01ff4365226d"
      },
      "source": [
        "## Encuentra y elimina los valores duplicados (y describe cómo tomaste tus decisiones)."
      ]
    },
    {
      "cell_type": "markdown",
      "id": "f179f0a9",
      "metadata": {
        "id": "f179f0a9"
      },
      "source": [
        "### `orders` data frame"
      ]
    },
    {
      "cell_type": "code",
      "execution_count": 8,
      "id": "b99297a5-405a-463d-8535-9adc3da4ad74",
      "metadata": {
        "id": "b99297a5-405a-463d-8535-9adc3da4ad74",
        "trusted": false
      },
      "outputs": [
        {
          "name": "stdout",
          "output_type": "stream",
          "text": [
            "        order_id  user_id  order_number  order_dow  order_hour_of_day  \\\n",
            "145574    794638    50898            24          3                  2   \n",
            "223105   2160484   107525            16          3                  2   \n",
            "230807   1918001   188546            14          3                  2   \n",
            "266232   1782114   106752             1          3                  2   \n",
            "273805   1112182   202304            84          3                  2   \n",
            "284038   2845099    31189            11          3                  2   \n",
            "311713   1021560    53767             3          3                  2   \n",
            "321100    408114    68324             4          3                  2   \n",
            "323900   1919531   191501            32          3                  2   \n",
            "345917   2232988    82565             1          3                  2   \n",
            "371905    391768    57671            19          3                  2   \n",
            "394347    467134    63189            21          3                  2   \n",
            "411408   1286742   183220            48          3                  2   \n",
            "415163   2282673    86751            49          3                  2   \n",
            "441599   2125197    14050            48          3                  2   \n",
            "\n",
            "        days_since_prior_order  \n",
            "145574                     2.0  \n",
            "223105                    30.0  \n",
            "230807                    16.0  \n",
            "266232                     NaN  \n",
            "273805                     6.0  \n",
            "284038                     7.0  \n",
            "311713                     9.0  \n",
            "321100                    18.0  \n",
            "323900                     7.0  \n",
            "345917                     NaN  \n",
            "371905                    10.0  \n",
            "394347                     2.0  \n",
            "411408                     4.0  \n",
            "415163                     2.0  \n",
            "441599                     3.0  \n",
            "\n",
            "15\n"
          ]
        }
      ],
      "source": [
        "print(df_instacart_orders[df_instacart_orders.duplicated()])\n",
        "\n",
        "print()\n",
        "\n",
        "print(df_instacart_orders.duplicated().sum())\n"
      ]
    },
    {
      "cell_type": "markdown",
      "id": "76b4f715",
      "metadata": {},
      "source": [
        "Para verificar si el dataFrame tiene valores duplicados hago uso de .duplicated() y .sum() para mostrar los duplicados y el numero total de filas enteras duplicadas."
      ]
    },
    {
      "cell_type": "markdown",
      "id": "PEkwUX_gvt5A",
      "metadata": {
        "id": "PEkwUX_gvt5A"
      },
      "source": [
        "¿Tienes líneas duplicadas? Si sí, ¿qué tienen en común?"
      ]
    },
    {
      "cell_type": "markdown",
      "id": "b1595824",
      "metadata": {},
      "source": [
        "Si tenemos lineas duplicadas (15 en total), en este caso los datos que tienen en comun provienen de las columnas order_dow que corresponde al día de la semana en el cual se hizo el pedido (miercoles) y Order_hour_of_day que corresponde a la hora en la que se hizo el pedido (2 am)."
      ]
    },
    {
      "cell_type": "code",
      "execution_count": 9,
      "id": "0d44de5d",
      "metadata": {
        "id": "0d44de5d",
        "trusted": false
      },
      "outputs": [],
      "source": [
        "# Basándote en tus hallazgos,\n",
        "# Verifica todos los pedidos que se hicieron el miércoles a las 2:00 a.m."
      ]
    },
    {
      "cell_type": "code",
      "execution_count": 10,
      "id": "5024f4e7",
      "metadata": {
        "trusted": false
      },
      "outputs": [
        {
          "name": "stdout",
          "output_type": "stream",
          "text": [
            "        order_id  user_id  order_number  order_dow  order_hour_of_day  \\\n",
            "4838     2766110   162084            41          3                  2   \n",
            "5156     2190225   138285            18          3                  2   \n",
            "15506     553049    58599            13          3                  2   \n",
            "18420     382357   120200            19          3                  2   \n",
            "24691     690242    77357             2          3                  2   \n",
            "...          ...      ...           ...        ...                ...   \n",
            "457013   3384021    14881             6          3                  2   \n",
            "458816    910166   164782            18          3                  2   \n",
            "459635   1680532   106435             6          3                  2   \n",
            "468324    222962    54979            59          3                  2   \n",
            "477526   2592344    46860            38          3                  2   \n",
            "\n",
            "        days_since_prior_order  \n",
            "4838                      16.0  \n",
            "5156                      11.0  \n",
            "15506                      7.0  \n",
            "18420                     11.0  \n",
            "24691                      9.0  \n",
            "...                        ...  \n",
            "457013                    30.0  \n",
            "458816                     4.0  \n",
            "459635                    21.0  \n",
            "468324                     3.0  \n",
            "477526                     3.0  \n",
            "\n",
            "[121 rows x 6 columns]\n"
          ]
        }
      ],
      "source": [
        "print(df_instacart_orders[(df_instacart_orders[\"order_dow\"]==3) & (df_instacart_orders[\"order_hour_of_day\"]==2)])"
      ]
    },
    {
      "cell_type": "markdown",
      "id": "vu2OWyoqwOx5",
      "metadata": {
        "id": "vu2OWyoqwOx5"
      },
      "source": [
        "¿Qué sugiere este resultado? "
      ]
    },
    {
      "cell_type": "markdown",
      "id": "38193a86",
      "metadata": {},
      "source": [
        "Este resultado sugiere que los pedidos que se hicieron el miercoles a las 2:00 am fueron en total 121 pedidos pero teniendo en cuenta que se verificaron 15 datos duplicados, el total de pedidos de ese día a esa hora son 106. Puede que el día miercoles a las 2 am se haya presentado un fallo en el sistema que generó duplicados de algunos pedidos."
      ]
    },
    {
      "cell_type": "code",
      "execution_count": 11,
      "id": "480563c7",
      "metadata": {
        "id": "480563c7",
        "trusted": false
      },
      "outputs": [],
      "source": [
        "# Elimina los pedidos duplicados"
      ]
    },
    {
      "cell_type": "code",
      "execution_count": 12,
      "id": "6b1fe05d",
      "metadata": {
        "trusted": false
      },
      "outputs": [],
      "source": [
        "df_instacart_orders=df_instacart_orders.drop_duplicates()"
      ]
    },
    {
      "cell_type": "markdown",
      "id": "53a3249e",
      "metadata": {},
      "source": [
        "Con el uso del metodo drop_duplicates() eliminamos los pedidos duplicados."
      ]
    },
    {
      "cell_type": "code",
      "execution_count": 13,
      "id": "0b2396a2",
      "metadata": {
        "id": "0b2396a2",
        "trusted": false
      },
      "outputs": [],
      "source": [
        "# Vuelve a verificar si hay filas duplicadas"
      ]
    },
    {
      "cell_type": "code",
      "execution_count": 14,
      "id": "d3744c6d",
      "metadata": {
        "trusted": false
      },
      "outputs": [
        {
          "name": "stdout",
          "output_type": "stream",
          "text": [
            "0\n"
          ]
        }
      ],
      "source": [
        "print(df_instacart_orders.duplicated().sum())"
      ]
    },
    {
      "cell_type": "markdown",
      "id": "7ab0c927",
      "metadata": {},
      "source": [
        "Luego de llamar el metodo drop_duplicates() ya no se evidencian filas enteras de duplicados en el DataFrame df_instacart_orders"
      ]
    },
    {
      "cell_type": "code",
      "execution_count": 15,
      "id": "f6113ef1",
      "metadata": {
        "id": "f6113ef1",
        "trusted": false
      },
      "outputs": [],
      "source": [
        "# Vuelve a verificar únicamente si hay IDs duplicados de pedidos\n"
      ]
    },
    {
      "cell_type": "code",
      "execution_count": 16,
      "id": "3cece197",
      "metadata": {
        "scrolled": true,
        "trusted": false
      },
      "outputs": [
        {
          "name": "stdout",
          "output_type": "stream",
          "text": [
            "0\n"
          ]
        }
      ],
      "source": [
        "print(df_instacart_orders.duplicated(subset=\"order_id\").sum())"
      ]
    },
    {
      "cell_type": "markdown",
      "id": "f9d3efd0",
      "metadata": {},
      "source": [
        "No se cuenta con valores duplicados en la columna order_id del DataFrame df_instcart_orders, lo que significa que no hay pedidos duplicados ya que cada pedido tiene un id diferente."
      ]
    },
    {
      "cell_type": "markdown",
      "id": "92503b73",
      "metadata": {},
      "source": [
        "Al verificar unicamente si hay IDs duplicados de pedidos, evidenciamos que no se tienen valores duplicados. Al verificar las columnas del Datafrmae df_instacart_orders evidenciamos que la unica columna que no deberia contener duplicados es order_id ya que es un valor unico para cada pedido o fila por lo que se hay duplicados, debemos eliminarlos, para el caso de las otras columnas, sus valores si pueden repetirse pero para \"order_id\" no es lógico."
      ]
    },
    {
      "cell_type": "markdown",
      "id": "45e6bc46",
      "metadata": {
        "id": "45e6bc46"
      },
      "source": [
        "### `products` data frame"
      ]
    },
    {
      "cell_type": "code",
      "execution_count": 17,
      "id": "5f526b5b-8175-46fa-a0fd-441767d50e64",
      "metadata": {
        "id": "5f526b5b-8175-46fa-a0fd-441767d50e64",
        "trusted": false
      },
      "outputs": [],
      "source": [
        "# Verifica si hay filas totalmente duplicadas"
      ]
    },
    {
      "cell_type": "code",
      "execution_count": 18,
      "id": "af96139e",
      "metadata": {
        "scrolled": true,
        "trusted": false
      },
      "outputs": [
        {
          "name": "stdout",
          "output_type": "stream",
          "text": [
            "0\n"
          ]
        }
      ],
      "source": [
        "print(df_products.duplicated().sum())"
      ]
    },
    {
      "cell_type": "markdown",
      "id": "acc59cdb",
      "metadata": {},
      "source": [
        "Para el caso del Data frame df_products, se verificó de igual forma si se tenía evidencia de filas completamente duplicadas pero el resultado fue que no se encuentran filas completamente duplicadas en el Dataframe"
      ]
    },
    {
      "cell_type": "code",
      "execution_count": 19,
      "id": "88daa4f4",
      "metadata": {
        "id": "88daa4f4",
        "trusted": false
      },
      "outputs": [],
      "source": [
        "# Revisa únicamente si hay ID de departamentos duplicados"
      ]
    },
    {
      "cell_type": "code",
      "execution_count": 20,
      "id": "c8bbb6b1",
      "metadata": {
        "trusted": false
      },
      "outputs": [
        {
          "name": "stdout",
          "output_type": "stream",
          "text": [
            "49673\n"
          ]
        }
      ],
      "source": [
        "print(df_products.duplicated(subset=\"department_id\").sum())"
      ]
    },
    {
      "cell_type": "markdown",
      "id": "b453a58f",
      "metadata": {},
      "source": [
        "Al verificar si se cuenta con Id de departamentos duplicados, evidenciamos que hay 49673 ID de departamentos duplicados de un total de 49694 teniendo en cuenta la información del metodo info(). En este sentido tenemos un total de 21 valores de departamento ID que se repiten."
      ]
    },
    {
      "cell_type": "code",
      "execution_count": 21,
      "id": "c773f0bf",
      "metadata": {
        "id": "c773f0bf",
        "trusted": false
      },
      "outputs": [],
      "source": [
        "# Revisa únicamente si hay nombres duplicados de productos (convierte los nombres a letras mayúsculas para compararlos mejor)"
      ]
    },
    {
      "cell_type": "code",
      "execution_count": 22,
      "id": "6c391e77",
      "metadata": {
        "trusted": false
      },
      "outputs": [
        {
          "name": "stdout",
          "output_type": "stream",
          "text": [
            "1361\n"
          ]
        }
      ],
      "source": [
        "df_products['product_name'] = df_products['product_name'].str.upper()\n",
        "print(df_products.duplicated(subset='product_name').sum())"
      ]
    },
    {
      "cell_type": "markdown",
      "id": "ed1a207b",
      "metadata": {},
      "source": [
        "Al verificar si se tienen nombres duplicados de productos se tiene que hay 1361 valores duplicados en la columna de los nombres de productos"
      ]
    },
    {
      "cell_type": "code",
      "execution_count": 23,
      "id": "01efd02e",
      "metadata": {
        "id": "01efd02e",
        "trusted": false
      },
      "outputs": [],
      "source": [
        "# Revisa si hay nombres duplicados de productos no faltantes"
      ]
    },
    {
      "cell_type": "code",
      "execution_count": 24,
      "id": "5f58779a",
      "metadata": {
        "trusted": false
      },
      "outputs": [
        {
          "name": "stdout",
          "output_type": "stream",
          "text": [
            "       product_id                                     product_name  aisle_id  \\\n",
            "2058         2059                                  BIOTIN 1000 MCG        47   \n",
            "5455         5456                 GREEN TEA WITH GINSENG AND HONEY        96   \n",
            "5558         5559                           CREAM OF MUSHROOM SOUP        69   \n",
            "7558         7559                        CINNAMON ROLLS WITH ICING       105   \n",
            "9037         9038                           AMERICAN CHEESE SLICES        21   \n",
            "...           ...                                              ...       ...   \n",
            "49689       49690                    HIGH PERFORMANCE ENERGY DRINK        64   \n",
            "49690       49691                    ORIGINAL PANCAKE & WAFFLE MIX       130   \n",
            "49691       49692  ORGANIC INSTANT OATMEAL LIGHT MAPLE BROWN SUGAR       130   \n",
            "49692       49693                           SPRING WATER BODY WASH       127   \n",
            "49693       49694                          BURRITO- STEAK & CHEESE        38   \n",
            "\n",
            "       department_id  \n",
            "2058              11  \n",
            "5455              20  \n",
            "5558              15  \n",
            "7558              13  \n",
            "9037              16  \n",
            "...              ...  \n",
            "49689              7  \n",
            "49690             14  \n",
            "49691             14  \n",
            "49692             11  \n",
            "49693              1  \n",
            "\n",
            "[104 rows x 4 columns]\n"
          ]
        }
      ],
      "source": [
        "print(df_products[df_products.duplicated(subset=['product_name']) & df_products['product_name'].notna()])"
      ]
    },
    {
      "cell_type": "markdown",
      "id": "4a0a3241",
      "metadata": {},
      "source": [
        "Al correr la linea de codigo anterior verificamos que hay 104 filas en cuya columna \"product_name\" se evidencian valores duplicados que no corresponden con valores nulos, ya que en esta fila se presentan valores nulos."
      ]
    },
    {
      "cell_type": "code",
      "execution_count": 25,
      "id": "5d9c3cc6",
      "metadata": {
        "trusted": false
      },
      "outputs": [
        {
          "name": "stdout",
          "output_type": "stream",
          "text": [
            "       product_id                      product_name  aisle_id  department_id\n",
            "2037         2038  GREEN TEA WITH GINSENG AND HONEY        94              7\n",
            "5455         5456  GREEN TEA WITH GINSENG AND HONEY        96             20\n",
            "19813       19814  GREEN TEA WITH GINSENG AND HONEY        94              7\n"
          ]
        }
      ],
      "source": [
        "print(df_products[df_products[\"product_name\"]==\"GREEN TEA WITH GINSENG AND HONEY\"])"
      ]
    },
    {
      "cell_type": "markdown",
      "id": "f5dabbda",
      "metadata": {},
      "source": [
        "En la linea de codigo anterior podemos ver que el producto \"GREEN TEA WITH GINSENG AND HONEY\" aparece en tres filas con diferente valor en product_id."
      ]
    },
    {
      "cell_type": "markdown",
      "id": "60f30db1",
      "metadata": {
        "id": "60f30db1"
      },
      "source": [
        "### `departments` data frame"
      ]
    },
    {
      "cell_type": "code",
      "execution_count": 26,
      "id": "fb410ad4-0fbf-4b80-bb09-23fdea79afe3",
      "metadata": {
        "id": "fb410ad4-0fbf-4b80-bb09-23fdea79afe3",
        "trusted": false
      },
      "outputs": [],
      "source": [
        "# Revisa si hay filas totalmente duplicadas"
      ]
    },
    {
      "cell_type": "code",
      "execution_count": 27,
      "id": "12e8fa18",
      "metadata": {
        "scrolled": true,
        "trusted": false
      },
      "outputs": [
        {
          "name": "stdout",
          "output_type": "stream",
          "text": [
            "0\n"
          ]
        }
      ],
      "source": [
        "print(df_departments.duplicated().sum())"
      ]
    },
    {
      "cell_type": "markdown",
      "id": "f6a2d48c",
      "metadata": {},
      "source": [
        "Para el caso del Data frame df_departments, se verificó de igual forma si se tenía evidencia de filas completamente duplicadas pero el resultado fue que no se encuentran filas completamente duplicadas en el Dataframe"
      ]
    },
    {
      "cell_type": "code",
      "execution_count": 28,
      "id": "332b12bb",
      "metadata": {
        "id": "332b12bb",
        "trusted": false
      },
      "outputs": [],
      "source": [
        "# Revisa únicamente si hay IDs duplicadas de productos"
      ]
    },
    {
      "cell_type": "code",
      "execution_count": 29,
      "id": "2fdd071c",
      "metadata": {
        "trusted": false
      },
      "outputs": [
        {
          "name": "stdout",
          "output_type": "stream",
          "text": [
            "0\n"
          ]
        }
      ],
      "source": [
        "print(df_departments.duplicated(subset=\"department_id\").sum())"
      ]
    },
    {
      "cell_type": "markdown",
      "id": "3aa51b34",
      "metadata": {},
      "source": [
        "Para el caso de la columna \"department_id\" del Dataframe df_departments, al llamar a duplicated, no se tiene evidencia de valores duplicados en dicha columna, en este sentido cada valor de departemnt_id es unico."
      ]
    },
    {
      "cell_type": "code",
      "execution_count": 30,
      "id": "43e734bd",
      "metadata": {
        "trusted": false
      },
      "outputs": [
        {
          "name": "stdout",
          "output_type": "stream",
          "text": [
            "    department_id       department\n",
            "0               1           frozen\n",
            "1               2            other\n",
            "2               3           bakery\n",
            "3               4          produce\n",
            "4               5          alcohol\n",
            "5               6    international\n",
            "6               7        beverages\n",
            "7               8             pets\n",
            "8               9  dry goods pasta\n",
            "9              10             bulk\n",
            "10             11    personal care\n",
            "11             12     meat seafood\n",
            "12             13           pantry\n",
            "13             14        breakfast\n",
            "14             15     canned goods\n",
            "15             16       dairy eggs\n",
            "16             17        household\n",
            "17             18           babies\n",
            "18             19           snacks\n",
            "19             20             deli\n",
            "20             21          missing\n"
          ]
        }
      ],
      "source": [
        "print(df_departments)"
      ]
    },
    {
      "cell_type": "markdown",
      "id": "0605745c",
      "metadata": {},
      "source": [
        "Cómo se ve en la línea de codigo anterior, el Dataframe tiene un total de 21 filas con 2 columnas en las cuales se presentan los departamentos descritos por un id y por el nombr del departamento."
      ]
    },
    {
      "cell_type": "markdown",
      "id": "889349c1",
      "metadata": {
        "id": "889349c1"
      },
      "source": [
        "### `aisles` data frame"
      ]
    },
    {
      "cell_type": "code",
      "execution_count": 31,
      "id": "9da89fb9-4679-40f5-ad0d-c34df753a3f8",
      "metadata": {
        "id": "9da89fb9-4679-40f5-ad0d-c34df753a3f8",
        "trusted": false
      },
      "outputs": [],
      "source": [
        "# Revisa si hay filas totalmente duplicadas"
      ]
    },
    {
      "cell_type": "code",
      "execution_count": 32,
      "id": "6c886c67",
      "metadata": {
        "trusted": false
      },
      "outputs": [
        {
          "name": "stdout",
          "output_type": "stream",
          "text": [
            "0\n"
          ]
        }
      ],
      "source": [
        "print(df_aisles.duplicated().sum())"
      ]
    },
    {
      "cell_type": "markdown",
      "id": "48d22ef6",
      "metadata": {},
      "source": [
        "Para el caso del Data frame df_aisles, se verificó de igual forma si se tenía evidencia de filas completamente duplicadas pero el resultado fue que no se encuentran filas completamente duplicadas en el Dataframe"
      ]
    },
    {
      "cell_type": "code",
      "execution_count": 33,
      "id": "da7c2822",
      "metadata": {
        "id": "da7c2822",
        "trusted": false
      },
      "outputs": [],
      "source": [
        "# Revisa únicamente si hay IDs duplicadas de pasillos"
      ]
    },
    {
      "cell_type": "code",
      "execution_count": 34,
      "id": "e6345794",
      "metadata": {
        "trusted": false
      },
      "outputs": [
        {
          "name": "stdout",
          "output_type": "stream",
          "text": [
            "0\n"
          ]
        }
      ],
      "source": [
        "print(df_aisles.duplicated(subset=\"aisle_id\").sum())"
      ]
    },
    {
      "cell_type": "markdown",
      "id": "af38bf24",
      "metadata": {},
      "source": [
        "Para el caso de la columna \"aisle_id\" del Dataframe df_aisles, al llamar a duplicated, no se tiene evidencia de valores duplicados en dicha columna, en este sentido cada valor de aisle_id es unico. Se tiene un caso identico al del df_depatments, en el cual cada fila tiene un valor que no se repite de id y de nombre."
      ]
    },
    {
      "cell_type": "markdown",
      "id": "274cd06a",
      "metadata": {
        "id": "274cd06a"
      },
      "source": [
        "### `order_products` data frame"
      ]
    },
    {
      "cell_type": "code",
      "execution_count": 35,
      "id": "52326689-84a8-4b8f-a881-7c68780f62c9",
      "metadata": {
        "id": "52326689-84a8-4b8f-a881-7c68780f62c9",
        "trusted": false
      },
      "outputs": [],
      "source": [
        "# Revisa si hay filas totalmente duplicadas"
      ]
    },
    {
      "cell_type": "code",
      "execution_count": 36,
      "id": "a8092b87",
      "metadata": {
        "trusted": false
      },
      "outputs": [
        {
          "name": "stdout",
          "output_type": "stream",
          "text": [
            "0\n"
          ]
        }
      ],
      "source": [
        "print(df_order_products.duplicated().sum())"
      ]
    },
    {
      "cell_type": "markdown",
      "id": "7623f2cb",
      "metadata": {},
      "source": [
        "Para el caso del Data frame df_order_products, se verificó de igual forma si se tenía evidencia de filas completamente duplicadas pero el resultado fue que no se encuentran filas completamente duplicadas en el Dataframe"
      ]
    },
    {
      "cell_type": "code",
      "execution_count": 37,
      "id": "7b861391",
      "metadata": {
        "id": "7b861391",
        "trusted": false
      },
      "outputs": [],
      "source": [
        "# Vuelve a verificar si hay cualquier otro duplicado engañoso"
      ]
    },
    {
      "cell_type": "code",
      "execution_count": 38,
      "id": "89a93b0c",
      "metadata": {
        "trusted": false
      },
      "outputs": [
        {
          "data": {
            "text/html": [
              "<div>\n",
              "<style scoped>\n",
              "    .dataframe tbody tr th:only-of-type {\n",
              "        vertical-align: middle;\n",
              "    }\n",
              "\n",
              "    .dataframe tbody tr th {\n",
              "        vertical-align: top;\n",
              "    }\n",
              "\n",
              "    .dataframe thead th {\n",
              "        text-align: right;\n",
              "    }\n",
              "</style>\n",
              "<table border=\"1\" class=\"dataframe\">\n",
              "  <thead>\n",
              "    <tr style=\"text-align: right;\">\n",
              "      <th></th>\n",
              "      <th>order_id</th>\n",
              "      <th>product_id</th>\n",
              "      <th>conteos</th>\n",
              "    </tr>\n",
              "  </thead>\n",
              "  <tbody>\n",
              "  </tbody>\n",
              "</table>\n",
              "</div>"
            ],
            "text/plain": [
              "Empty DataFrame\n",
              "Columns: [order_id, product_id, conteos]\n",
              "Index: []"
            ]
          },
          "execution_count": 38,
          "metadata": {},
          "output_type": "execute_result"
        }
      ],
      "source": [
        "df_order_products.groupby([\"order_id\",\"product_id\"],as_index=False).agg(conteos=(\"reordered\",\"count\")).query(\"conteos>1\")"
      ]
    },
    {
      "cell_type": "markdown",
      "id": "299a533e",
      "metadata": {},
      "source": [
        "El posible duplicado engañoso que se consideró es que se encuentre para un mismo order_id un valor duplicado de product_id, en este caaso con la linea de codigo anterior verificamos que no hay valores repetidos de product_id para un mismo order_id."
      ]
    },
    {
      "cell_type": "markdown",
      "id": "1e46de76",
      "metadata": {
        "id": "1e46de76"
      },
      "source": [
        "## Encuentra y elimina los valores ausentes\n",
        "\n",
        "Al trabajar con valores duplicados, pudimos observar que también nos falta investigar valores ausentes:\n",
        "\n",
        "* La columna `'product_name'` de la tabla products.\n",
        "* La columna `'days_since_prior_order'` de la tabla orders.\n",
        "* La columna `'add_to_cart_order'` de la tabla order_productos."
      ]
    },
    {
      "cell_type": "markdown",
      "id": "c0aebd78",
      "metadata": {
        "id": "c0aebd78"
      },
      "source": [
        "### `products` data frame"
      ]
    },
    {
      "cell_type": "code",
      "execution_count": 39,
      "id": "fe4a8b0f",
      "metadata": {
        "id": "fe4a8b0f",
        "trusted": false
      },
      "outputs": [],
      "source": [
        "# Encuentra los valores ausentes en la columna 'product_name'"
      ]
    },
    {
      "cell_type": "code",
      "execution_count": 40,
      "id": "6d685fe0",
      "metadata": {
        "trusted": false
      },
      "outputs": [
        {
          "name": "stdout",
          "output_type": "stream",
          "text": [
            "product_id          0\n",
            "product_name     1258\n",
            "aisle_id            0\n",
            "department_id       0\n",
            "dtype: int64\n"
          ]
        }
      ],
      "source": [
        "print(df_products.isna().sum())"
      ]
    },
    {
      "cell_type": "code",
      "execution_count": 41,
      "id": "59e4ee09",
      "metadata": {
        "trusted": false
      },
      "outputs": [
        {
          "name": "stdout",
          "output_type": "stream",
          "text": [
            "       product_id product_name  aisle_id  department_id\n",
            "37             38          NaN       100             21\n",
            "71             72          NaN       100             21\n",
            "109           110          NaN       100             21\n",
            "296           297          NaN       100             21\n",
            "416           417          NaN       100             21\n",
            "...           ...          ...       ...            ...\n",
            "49552       49553          NaN       100             21\n",
            "49574       49575          NaN       100             21\n",
            "49640       49641          NaN       100             21\n",
            "49663       49664          NaN       100             21\n",
            "49668       49669          NaN       100             21\n",
            "\n",
            "[1258 rows x 4 columns]\n"
          ]
        }
      ],
      "source": [
        "print(df_products[df_products['product_name'].isna()])"
      ]
    },
    {
      "cell_type": "markdown",
      "id": "a8f505f5",
      "metadata": {},
      "source": [
        "Al llamar isna() en nuestro DataFrame, evidenciamos que la columna product_name tiene 1258 valores ausentes. Para el caso de las otras columnas no se tienen valores ausentes."
      ]
    },
    {
      "cell_type": "code",
      "execution_count": 42,
      "id": "e96167bc",
      "metadata": {
        "id": "e96167bc",
        "trusted": false
      },
      "outputs": [],
      "source": [
        "#  ¿Todos los nombres de productos ausentes están relacionados con el pasillo con ID 100?"
      ]
    },
    {
      "cell_type": "code",
      "execution_count": 43,
      "id": "b029dc2a",
      "metadata": {
        "scrolled": true,
        "trusted": false
      },
      "outputs": [
        {
          "name": "stdout",
          "output_type": "stream",
          "text": [
            "       product_id product_name  aisle_id  department_id\n",
            "37             38          NaN       100             21\n",
            "71             72          NaN       100             21\n",
            "109           110          NaN       100             21\n",
            "296           297          NaN       100             21\n",
            "416           417          NaN       100             21\n",
            "...           ...          ...       ...            ...\n",
            "49552       49553          NaN       100             21\n",
            "49574       49575          NaN       100             21\n",
            "49640       49641          NaN       100             21\n",
            "49663       49664          NaN       100             21\n",
            "49668       49669          NaN       100             21\n",
            "\n",
            "[1258 rows x 4 columns]\n"
          ]
        }
      ],
      "source": [
        "print(df_products[(df_products['product_name'].isna()) & (df_products['aisle_id']==100)])"
      ]
    },
    {
      "cell_type": "markdown",
      "id": "fef71fd9",
      "metadata": {},
      "source": [
        "Al generar la linea de codigo que filtra el DataFrame df_products en relación con las filas donde la columna \"product_name\" es nula y la columna \"aisle_id\" es igual a 100, evidenciamos que la cantidad de filas es 1258, la misma cantidad de filas resultante al imprimir el Dataframe filtrado donde las filas mostradas se relacionan con los valores nulos de la columna \"product_:name\". En este sentido se concluye que todos los nombre de los productos ausentes están rlacionados con el pasillo con ID igual a 100"
      ]
    },
    {
      "cell_type": "code",
      "execution_count": 44,
      "id": "8fd0a541",
      "metadata": {
        "id": "8fd0a541",
        "trusted": false
      },
      "outputs": [],
      "source": [
        "# ¿Todos los nombres de productos ausentes están relacionados con el departamento con ID 21?"
      ]
    },
    {
      "cell_type": "code",
      "execution_count": 45,
      "id": "b86da1db",
      "metadata": {
        "scrolled": true,
        "trusted": false
      },
      "outputs": [
        {
          "name": "stdout",
          "output_type": "stream",
          "text": [
            "       product_id product_name  aisle_id  department_id\n",
            "37             38          NaN       100             21\n",
            "71             72          NaN       100             21\n",
            "109           110          NaN       100             21\n",
            "296           297          NaN       100             21\n",
            "416           417          NaN       100             21\n",
            "...           ...          ...       ...            ...\n",
            "49552       49553          NaN       100             21\n",
            "49574       49575          NaN       100             21\n",
            "49640       49641          NaN       100             21\n",
            "49663       49664          NaN       100             21\n",
            "49668       49669          NaN       100             21\n",
            "\n",
            "[1258 rows x 4 columns]\n"
          ]
        }
      ],
      "source": [
        "print(df_products[(df_products['product_name'].isna()) & (df_products['department_id']==21)])"
      ]
    },
    {
      "cell_type": "markdown",
      "id": "6223cdcd",
      "metadata": {},
      "source": [
        "Al generar la linea de codigo que filtra el DataFrame df_products en relación con las filas donde la columna \"product_name\" es nula y la columna \"department_id\" es igual a 21, evidenciamos que la cantidad de filas es 1258, la misma cantidad de filas resultante al imprimir el Dataframe filtrado donde las filas mostradas se relacionan con los valores nulos de la columna \"product_:name\". En este sentido se concluye que todos los nombre de los productos ausentes están rlacionados con el departamento con id 21"
      ]
    },
    {
      "cell_type": "code",
      "execution_count": 46,
      "id": "325c3464",
      "metadata": {
        "id": "325c3464",
        "trusted": false
      },
      "outputs": [],
      "source": [
        "# Usa las tablas department y aisle para revisar los datos del pasillo con ID 100 y el departamento con ID 21."
      ]
    },
    {
      "cell_type": "code",
      "execution_count": 47,
      "id": "b27d8db4",
      "metadata": {
        "scrolled": true,
        "trusted": false
      },
      "outputs": [
        {
          "name": "stdout",
          "output_type": "stream",
          "text": [
            "    aisle_id    aisle\n",
            "99       100  missing\n"
          ]
        }
      ],
      "source": [
        "print(df_aisles[df_aisles[\"aisle_id\"]==100])"
      ]
    },
    {
      "cell_type": "markdown",
      "id": "a09a6f84",
      "metadata": {},
      "source": [
        "Al usar los datos del DataFrame aisle y revisar el valor asociado al id 100, evidenciamos que es \"missing\" que corresponde a faltante. De acuerdo con lo anterior, el tipo de producto no se agrego ya que se encuentra en un un pasillo faltante osea que no se encuentra en la tienda."
      ]
    },
    {
      "cell_type": "code",
      "execution_count": 48,
      "id": "d0f54142",
      "metadata": {
        "scrolled": true,
        "trusted": false
      },
      "outputs": [
        {
          "name": "stdout",
          "output_type": "stream",
          "text": [
            "    department_id department\n",
            "20             21    missing\n"
          ]
        }
      ],
      "source": [
        "print(df_departments[df_departments[\"department_id\"]==21])"
      ]
    },
    {
      "cell_type": "markdown",
      "id": "658e1cc5",
      "metadata": {},
      "source": [
        "Al usar los datos del DataFrame department y revisar el valor asociado al id 21, evidenciamos que es \"missing\" que corresponde a faltante. De acuerdo con lo anterior, el tipo de producto no se agrego ya que se encuentra asociado a un departamento faltante osea que no se encuentra en la tienda."
      ]
    },
    {
      "cell_type": "code",
      "execution_count": 49,
      "id": "6b295120",
      "metadata": {
        "id": "6b295120",
        "trusted": false
      },
      "outputs": [],
      "source": [
        "# Completa los nombres de productos ausentes con 'Unknown'"
      ]
    },
    {
      "cell_type": "code",
      "execution_count": 50,
      "id": "8c751a1a",
      "metadata": {
        "trusted": false
      },
      "outputs": [],
      "source": [
        "df_products['product_name'] = df_products['product_name'].fillna('unknown')"
      ]
    },
    {
      "cell_type": "markdown",
      "id": "b677d3a8",
      "metadata": {},
      "source": [
        "Con la anterior linea de codigo usamos .fillna() para cambiar los valores ausentes de la columna \"product_name\" del Dataframe df_products por el valor \"unknown\""
      ]
    },
    {
      "cell_type": "markdown",
      "id": "7eb45c86",
      "metadata": {
        "id": "7eb45c86"
      },
      "source": [
        "### `orders` data frame"
      ]
    },
    {
      "cell_type": "code",
      "execution_count": 51,
      "id": "93e41d96",
      "metadata": {
        "id": "93e41d96",
        "trusted": false
      },
      "outputs": [],
      "source": [
        "# Encuentra los valores ausentes"
      ]
    },
    {
      "cell_type": "code",
      "execution_count": 52,
      "id": "0febd5cf",
      "metadata": {
        "trusted": false
      },
      "outputs": [
        {
          "name": "stdout",
          "output_type": "stream",
          "text": [
            "order_id                      0\n",
            "user_id                       0\n",
            "order_number                  0\n",
            "order_dow                     0\n",
            "order_hour_of_day             0\n",
            "days_since_prior_order    28817\n",
            "dtype: int64\n"
          ]
        }
      ],
      "source": [
        "print(df_instacart_orders.isna().sum())"
      ]
    },
    {
      "cell_type": "markdown",
      "id": "0fd3d788",
      "metadata": {},
      "source": [
        "Al llamar isna() en nuestro DataFrame, evidenciamos que la columna days_since_prior_order tiene 28817 valores ausentes. Para el caso de las otras columnas no se tienen valores ausentes."
      ]
    },
    {
      "cell_type": "code",
      "execution_count": 53,
      "id": "166e5a86",
      "metadata": {
        "id": "166e5a86",
        "trusted": false
      },
      "outputs": [],
      "source": [
        "# ¿Hay algún valor ausente que no sea el primer pedido del cliente?"
      ]
    },
    {
      "cell_type": "code",
      "execution_count": 54,
      "id": "9eafb207",
      "metadata": {
        "trusted": false
      },
      "outputs": [
        {
          "name": "stdout",
          "output_type": "stream",
          "text": [
            "        order_id  user_id  order_number  order_dow  order_hour_of_day  \\\n",
            "28        133707   182261             1          3                 10   \n",
            "96        787445    25685             1          6                 18   \n",
            "100       294410   111449             1          0                 19   \n",
            "103      2869915   123958             1          4                 16   \n",
            "104      2521921    42286             1          3                 18   \n",
            "...          ...      ...           ...        ...                ...   \n",
            "478895   2589657   205028             1          0                 16   \n",
            "478896   2222353   141211             1          2                 13   \n",
            "478922   2272807   204154             1          1                 15   \n",
            "478926   2499542    68810             1          4                 19   \n",
            "478945   1387033    22496             1          5                 14   \n",
            "\n",
            "        days_since_prior_order  \n",
            "28                         NaN  \n",
            "96                         NaN  \n",
            "100                        NaN  \n",
            "103                        NaN  \n",
            "104                        NaN  \n",
            "...                        ...  \n",
            "478895                     NaN  \n",
            "478896                     NaN  \n",
            "478922                     NaN  \n",
            "478926                     NaN  \n",
            "478945                     NaN  \n",
            "\n",
            "[28817 rows x 6 columns]\n"
          ]
        }
      ],
      "source": [
        "print(df_instacart_orders[(df_instacart_orders['days_since_prior_order'].isna()) & (df_instacart_orders['order_number']==1)])"
      ]
    },
    {
      "cell_type": "markdown",
      "id": "3553872b",
      "metadata": {},
      "source": [
        "Al filtrar el DataFrame a partir de 2 condiciones, de las cuales la primera corresponde a las filas del Dataframe donde la columna \"days_since_prior_order\" tiene valores nulos y la segunda es cuando la columna \"order_number\" tenga un valor igual a 1, nos da como resultado un total de 28817 filas. El numero de filas corresponde con el numero de valores ausentes de la columna \"days_since_prior_order\", en sete sentido se concluye qye todos los valores nulos de \"days_since_prior_order\" se relacionan con el primer pedido del cliente"
      ]
    },
    {
      "cell_type": "markdown",
      "id": "4e23d089",
      "metadata": {
        "id": "4e23d089"
      },
      "source": [
        "Describe brevemente tus hallazgos y lo que hiciste con ellos."
      ]
    },
    {
      "cell_type": "markdown",
      "id": "69dc9ca4",
      "metadata": {
        "id": "69dc9ca4"
      },
      "source": [
        "### `order_products` data frame"
      ]
    },
    {
      "cell_type": "code",
      "execution_count": 55,
      "id": "b8240253",
      "metadata": {
        "id": "b8240253",
        "trusted": false
      },
      "outputs": [],
      "source": [
        "# Encuentra los valores ausentes"
      ]
    },
    {
      "cell_type": "code",
      "execution_count": 56,
      "id": "7bad0e20",
      "metadata": {
        "trusted": false
      },
      "outputs": [
        {
          "name": "stdout",
          "output_type": "stream",
          "text": [
            "order_id               0\n",
            "product_id             0\n",
            "add_to_cart_order    836\n",
            "reordered              0\n",
            "dtype: int64\n"
          ]
        }
      ],
      "source": [
        "print(df_order_products.isna().sum())"
      ]
    },
    {
      "cell_type": "markdown",
      "id": "d4af67a9",
      "metadata": {},
      "source": [
        "Al llamar isna() en nuestro DataFrame, evidenciamos que la columna add_to_cart_order tiene 836 valores ausentes. Para el caso de las otras columnas no se tienen valores ausentes."
      ]
    },
    {
      "cell_type": "code",
      "execution_count": 57,
      "id": "9a78e5ee",
      "metadata": {
        "id": "9a78e5ee",
        "trusted": false
      },
      "outputs": [],
      "source": [
        "# ¿Cuáles son los valores mínimos y máximos en esta columna?"
      ]
    },
    {
      "cell_type": "code",
      "execution_count": 58,
      "id": "d81e4281",
      "metadata": {
        "trusted": false
      },
      "outputs": [
        {
          "name": "stdout",
          "output_type": "stream",
          "text": [
            "1.0\n",
            "64.0\n"
          ]
        }
      ],
      "source": [
        "print(df_order_products[\"add_to_cart_order\"].min())\n",
        "print(df_order_products[\"add_to_cart_order\"].max())"
      ]
    },
    {
      "cell_type": "markdown",
      "id": "8d4dac14",
      "metadata": {},
      "source": [
        "Al verificar los valores minimos y maximos de la columna \"add_to_cart_order\", evidenciamos que se tiene un rango de 1 hasta 64. Cabe resaltar que los valores de esta columna corresponden con el orden secuencial en el que se añadio cada articulo en el carrito. Su valor minimo es 1 para generar un pedido y su valor maximo es 64 que es la cantidad maxima de productos por orden."
      ]
    },
    {
      "cell_type": "code",
      "execution_count": 59,
      "id": "ab9d0c2b",
      "metadata": {
        "id": "ab9d0c2b",
        "trusted": false
      },
      "outputs": [],
      "source": [
        "# Guarda todas las IDs de pedidos que tengan un valor ausente en 'add_to_cart_order'"
      ]
    },
    {
      "cell_type": "code",
      "execution_count": 60,
      "id": "668d5938",
      "metadata": {
        "trusted": false
      },
      "outputs": [],
      "source": [
        "add_to_cart_order= df_order_products[df_order_products[\"add_to_cart_order\"].isna()][\"order_id\"]"
      ]
    },
    {
      "cell_type": "code",
      "execution_count": 61,
      "id": "fd17289d",
      "metadata": {
        "scrolled": true,
        "trusted": false
      },
      "outputs": [
        {
          "name": "stdout",
          "output_type": "stream",
          "text": [
            "737        2449164\n",
            "9926       1968313\n",
            "14394      2926893\n",
            "16418      1717990\n",
            "30114      1959075\n",
            "            ...   \n",
            "4505662    1800005\n",
            "4511400    1633337\n",
            "4517562     404157\n",
            "4534112    1673227\n",
            "4535739    1832957\n",
            "Name: order_id, Length: 836, dtype: int64\n"
          ]
        }
      ],
      "source": [
        "print(add_to_cart_order)"
      ]
    },
    {
      "cell_type": "markdown",
      "id": "04596d24",
      "metadata": {},
      "source": [
        "Con la línea de codigo anterior guardamos en un series, los id de los pedidos que se relacionen con un valor ausente en la columna \"add_to cart_order\". Adicionalmente imprimimos el series y verificamos que la longitud del mismo corresponde con el numero de valores ausentes en la columna \"add_to cart_order\"."
      ]
    },
    {
      "cell_type": "code",
      "execution_count": 62,
      "id": "d3a828e4",
      "metadata": {
        "id": "54c31695",
        "trusted": false
      },
      "outputs": [],
      "source": [
        "# ¿Todos los pedidos con valores ausentes tienen más de 64 productos?\n",
        "# Agrupa todos los pedidos con datos ausentes por su ID de pedido.\n",
        "# Cuenta el número de 'product_id' en cada pedido y revisa el valor mínimo del conteo.\n"
      ]
    },
    {
      "cell_type": "code",
      "execution_count": 63,
      "id": "55fee789",
      "metadata": {
        "trusted": false
      },
      "outputs": [
        {
          "data": {
            "text/html": [
              "<div>\n",
              "<style scoped>\n",
              "    .dataframe tbody tr th:only-of-type {\n",
              "        vertical-align: middle;\n",
              "    }\n",
              "\n",
              "    .dataframe tbody tr th {\n",
              "        vertical-align: top;\n",
              "    }\n",
              "\n",
              "    .dataframe thead th {\n",
              "        text-align: right;\n",
              "    }\n",
              "</style>\n",
              "<table border=\"1\" class=\"dataframe\">\n",
              "  <thead>\n",
              "    <tr style=\"text-align: right;\">\n",
              "      <th></th>\n",
              "      <th>order_id</th>\n",
              "      <th>product_id</th>\n",
              "    </tr>\n",
              "  </thead>\n",
              "  <tbody>\n",
              "  </tbody>\n",
              "</table>\n",
              "</div>"
            ],
            "text/plain": [
              "Empty DataFrame\n",
              "Columns: [order_id, product_id]\n",
              "Index: []"
            ]
          },
          "execution_count": 63,
          "metadata": {},
          "output_type": "execute_result"
        }
      ],
      "source": [
        "df_order_products.query(\"order_id in @add_to_cart_order\").groupby(\"order_id\")[\"product_id\"].count().reset_index().query(\"product_id <65\")"
      ]
    },
    {
      "cell_type": "markdown",
      "id": "b3864f2a",
      "metadata": {},
      "source": [
        "En la linea de codigo anterior filtramos el DataFrame original a partir de los order_id que se encuentran en nuestro series y agrupamos los datos de la columna order_id por el valor de product_id para luego filtrar nuevamente con el criterio de que la cuenta de los product_id sea menor a 65 y cómo vemos el resultado es nulo, en este caso los products_id asociados a un order id no superan el valor de 65, esto significa que luego de 65 secuencias de productos agregados en el carrito ya no se agregan más y el valor de la columna \"add_to_cart_order\" se vuelve nulo lo que puede inidicar que no se pueden generar ordenes de más de 64 productos."
      ]
    },
    {
      "cell_type": "code",
      "execution_count": 64,
      "id": "a9c14f8f",
      "metadata": {
        "scrolled": true,
        "trusted": false
      },
      "outputs": [
        {
          "data": {
            "text/html": [
              "<div>\n",
              "<style scoped>\n",
              "    .dataframe tbody tr th:only-of-type {\n",
              "        vertical-align: middle;\n",
              "    }\n",
              "\n",
              "    .dataframe tbody tr th {\n",
              "        vertical-align: top;\n",
              "    }\n",
              "\n",
              "    .dataframe thead th {\n",
              "        text-align: right;\n",
              "    }\n",
              "</style>\n",
              "<table border=\"1\" class=\"dataframe\">\n",
              "  <thead>\n",
              "    <tr style=\"text-align: right;\">\n",
              "      <th></th>\n",
              "      <th>order_id</th>\n",
              "      <th>product_id</th>\n",
              "    </tr>\n",
              "  </thead>\n",
              "  <tbody>\n",
              "    <tr>\n",
              "      <th>0</th>\n",
              "      <td>9310</td>\n",
              "      <td>65</td>\n",
              "    </tr>\n",
              "    <tr>\n",
              "      <th>13</th>\n",
              "      <td>747668</td>\n",
              "      <td>65</td>\n",
              "    </tr>\n",
              "    <tr>\n",
              "      <th>32</th>\n",
              "      <td>1598369</td>\n",
              "      <td>65</td>\n",
              "    </tr>\n",
              "    <tr>\n",
              "      <th>37</th>\n",
              "      <td>1677118</td>\n",
              "      <td>65</td>\n",
              "    </tr>\n",
              "    <tr>\n",
              "      <th>50</th>\n",
              "      <td>2170451</td>\n",
              "      <td>65</td>\n",
              "    </tr>\n",
              "    <tr>\n",
              "      <th>...</th>\n",
              "      <td>...</td>\n",
              "      <td>...</td>\n",
              "    </tr>\n",
              "    <tr>\n",
              "      <th>45</th>\n",
              "      <td>1959075</td>\n",
              "      <td>98</td>\n",
              "    </tr>\n",
              "    <tr>\n",
              "      <th>5</th>\n",
              "      <td>171934</td>\n",
              "      <td>104</td>\n",
              "    </tr>\n",
              "    <tr>\n",
              "      <th>49</th>\n",
              "      <td>2136777</td>\n",
              "      <td>108</td>\n",
              "    </tr>\n",
              "    <tr>\n",
              "      <th>67</th>\n",
              "      <td>3308010</td>\n",
              "      <td>115</td>\n",
              "    </tr>\n",
              "    <tr>\n",
              "      <th>1</th>\n",
              "      <td>61355</td>\n",
              "      <td>127</td>\n",
              "    </tr>\n",
              "  </tbody>\n",
              "</table>\n",
              "<p>70 rows × 2 columns</p>\n",
              "</div>"
            ],
            "text/plain": [
              "    order_id  product_id\n",
              "0       9310          65\n",
              "13    747668          65\n",
              "32   1598369          65\n",
              "37   1677118          65\n",
              "50   2170451          65\n",
              "..       ...         ...\n",
              "45   1959075          98\n",
              "5     171934         104\n",
              "49   2136777         108\n",
              "67   3308010         115\n",
              "1      61355         127\n",
              "\n",
              "[70 rows x 2 columns]"
            ]
          },
          "execution_count": 64,
          "metadata": {},
          "output_type": "execute_result"
        }
      ],
      "source": [
        "df_order_products.query(\"order_id in @add_to_cart_order\").groupby(\"order_id\")[\"product_id\"].count().reset_index().sort_values(by=\"product_id\")"
      ]
    },
    {
      "cell_type": "markdown",
      "id": "475c3b9f",
      "metadata": {},
      "source": [
        "En la linea de codigo anterior verificamos que en nuestro dataframe filtrado con los order_id asociados a valores nulos de la columna \"add_to_cart_order\", el valor minimo es de 65, lo que respalda la suposición de que ordenes con más de 64 productos se relacionan con un valor nulo de la columna \"add_to_cart_order\"."
      ]
    },
    {
      "cell_type": "code",
      "execution_count": 65,
      "id": "7a987d08",
      "metadata": {
        "id": "7a987d08",
        "trusted": false
      },
      "outputs": [],
      "source": [
        "# Remplaza los valores ausentes en la columna 'add_to_cart? con 999 y convierte la columna al tipo entero."
      ]
    },
    {
      "cell_type": "code",
      "execution_count": 66,
      "id": "ba3adc88",
      "metadata": {
        "trusted": false
      },
      "outputs": [],
      "source": [
        "df_order_products[\"add_to_cart_order\"]=df_order_products[\"add_to_cart_order\"].fillna(999)"
      ]
    },
    {
      "cell_type": "code",
      "execution_count": 67,
      "id": "a2789692",
      "metadata": {
        "trusted": false
      },
      "outputs": [],
      "source": [
        "df_order_products['add_to_cart_order'] = df_order_products['add_to_cart_order'].astype(int)"
      ]
    },
    {
      "cell_type": "markdown",
      "id": "fea4bcc7",
      "metadata": {
        "id": "fea4bcc7"
      },
      "source": [
        "Describe brevemente tus hallazgos y lo que hiciste con ellos."
      ]
    },
    {
      "cell_type": "markdown",
      "id": "RnplPFY1gSrb",
      "metadata": {
        "id": "RnplPFY1gSrb"
      },
      "source": [
        "## Conclusiones\n",
        "\n",
        "Mis conclusiones intermedias se asocian al preprocesamiento de los datos, verificamos los valores duplicados y ausentes de nuestros conjuntos de datos y en el caso donde los valores duplicados pueden afectar el posterior procesamiento de los datos, se eliminaron, para el caso de los valores ausentes se identificó si estos valores comprometen el procesamiento de los datos y se modificaron sus valores para que sea más eficiente su identificación el procesamiento cómo el caso de los valores ausentes en la columna \"add_to_cart_order\" cuyos valores se modificaron a 999 o en el caso de la columna \"product_name\" en el dataframe de productos, en cuyo caso se modificaron los valores ausentes por \"unkonwn\". Me parecio muy importante el preprocesamiento de los datos para tener un acercamiento a estos y verificar los datos de los distintos conjuntos de datos\n"
      ]
    },
    {
      "cell_type": "markdown",
      "id": "UjrOIwTcz3ri",
      "metadata": {
        "id": "UjrOIwTcz3ri"
      },
      "source": [
        "# Paso 3. Análisis de los datos\n",
        "\n",
        "Una vez los datos estén procesados y listos, haz el siguiente análisis:"
      ]
    },
    {
      "cell_type": "markdown",
      "id": "turkish-kidney",
      "metadata": {
        "id": "turkish-kidney"
      },
      "source": [
        "# [A] Fácil (deben completarse todos para aprobar)\n",
        "\n",
        "1. Verifica que los valores en las columnas `'order_hour_of_day'` y `'order_dow'` en la tabla orders sean razonables (es decir, `'order_hour_of_day'` oscile entre 0 y 23 y `'order_dow'` oscile entre 0 y 6).\n",
        "2. Crea un gráfico que muestre el número de personas que hacen pedidos dependiendo de la hora del día.\n",
        "3. Crea un gráfico que muestre qué día de la semana la gente hace sus compras.\n",
        "4. Crea un gráfico que muestre el tiempo que la gente espera hasta hacer su siguiente pedido, y comenta sobre los valores mínimos y máximos."
      ]
    },
    {
      "cell_type": "markdown",
      "id": "short-capability",
      "metadata": {
        "id": "short-capability"
      },
      "source": [
        "### [A1] Verifica que los valores sean sensibles"
      ]
    },
    {
      "cell_type": "code",
      "execution_count": 68,
      "id": "growing-fruit",
      "metadata": {
        "id": "growing-fruit",
        "trusted": false
      },
      "outputs": [
        {
          "name": "stdout",
          "output_type": "stream",
          "text": [
            "24\n",
            "\n",
            "0\n",
            "\n",
            "23\n"
          ]
        }
      ],
      "source": [
        "print(df_instacart_orders[\"order_hour_of_day\"].nunique())\n",
        "print()\n",
        "print(df_instacart_orders[\"order_hour_of_day\"].min())\n",
        "print()\n",
        "print(df_instacart_orders[\"order_hour_of_day\"].max())"
      ]
    },
    {
      "cell_type": "markdown",
      "id": "efbc593a",
      "metadata": {},
      "source": [
        "En la linea de codigo anterior, verificamos que la columna \"order_hour_of_day\" presenta 24 valores unicos además que el valor minimo es 0 y el valor maximo es 23, lo que es lógico porque son las horas del día."
      ]
    },
    {
      "cell_type": "code",
      "execution_count": 69,
      "id": "accessory-malaysia",
      "metadata": {
        "id": "accessory-malaysia",
        "scrolled": true,
        "trusted": false
      },
      "outputs": [
        {
          "name": "stdout",
          "output_type": "stream",
          "text": [
            "7\n",
            "\n",
            "0\n",
            "\n",
            "6\n"
          ]
        }
      ],
      "source": [
        "print(df_instacart_orders[\"order_dow\"].nunique())\n",
        "print()\n",
        "print(df_instacart_orders[\"order_dow\"].min())\n",
        "print()\n",
        "print(df_instacart_orders[\"order_dow\"].max())"
      ]
    },
    {
      "cell_type": "markdown",
      "id": "fa928dc9",
      "metadata": {},
      "source": [
        "En la linea de codigo anterior, verificamos que la columna \"order_dow\" presenta 7 valores unicos además que el valor minimo es 0 y el valor maximo es 6, lo que es lógico porque son los días de la semana además de que en la descripción de la columna se especifica que (0 es domingo y se continua la secuencia de 0-6 siendo 6 el sabado)."
      ]
    },
    {
      "cell_type": "markdown",
      "id": "a6743a70",
      "metadata": {
        "id": "a6743a70"
      },
      "source": [
        "### [A2] Para cada hora del día, ¿cuántas personas hacen órdenes?"
      ]
    },
    {
      "cell_type": "markdown",
      "id": "6bbb50a0",
      "metadata": {},
      "source": [
        "# Falta mejorar el grafico"
      ]
    },
    {
      "cell_type": "code",
      "execution_count": 70,
      "id": "0c1899b2",
      "metadata": {
        "trusted": false
      },
      "outputs": [
        {
          "data": {
            "image/png": "[encoded data removed]",
            "text/plain": [
              "<Figure size 640x480 with 1 Axes>"
            ]
          },
          "metadata": {},
          "output_type": "display_data"
        }
      ],
      "source": [
        "df_instacart_orders.groupby('order_hour_of_day')['user_id'].nunique().plot(kind='bar',title=\"People orders per hour\", xlabel=\"Hour of day\", ylabel= \"People who place orders\")\n",
        "plt.show()"
      ]
    },
    {
      "cell_type": "markdown",
      "id": "29e096c3",
      "metadata": {},
      "source": [
        "A partir del gráfico anterior evidenciamos una tendencia, en la madrugada, especificamente entre las 12 am y las 6 am no se hacen menos de 5000 ordenes, a partir de las 7 se presenta un incremento hasta más de 30000 ordenes que se sostiene a hasta las 4 pm para caer progresivamente al orden de 5000 ordenes a las 11 pm."
      ]
    },
    {
      "cell_type": "markdown",
      "id": "documented-command",
      "metadata": {
        "id": "documented-command"
      },
      "source": [
        "### [A3] ¿Qué día de la semana compran víveres las personas?"
      ]
    },
    {
      "cell_type": "code",
      "execution_count": 71,
      "id": "chief-digit",
      "metadata": {
        "id": "chief-digit",
        "trusted": false
      },
      "outputs": [],
      "source": [
        "orders_by_day = df_instacart_orders['order_dow'].value_counts().sort_index()"
      ]
    },
    {
      "cell_type": "code",
      "execution_count": 72,
      "id": "1b361577",
      "metadata": {
        "trusted": false
      },
      "outputs": [
        {
          "name": "stdout",
          "output_type": "stream",
          "text": [
            "0    84090\n",
            "1    82185\n",
            "2    65833\n",
            "3    60897\n",
            "4    59810\n",
            "5    63488\n",
            "6    62649\n",
            "Name: order_dow, dtype: int64\n"
          ]
        }
      ],
      "source": [
        "print(df_instacart_orders['order_dow'].value_counts().sort_index())"
      ]
    },
    {
      "cell_type": "markdown",
      "id": "10e2331c",
      "metadata": {},
      "source": [
        "Generamos un objeto series en el cual se encuentra la cantidad de valores asociados con la columna \"order_dow\" además agrgamos el atributo .sort_index() para que el indice de \"order_dow\" que corresponde al valor de dicha columna en el dataframe se muestre en orden de 0-6 que corresponde a domingo-sabado entendiendo que cada valor en secuencia equivale a 1 día de la semana. Posteriormente imprimimos y evidenciamos la cantidad de veces que se encuentra cada valor."
      ]
    },
    {
      "cell_type": "code",
      "execution_count": 73,
      "id": "0be066bb",
      "metadata": {
        "trusted": false
      },
      "outputs": [
        {
          "data": {
            "image/png": "[encoded data removed]",
            "text/plain": [
              "<Figure size 640x480 with 1 Axes>"
            ]
          },
          "metadata": {},
          "output_type": "display_data"
        }
      ],
      "source": [
        "orders_by_day.plot(kind=\"bar\",title=\"orders by day\",xlabel=\"days(0/sunday-6/saturday)\",ylabel=\"number of orders\")\n",
        "plt.show()"
      ]
    },
    {
      "cell_type": "markdown",
      "id": "235d1b4f",
      "metadata": {},
      "source": [
        "En la grafica anterior vemos que en general las personas compran más los días domingo y lunes."
      ]
    },
    {
      "cell_type": "markdown",
      "id": "cutting-concert",
      "metadata": {
        "id": "cutting-concert"
      },
      "source": [
        "### [A4] ¿Cuánto tiempo esperan las personas hasta hacer otro pedido? Comenta sobre los valores mínimos y máximos."
      ]
    },
    {
      "cell_type": "code",
      "execution_count": 74,
      "id": "50fca888",
      "metadata": {
        "scrolled": true,
        "trusted": false
      },
      "outputs": [
        {
          "data": {
            "text/html": [
              "<div>\n",
              "<style scoped>\n",
              "    .dataframe tbody tr th:only-of-type {\n",
              "        vertical-align: middle;\n",
              "    }\n",
              "\n",
              "    .dataframe tbody tr th {\n",
              "        vertical-align: top;\n",
              "    }\n",
              "\n",
              "    .dataframe thead th {\n",
              "        text-align: right;\n",
              "    }\n",
              "</style>\n",
              "<table border=\"1\" class=\"dataframe\">\n",
              "  <thead>\n",
              "    <tr style=\"text-align: right;\">\n",
              "      <th></th>\n",
              "      <th>order_id</th>\n",
              "      <th>user_id</th>\n",
              "      <th>order_number</th>\n",
              "      <th>order_dow</th>\n",
              "      <th>order_hour_of_day</th>\n",
              "      <th>days_since_prior_order</th>\n",
              "    </tr>\n",
              "  </thead>\n",
              "  <tbody>\n",
              "    <tr>\n",
              "      <th>0</th>\n",
              "      <td>1515936</td>\n",
              "      <td>183418</td>\n",
              "      <td>11</td>\n",
              "      <td>6</td>\n",
              "      <td>13</td>\n",
              "      <td>30.0</td>\n",
              "    </tr>\n",
              "    <tr>\n",
              "      <th>1</th>\n",
              "      <td>1690866</td>\n",
              "      <td>163593</td>\n",
              "      <td>5</td>\n",
              "      <td>5</td>\n",
              "      <td>12</td>\n",
              "      <td>9.0</td>\n",
              "    </tr>\n",
              "    <tr>\n",
              "      <th>2</th>\n",
              "      <td>1454967</td>\n",
              "      <td>39980</td>\n",
              "      <td>4</td>\n",
              "      <td>5</td>\n",
              "      <td>19</td>\n",
              "      <td>2.0</td>\n",
              "    </tr>\n",
              "    <tr>\n",
              "      <th>3</th>\n",
              "      <td>1768857</td>\n",
              "      <td>82516</td>\n",
              "      <td>56</td>\n",
              "      <td>0</td>\n",
              "      <td>20</td>\n",
              "      <td>10.0</td>\n",
              "    </tr>\n",
              "    <tr>\n",
              "      <th>4</th>\n",
              "      <td>3007858</td>\n",
              "      <td>196724</td>\n",
              "      <td>2</td>\n",
              "      <td>4</td>\n",
              "      <td>12</td>\n",
              "      <td>17.0</td>\n",
              "    </tr>\n",
              "    <tr>\n",
              "      <th>5</th>\n",
              "      <td>1843871</td>\n",
              "      <td>20084</td>\n",
              "      <td>5</td>\n",
              "      <td>0</td>\n",
              "      <td>11</td>\n",
              "      <td>15.0</td>\n",
              "    </tr>\n",
              "    <tr>\n",
              "      <th>6</th>\n",
              "      <td>2511640</td>\n",
              "      <td>148233</td>\n",
              "      <td>40</td>\n",
              "      <td>3</td>\n",
              "      <td>8</td>\n",
              "      <td>2.0</td>\n",
              "    </tr>\n",
              "    <tr>\n",
              "      <th>7</th>\n",
              "      <td>2521283</td>\n",
              "      <td>97711</td>\n",
              "      <td>2</td>\n",
              "      <td>0</td>\n",
              "      <td>18</td>\n",
              "      <td>22.0</td>\n",
              "    </tr>\n",
              "    <tr>\n",
              "      <th>8</th>\n",
              "      <td>2266494</td>\n",
              "      <td>34954</td>\n",
              "      <td>40</td>\n",
              "      <td>5</td>\n",
              "      <td>15</td>\n",
              "      <td>4.0</td>\n",
              "    </tr>\n",
              "    <tr>\n",
              "      <th>9</th>\n",
              "      <td>446014</td>\n",
              "      <td>15356</td>\n",
              "      <td>2</td>\n",
              "      <td>4</td>\n",
              "      <td>8</td>\n",
              "      <td>10.0</td>\n",
              "    </tr>\n",
              "  </tbody>\n",
              "</table>\n",
              "</div>"
            ],
            "text/plain": [
              "   order_id  user_id  order_number  order_dow  order_hour_of_day  \\\n",
              "0   1515936   183418            11          6                 13   \n",
              "1   1690866   163593             5          5                 12   \n",
              "2   1454967    39980             4          5                 19   \n",
              "3   1768857    82516            56          0                 20   \n",
              "4   3007858   196724             2          4                 12   \n",
              "5   1843871    20084             5          0                 11   \n",
              "6   2511640   148233            40          3                  8   \n",
              "7   2521283    97711             2          0                 18   \n",
              "8   2266494    34954            40          5                 15   \n",
              "9    446014    15356             2          4                  8   \n",
              "\n",
              "   days_since_prior_order  \n",
              "0                    30.0  \n",
              "1                     9.0  \n",
              "2                     2.0  \n",
              "3                    10.0  \n",
              "4                    17.0  \n",
              "5                    15.0  \n",
              "6                     2.0  \n",
              "7                    22.0  \n",
              "8                     4.0  \n",
              "9                    10.0  "
            ]
          },
          "execution_count": 74,
          "metadata": {},
          "output_type": "execute_result"
        }
      ],
      "source": [
        "df_instacart_orders.head(10)"
      ]
    },
    {
      "cell_type": "markdown",
      "id": "558caa76",
      "metadata": {},
      "source": [
        "verificamos primero nuevamente el tipo de datos del Data Frame df_instacart_orders."
      ]
    },
    {
      "cell_type": "code",
      "execution_count": 75,
      "id": "dd1a0550",
      "metadata": {
        "trusted": false
      },
      "outputs": [
        {
          "data": {
            "image/png": "[encoded data removed]",
            "text/plain": [
              "<Figure size 640x480 with 1 Axes>"
            ]
          },
          "metadata": {},
          "output_type": "display_data"
        }
      ],
      "source": [
        "df_instacart_orders['days_since_prior_order'].dropna().plot(kind='hist',title= \"Distribution of time between orders\", bins=30 , color='red', edgecolor=\"white\")\n",
        "plt.xlabel(\"Días desde el pedido anterior\")\n",
        "plt.show()"
      ]
    },
    {
      "cell_type": "markdown",
      "id": "251fee95",
      "metadata": {},
      "source": [
        "En el grafico anterior se evidencia la distribución de la cantidad de pedidos con respecto a los días que pasaron desde el pedido anterio, podemos ver que la mayoría de los usuarios hacen un nuevo pedido dentro de los primeros 8 días, con picos notables en los días 6, 7 y 8. Existe un pico pronunciado en el día 30, lo que se puede asociar a que muchos usuarios hacen pedidos mensuales o que 30 días podría ser un valor limite superior en el registro de los datos."
      ]
    },
    {
      "cell_type": "code",
      "execution_count": 76,
      "id": "0a7dc28d",
      "metadata": {
        "trusted": false
      },
      "outputs": [
        {
          "data": {
            "text/plain": [
              "0.0"
            ]
          },
          "execution_count": 76,
          "metadata": {},
          "output_type": "execute_result"
        }
      ],
      "source": [
        "df_instacart_orders['days_since_prior_order'].dropna().min()"
      ]
    },
    {
      "cell_type": "markdown",
      "id": "509f3b4c",
      "metadata": {},
      "source": [
        "al verificar el dato minimo, este corresponde a 0 por lo que puede asociarse a que el usuario hizo dos compras a distintas horas el mismo día."
      ]
    },
    {
      "cell_type": "code",
      "execution_count": 77,
      "id": "984d1a7e",
      "metadata": {
        "scrolled": true,
        "trusted": false
      },
      "outputs": [
        {
          "data": {
            "text/plain": [
              "30.0"
            ]
          },
          "execution_count": 77,
          "metadata": {},
          "output_type": "execute_result"
        }
      ],
      "source": [
        "df_instacart_orders['days_since_prior_order'].dropna().max()"
      ]
    },
    {
      "cell_type": "markdown",
      "id": "5d0e074d",
      "metadata": {},
      "source": [
        "El valor 30 días probablemente indica un tope en el registro de la plataforma. puede que la plataforma presenta un máximo en el campo para no registrar tiempos muy largo, en este caso por ejemplo luego de más de 60 días para volver a comprar igualmente la plataforma marcaria 30 días.\n"
      ]
    },
    {
      "cell_type": "markdown",
      "id": "tight-staff",
      "metadata": {
        "id": "tight-staff"
      },
      "source": [
        "# [B] Intermedio (deben completarse todos para aprobar)\n",
        "\n",
        "1. ¿Existe alguna diferencia entre las distribuciones `'order_hour_of_day'` de los miércoles y los sábados? Traza gráficos de barra de `'order_hour_of_day'` para ambos días en la misma figura y describe las diferencias que observes.\n",
        "2. Grafica la distribución para el número de órdenes que hacen los clientes (es decir, cuántos clientes hicieron solo 1 pedido, cuántos hicieron 2, cuántos 3, y así sucesivamente...).\n",
        "3. ¿Cuáles son los 20 principales productos que se piden con más frecuencia (muestra su identificación y nombre)?"
      ]
    },
    {
      "cell_type": "markdown",
      "id": "packed-classic",
      "metadata": {
        "id": "packed-classic"
      },
      "source": [
        "### [B1] Diferencia entre miércoles y sábados para  `'order_hour_of_day'`. Traza gráficos de barra para los dos días y describe las diferencias que veas."
      ]
    },
    {
      "cell_type": "code",
      "execution_count": 78,
      "id": "6a4b0b70",
      "metadata": {
        "trusted": false
      },
      "outputs": [],
      "source": [
        "wed = df_instacart_orders[df_instacart_orders['order_dow'] == 3]['order_hour_of_day'].value_counts().sort_index()\n",
        "sat = df_instacart_orders[df_instacart_orders['order_dow'] == 6]['order_hour_of_day'].value_counts().sort_index()"
      ]
    },
    {
      "cell_type": "code",
      "execution_count": 79,
      "id": "445ca870",
      "metadata": {
        "trusted": false
      },
      "outputs": [
        {
          "data": {
            "text/plain": [
              "Text(0.5, 0, 'hour')"
            ]
          },
          "execution_count": 79,
          "metadata": {},
          "output_type": "execute_result"
        },
        {
          "data": {
            "image/png": "[encoded data removed]",
            "text/plain": [
              "<Figure size 640x480 with 1 Axes>"
            ]
          },
          "metadata": {},
          "output_type": "display_data"
        }
      ],
      "source": [
        "wed.name= \"Miercoles\"\n",
        "sat.name=\"Sabado\"\n",
        "pd.concat([wed,sat],axis=1).plot(kind=\"bar\",title=\"Distribution of orders between wednesday and Saturday\", ylabel=\"Number of Orders\")\n",
        "plt.xlabel(\"hour\")"
      ]
    },
    {
      "cell_type": "markdown",
      "id": "charitable-congo",
      "metadata": {
        "id": "charitable-congo"
      },
      "source": [
        "Mis conclusiones con base en el grafico anterior son:\n",
        "1.Tanto los miércoles como los sábados concentran la mayoría de los pedidos en el rango de las 10 a las 16 horas.\n",
        "2.El pico máximo ocurre alrededor de las 12:00 - 13:00 hrs, para ambos días.\n",
        "3.La forma general de las barras es muy parecida, lo que sugiere que los usuarios mantienen hábitos consistentes independientemente del día.Sin embargo, los miércoles tienden a tener ligeramente más pedidos en las horas centrales, mientras que los sábados se equilibran un poco más durante el día.\n",
        "4.Entre las 0 y 6, el número de pedidos es muy bajo, debido a que son comunmente horas donde la mayoria de personas no están despiertas.\n",
        "5.A partir de las 17:00 hrs, el volumen de pedidos comienza a disminuir progresivamente."
      ]
    },
    {
      "cell_type": "markdown",
      "id": "e3891143",
      "metadata": {
        "id": "e3891143"
      },
      "source": [
        "### [B2] ¿Cuál es la distribución para el número de pedidos por cliente?"
      ]
    },
    {
      "cell_type": "code",
      "execution_count": 80,
      "id": "d8c26c23",
      "metadata": {
        "id": "d8c26c23",
        "trusted": false
      },
      "outputs": [],
      "source": [
        "order_by_client=df_instacart_orders.groupby('user_id')['order_number'].max().value_counts().sort_index()"
      ]
    },
    {
      "cell_type": "code",
      "execution_count": 81,
      "id": "dbd2436c",
      "metadata": {
        "trusted": false
      },
      "outputs": [
        {
          "data": {
            "image/png": "[encoded data removed]",
            "text/plain": [
              "<Figure size 640x480 with 1 Axes>"
            ]
          },
          "metadata": {},
          "output_type": "display_data"
        }
      ],
      "source": [
        " plt.bar(order_by_client.index, order_by_client.values, color='green')\n",
        "plt.xlabel(\"orders\")\n",
        "plt.ylabel(\"clients\")\n",
        "plt.title(\"Orders by clients\")\n",
        "plt.show()"
      ]
    },
    {
      "cell_type": "markdown",
      "id": "d2eff7d5",
      "metadata": {
        "id": "d2eff7d5"
      },
      "source": [
        "Mis conclusiones son :\n",
        "1.La mayoría de los usuarios han hecho pocos pedidos, con un gran pico alrededor de los 4 a 6 pedidos.\n",
        "2.A medida que aumenta el número de pedidos, la cantidad de usuarios disminuye rápidamente.\n",
        "3.Hay una pequeña cantidad de usuarios que han hecho muchos pedidos (hasta 100)."
      ]
    },
    {
      "cell_type": "markdown",
      "id": "54a0319c",
      "metadata": {
        "id": "54a0319c"
      },
      "source": [
        "### [B3] ¿Cuáles son los 20 productos más populares (muestra su ID y nombre)?"
      ]
    },
    {
      "cell_type": "code",
      "execution_count": 82,
      "id": "fd62223b",
      "metadata": {
        "trusted": false
      },
      "outputs": [],
      "source": [
        "product_counts = df_order_products['product_id'].value_counts().head(20)"
      ]
    },
    {
      "cell_type": "markdown",
      "id": "adf09cec",
      "metadata": {},
      "source": [
        "En la anterior linea de codigo, creamos un series a partir de el dataframe df_order_products y la columna \"product_id\" mostrando los valores de la columna, pero en este caso solo 20 valores."
      ]
    },
    {
      "cell_type": "code",
      "execution_count": 83,
      "id": "universal-facial",
      "metadata": {
        "id": "universal-facial",
        "trusted": false
      },
      "outputs": [],
      "source": [
        "top_products = pd.DataFrame({\n",
        "    'product_id': product_counts.index,\n",
        "    'order_count': product_counts.values\n",
        "}).merge(df_products, on='product_id')"
      ]
    },
    {
      "cell_type": "markdown",
      "id": "dda8356b",
      "metadata": {},
      "source": [
        "en la anterior linea de codigo, creamos un dataframe llamado top_products el cual se relaciona con los indices y valores del series previmanete (product_counts) luego creamos un merge interno con el dataframe de productos(df_products) por medio de la columna product_id"
      ]
    },
    {
      "cell_type": "code",
      "execution_count": 84,
      "id": "bbcdd20b",
      "metadata": {
        "id": "bbcdd20b",
        "trusted": false
      },
      "outputs": [
        {
          "name": "stdout",
          "output_type": "stream",
          "text": [
            "    product_id              product_name  order_count\n",
            "0        24852                    BANANA        66050\n",
            "1        13176    BAG OF ORGANIC BANANAS        53297\n",
            "2        21137      ORGANIC STRAWBERRIES        37039\n",
            "3        21903      ORGANIC BABY SPINACH        33971\n",
            "4        47209      ORGANIC HASS AVOCADO        29773\n",
            "5        47766           ORGANIC AVOCADO        24689\n",
            "6        47626               LARGE LEMON        21495\n",
            "7        16797              STRAWBERRIES        20018\n",
            "8        26209                     LIMES        19690\n",
            "9        27845        ORGANIC WHOLE MILK        19600\n",
            "10       27966       ORGANIC RASPBERRIES        19197\n",
            "11       22935      ORGANIC YELLOW ONION        15898\n",
            "12       24964            ORGANIC GARLIC        15292\n",
            "13       45007          ORGANIC ZUCCHINI        14584\n",
            "14       39275       ORGANIC BLUEBERRIES        13879\n",
            "15       49683            CUCUMBER KIRBY        13675\n",
            "16       28204        ORGANIC FUJI APPLE        12544\n",
            "17        5876             ORGANIC LEMON        12232\n",
            "18        8277  APPLE HONEYCRISP ORGANIC        11993\n",
            "19       40706    ORGANIC GRAPE TOMATOES        11781\n"
          ]
        }
      ],
      "source": [
        "print(top_products[['product_id', 'product_name', 'order_count']])"
      ]
    },
    {
      "cell_type": "markdown",
      "id": "7df00f47",
      "metadata": {
        "id": "7df00f47"
      },
      "source": [
        "en la linea de codigo anterior imprimimos el dataframe creado que nos muestra las columnas product_id, product_name y order_count que corresponde al numero de veces que se pidio este producto. en este sentido se muestra que el producto más pedido es \"banana\" con 66050 ordenes"
      ]
    },
    {
      "cell_type": "markdown",
      "id": "gross-theme",
      "metadata": {
        "id": "gross-theme"
      },
      "source": [
        "# [C] Difícil (deben completarse todos para aprobar)\n",
        "\n",
        "1. ¿Cuántos artículos suelen comprar las personas en un pedido? ¿Cómo es la distribución?\n",
        "2. ¿Cuáles son los 20 principales artículos que vuelven a pedirse con mayor frecuencia (muestra sus nombres e IDs de los productos)?\n",
        "3. Para cada producto, ¿cuál es la tasa de repetición del pedido (número de repeticiones de pedido/total de pedidos?\n",
        "4. Para cada cliente, ¿qué proporción de los productos que pidió ya los había pedido? Calcula la tasa de repetición de pedido para cada usuario en lugar de para cada producto.\n",
        "5. ¿Cuáles son los 20 principales artículos que la gente pone primero en sus carritos (muestra las IDs de los productos, sus nombres, y el número de veces en que fueron el primer artículo en añadirse al carrito)?"
      ]
    },
    {
      "cell_type": "markdown",
      "id": "romantic-deposit",
      "metadata": {
        "id": "romantic-deposit"
      },
      "source": [
        "### [C1] ¿Cuántos artículos compran normalmente las personas en un pedido? ¿Cómo es la distribución?"
      ]
    },
    {
      "cell_type": "code",
      "execution_count": 85,
      "id": "virtual-punch",
      "metadata": {
        "id": "virtual-punch",
        "trusted": false
      },
      "outputs": [
        {
          "name": "stdout",
          "output_type": "stream",
          "text": [
            "count    450046.000000\n",
            "mean         10.098983\n",
            "std           7.540206\n",
            "min           1.000000\n",
            "25%           5.000000\n",
            "50%           8.000000\n",
            "75%          14.000000\n",
            "max         127.000000\n",
            "dtype: float64\n"
          ]
        }
      ],
      "source": [
        "items_per_order = df_order_products.groupby('order_id').size()\n",
        "print(items_per_order.describe())"
      ]
    },
    {
      "cell_type": "code",
      "execution_count": 86,
      "id": "sensitive-breathing",
      "metadata": {
        "id": "sensitive-breathing",
        "trusted": false
      },
      "outputs": [
        {
          "data": {
            "image/png": "[encoded data removed]",
            "text/plain": [
              "<Figure size 1000x600 with 1 Axes>"
            ]
          },
          "metadata": {},
          "output_type": "display_data"
        }
      ],
      "source": [
        "items_per_order.plot.hist(bins=50,figsize=(10, 6),color='green',edgecolor='black',alpha=0.8,title='Products by order')\n",
        "plt.xlabel('Number of products in one order')\n",
        "plt.ylabel('Frequency')\n",
        "plt.show()"
      ]
    },
    {
      "cell_type": "markdown",
      "id": "a08ba29d",
      "metadata": {
        "id": "completed-frank"
      },
      "source": [
        "A partir de la grafica anterior, verificamos que la gran mayoría de los pedidos contiene pocos artículos (entre 1 y 10 productos). A medida que aumenta la cantidad de artículos por pedido, la frecuencia disminuye en gran medida. Tambien evidenciamos que el valor más frecuente está alrededor de los 5 productos por pedido.\n",
        "tenemos que hay muy pocos pedidos con más de 40 productos.\n",
        "De acuerdo con lo anterior, se concluye que los clientes generalmente hacen compras pequeñas o medianas"
      ]
    },
    {
      "cell_type": "markdown",
      "id": "5e6b5537",
      "metadata": {
        "id": "5e6b5537"
      },
      "source": [
        "### [C2] ¿Cuáles son los 20 principales artículos que vuelven a pedirse con mayor frecuencia (muestra sus nombres e IDs de los productos)?"
      ]
    },
    {
      "cell_type": "code",
      "execution_count": 87,
      "id": "9374e55a",
      "metadata": {
        "id": "9374e55a",
        "trusted": false
      },
      "outputs": [],
      "source": [
        "reordered = df_order_products[df_order_products['reordered'] == 1]"
      ]
    },
    {
      "cell_type": "code",
      "execution_count": 88,
      "id": "possible-change",
      "metadata": {
        "id": "possible-change",
        "scrolled": true,
        "trusted": false
      },
      "outputs": [],
      "source": [
        "reordered_counts = reordered['product_id'].value_counts().head(20).reset_index()"
      ]
    },
    {
      "cell_type": "code",
      "execution_count": 89,
      "id": "professional-surfing",
      "metadata": {
        "id": "professional-surfing",
        "scrolled": true,
        "trusted": false
      },
      "outputs": [],
      "source": [
        "reordered_counts.columns = ['product_id', 'reorder_count']"
      ]
    },
    {
      "cell_type": "code",
      "execution_count": 90,
      "id": "48dd3658",
      "metadata": {
        "id": "48dd3658",
        "trusted": false
      },
      "outputs": [],
      "source": [
        "top_reordered = reordered_counts.merge(df_products[['product_id', 'product_name']], on='product_id')"
      ]
    },
    {
      "cell_type": "code",
      "execution_count": 91,
      "id": "dabaf479",
      "metadata": {
        "trusted": false
      },
      "outputs": [
        {
          "name": "stdout",
          "output_type": "stream",
          "text": [
            "    product_id  reorder_count              product_name\n",
            "0        24852          55763                    BANANA\n",
            "1        13176          44450    BAG OF ORGANIC BANANAS\n",
            "2        21137          28639      ORGANIC STRAWBERRIES\n",
            "3        21903          26233      ORGANIC BABY SPINACH\n",
            "4        47209          23629      ORGANIC HASS AVOCADO\n",
            "5        47766          18743           ORGANIC AVOCADO\n",
            "6        27845          16251        ORGANIC WHOLE MILK\n",
            "7        47626          15044               LARGE LEMON\n",
            "8        27966          14748       ORGANIC RASPBERRIES\n",
            "9        16797          13945              STRAWBERRIES\n",
            "10       26209          13327                     LIMES\n",
            "11       22935          11145      ORGANIC YELLOW ONION\n",
            "12       24964          10411            ORGANIC GARLIC\n",
            "13       45007          10076          ORGANIC ZUCCHINI\n",
            "14       49683           9538            CUCUMBER KIRBY\n",
            "15       28204           8989        ORGANIC FUJI APPLE\n",
            "16        8277           8836  APPLE HONEYCRISP ORGANIC\n",
            "17       39275           8799       ORGANIC BLUEBERRIES\n",
            "18        5876           8412             ORGANIC LEMON\n",
            "19       49235           8389       ORGANIC HALF & HALF\n"
          ]
        }
      ],
      "source": [
        "print(top_reordered)"
      ]
    },
    {
      "cell_type": "markdown",
      "id": "80e70c74",
      "metadata": {
        "id": "80e70c74"
      },
      "source": [
        "Se muestra de forma adecuada los 20 productos que se piden con más frecuencia y entre estos el que más se destaca es \"Banana\" pero en general se identifiica que los productos que se piden con mayor frecuencia son principalemnte frutas y verduras."
      ]
    },
    {
      "cell_type": "markdown",
      "id": "9d312b14",
      "metadata": {
        "id": "9d312b14"
      },
      "source": [
        "### [C3] Para cada producto, ¿cuál es la proporción de las veces que se pide y que se vuelve a pedir?"
      ]
    },
    {
      "cell_type": "code",
      "execution_count": 92,
      "id": "8ae9f4b1",
      "metadata": {
        "id": "8ae9f4b1",
        "trusted": false
      },
      "outputs": [],
      "source": [
        "total_orders = df_order_products.groupby('product_id').size().rename('total_orders')"
      ]
    },
    {
      "cell_type": "markdown",
      "id": "124a1d2a",
      "metadata": {},
      "source": [
        "generamos un series llamado \"total-orders\" el cual calcula cuántas veces fue pedido cada producto. inicialemnte se agrupa el DataFrame por \"product_id\" , se verifica cuantas filas hay en cada grupo con .size(), lo que se refiere a cuantas veces aparece cada producto en los pedidos y modificamos el nombre del series a \"total_order\" para que se entienda el procesamiento"
      ]
    },
    {
      "cell_type": "code",
      "execution_count": 93,
      "id": "103e7fe1",
      "metadata": {
        "id": "103e7fe1",
        "trusted": false
      },
      "outputs": [],
      "source": [
        "reorders = df_order_products[df_order_products['reordered'] == 1].groupby('product_id').size().rename('reorder_count')"
      ]
    },
    {
      "cell_type": "markdown",
      "id": "ec0ee8ab",
      "metadata": {},
      "source": [
        "Generamos un series llamado \"reorders\" que calcula cuántas veces fue reordenado cada producto, inicialemnte filtramos el dataframe df_order_prodcuts para que nos muestre solo cuando el producto fue reordenado, luego se agrupa el subconjutno filtrado por \"product_id\", la herramienta size() cuenta cuántas veces aparece cada producto en los reordenados. por ultimo se renombra el resultado para que la columna se llame reorder_count"
      ]
    },
    {
      "cell_type": "code",
      "execution_count": 94,
      "id": "social-individual",
      "metadata": {
        "id": "social-individual",
        "trusted": false
      },
      "outputs": [],
      "source": [
        "reorder_rate = pd.concat([total_orders, reorders], axis=1).fillna(0)"
      ]
    },
    {
      "cell_type": "markdown",
      "id": "ac2546fc",
      "metadata": {},
      "source": [
        "Usamos la herramienta concat() para unir los dos series previamente creados por las columnas con el aparametro (axis=1) , adicionalemnte se tiene en cuenta que si un producto no fue ordenado su reorder_count sera Nan por lo que llenamos este valor con 0 con la herramienta fillna(0)."
      ]
    },
    {
      "cell_type": "code",
      "execution_count": 95,
      "id": "f5c46e82",
      "metadata": {
        "trusted": false
      },
      "outputs": [],
      "source": [
        "reorder_rate['reorder_rate'] = reorder_rate['reorder_count'] / reorder_rate['total_orders']"
      ]
    },
    {
      "cell_type": "markdown",
      "id": "e24d5c2c",
      "metadata": {},
      "source": [
        "Ya con los datos de ambos series en un dataframe, modificamos la columna \"reorder_rate\" para que corresponda con la tasa de repeticón de cada producto, que se asocia con la proporción de cuántas veces el producto fue reordenado sobre cuántas veces en total se pidió ese producto."
      ]
    },
    {
      "cell_type": "code",
      "execution_count": 96,
      "id": "da23773d",
      "metadata": {
        "trusted": false
      },
      "outputs": [],
      "source": [
        "reorder_rate = reorder_rate.reset_index().merge(df_products[['product_id', 'product_name']], on='product_id')"
      ]
    },
    {
      "cell_type": "markdown",
      "id": "6d82cf2f",
      "metadata": {},
      "source": [
        "la linea de codigo anterior convierte el índice del DataFrame reorder_rate en una columna y une el dataframe creado con el dataframe df_products en sus columnas \"product_id\" y \"product_name\" a partir de la columna product_id de ambos."
      ]
    },
    {
      "cell_type": "code",
      "execution_count": 97,
      "id": "3387d97d",
      "metadata": {
        "trusted": false
      },
      "outputs": [
        {
          "name": "stdout",
          "output_type": "stream",
          "text": [
            "   product_id  total_orders  reorder_count  reorder_rate  \\\n",
            "0           1           280          158.0      0.564286   \n",
            "1           2            11            0.0      0.000000   \n",
            "2           3            42           31.0      0.738095   \n",
            "3           4            49           25.0      0.510204   \n",
            "4           7             2            1.0      0.500000   \n",
            "\n",
            "                                        product_name  \n",
            "0                         CHOCOLATE SANDWICH COOKIES  \n",
            "1                                   ALL-SEASONS SALT  \n",
            "2               ROBUST GOLDEN UNSWEETENED OOLONG TEA  \n",
            "3  SMART ONES CLASSIC FAVORITES MINI RIGATONI WIT...  \n",
            "4                     PURE COCONUT WATER WITH ORANGE  \n"
          ]
        }
      ],
      "source": [
        "print(reorder_rate.head())"
      ]
    },
    {
      "cell_type": "markdown",
      "id": "I10dEIAyldcO",
      "metadata": {
        "id": "I10dEIAyldcO"
      },
      "source": [
        "a partir del procesamiento obtenemos un DataFrame que nos muestra para todos los productos cual es la proporción de la cantidad de vesces que se pidio y que se vuelve a pedir."
      ]
    },
    {
      "cell_type": "markdown",
      "id": "subject-boxing",
      "metadata": {
        "id": "subject-boxing"
      },
      "source": [
        "### [C4] Para cada cliente, ¿qué proporción de sus productos ya los había pedido?"
      ]
    },
    {
      "cell_type": "markdown",
      "id": "04e42e88",
      "metadata": {
        "id": "medical-couple",
        "scrolled": true
      },
      "source": [
        "usaremos dos dataframes originales df_order_products y df_instacart_orders"
      ]
    },
    {
      "cell_type": "code",
      "execution_count": 98,
      "id": "8892e4b4",
      "metadata": {
        "id": "8892e4b4",
        "trusted": false
      },
      "outputs": [],
      "source": [
        "df_merged = df_order_products.merge(df_instacart_orders[['order_id', 'user_id']], on='order_id')"
      ]
    },
    {
      "cell_type": "markdown",
      "id": "0b909fe7",
      "metadata": {},
      "source": [
        "Creamos un dataframe que correponda con la fusión de los dataframes order_prodcuts y instacar_orders por la columna \"order_id\""
      ]
    },
    {
      "cell_type": "code",
      "execution_count": 99,
      "id": "2d752511",
      "metadata": {
        "trusted": false
      },
      "outputs": [],
      "source": [
        "user_total = df_merged.groupby('user_id').size().rename('total_products')"
      ]
    },
    {
      "cell_type": "markdown",
      "id": "4bc55097",
      "metadata": {},
      "source": [
        "la anterior linea de codigo, calcula por usuario, cuántos productos ha pedido en total "
      ]
    },
    {
      "cell_type": "code",
      "execution_count": 100,
      "id": "3a06ded0",
      "metadata": {
        "trusted": false
      },
      "outputs": [],
      "source": [
        "user_reordered = df_merged[df_merged['reordered'] == 1].groupby('user_id').size().rename('reordered_products')"
      ]
    },
    {
      "cell_type": "markdown",
      "id": "c8b55b33",
      "metadata": {},
      "source": [
        "la anterior linea de codigo calcula, por usuario, cuántos productos que pidió ya los había pedido antes"
      ]
    },
    {
      "cell_type": "code",
      "execution_count": 101,
      "id": "439c9511",
      "metadata": {
        "trusted": false
      },
      "outputs": [],
      "source": [
        "user_repeat_rate = pd.concat([user_total, user_reordered], axis=1).fillna(0)"
      ]
    },
    {
      "cell_type": "markdown",
      "id": "428f0a04",
      "metadata": {},
      "source": [
        "Usamos la herramienta concat() para unir los dos series previamente creados por las columnas con el aparametro (axis=1)"
      ]
    },
    {
      "cell_type": "code",
      "execution_count": 102,
      "id": "36b85612",
      "metadata": {
        "trusted": false
      },
      "outputs": [],
      "source": [
        "user_repeat_rate['repeat_rate'] = user_repeat_rate['reordered_products'] / user_repeat_rate['total_products']"
      ]
    },
    {
      "cell_type": "markdown",
      "id": "5bff99ec",
      "metadata": {},
      "source": [
        "Modificamos el valor de la columna \"repeat_rate\" del dataframe filtrado para que corresponda al numero de productos reaordenados por cliente sobre el total de los productos. Es decir, de todos los productos que un cliente ha comprado, qué proporción eran productos que ya había pedido antes."
      ]
    },
    {
      "cell_type": "code",
      "execution_count": 103,
      "id": "16db17d7",
      "metadata": {
        "trusted": false
      },
      "outputs": [
        {
          "name": "stdout",
          "output_type": "stream",
          "text": [
            "         total_products  reordered_products  repeat_rate\n",
            "user_id                                                 \n",
            "2                    26                 1.0     0.038462\n",
            "4                     2                 0.0     0.000000\n",
            "5                    12                 8.0     0.666667\n",
            "6                     4                 0.0     0.000000\n",
            "7                    14                13.0     0.928571\n",
            "11                   15                 3.0     0.200000\n",
            "12                   12                 3.0     0.250000\n",
            "13                   23                13.0     0.565217\n",
            "14                   61                22.0     0.360656\n",
            "15                   13                 7.0     0.538462\n"
          ]
        }
      ],
      "source": [
        "print(user_repeat_rate.head(10))"
      ]
    },
    {
      "cell_type": "markdown",
      "id": "BgJSvXDsleXz",
      "metadata": {
        "id": "BgJSvXDsleXz"
      },
      "source": [
        "verificamos la proporción de recompraa  de los productos por cliente. La mayoría de los usuarios tienden a repetir parte de sus compras, es decir, no siempre prueban productos nuevos. Algunos repiten casi todo lo que compran (tasa cercana a 1). Esto puede reflejar hábitos de compra rutinarios donde siempre se compran los mismo productos por un cliente."
      ]
    },
    {
      "cell_type": "markdown",
      "id": "92d35137",
      "metadata": {
        "id": "92d35137"
      },
      "source": [
        "### [C5] ¿Cuáles son los 20 principales artículos que las personas ponen primero en sus carritos?"
      ]
    },
    {
      "cell_type": "markdown",
      "id": "10434467",
      "metadata": {},
      "source": [
        "Usamos el datafram df_order_products para responder esta pregunta"
      ]
    },
    {
      "cell_type": "code",
      "execution_count": 104,
      "id": "0ae57274",
      "metadata": {
        "id": "0ae57274",
        "scrolled": true,
        "trusted": false
      },
      "outputs": [],
      "source": [
        "first_added = df_order_products[df_order_products['add_to_cart_order'] == 1]"
      ]
    },
    {
      "cell_type": "markdown",
      "id": "f53b0c16",
      "metadata": {},
      "source": [
        "este procesamiento corresponde al filtrado del dataframe en relación con las filas donde la columna \"add_to_cart_order\" es igual a 1 lo que nos dice que fue el primero de los productos agregados a la order."
      ]
    },
    {
      "cell_type": "code",
      "execution_count": 105,
      "id": "forty-netherlands",
      "metadata": {
        "id": "forty-netherlands",
        "scrolled": true,
        "trusted": false
      },
      "outputs": [],
      "source": [
        "first_counts = first_added['product_id'].value_counts().head(20)"
      ]
    },
    {
      "cell_type": "markdown",
      "id": "d7eb3162",
      "metadata": {
        "id": "08e41ec2"
      },
      "source": [
        "la anterior linea de codigo nos da un series que Esta línea cuenta cuántas veces cada producto fue el primero en añadirse al carrito y luego devuelve los 20 productos más frecuentes."
      ]
    },
    {
      "cell_type": "code",
      "execution_count": 106,
      "id": "439c6bd4",
      "metadata": {
        "trusted": false
      },
      "outputs": [],
      "source": [
        "first_counts_df = first_counts.reset_index()\n",
        "first_counts_df.columns = ['product_id', 'first_add_count']"
      ]
    },
    {
      "cell_type": "markdown",
      "id": "5c1f7be2",
      "metadata": {},
      "source": [
        "inicialmente transformamos el series creado anteriormente a un dataframe estructurado y reseteamos los inidices del dataframe moviendo el valor a una columna a otra columna y luego renombramos las columnas del DataFrame resultante para que tengan nombres más descriptivos:\n",
        "\n"
      ]
    },
    {
      "cell_type": "code",
      "execution_count": 107,
      "id": "5b2f11b9",
      "metadata": {
        "trusted": false
      },
      "outputs": [],
      "source": [
        "top_first_products = first_counts_df.merge(df_products[['product_id', 'product_name']], on='product_id')"
      ]
    },
    {
      "cell_type": "markdown",
      "id": "421329ed",
      "metadata": {},
      "source": [
        "la anterior linea de codigo, fusiona el DataFrame first_counts_df con el DataFrame df_products para agregar el nombre de cada producto \"product_name\" al conteo de veces que fue el primero en añadirse al carrito."
      ]
    },
    {
      "cell_type": "markdown",
      "id": "28ce9872",
      "metadata": {
        "id": "28ce9872"
      },
      "source": [
        "Escribe aquí tus conclusiones"
      ]
    },
    {
      "cell_type": "code",
      "execution_count": 108,
      "id": "71d4f772",
      "metadata": {
        "trusted": false
      },
      "outputs": [],
      "source": [
        "top_first_products = top_first_products.sort_values(by='first_add_count', ascending=False)"
      ]
    },
    {
      "cell_type": "markdown",
      "id": "09440705",
      "metadata": {},
      "source": [
        "la anterior linea de codigo, ordena la fusión de dataframes anterior en orden descente por los valores de la columna \"first_add_count\" para que se muestre cuales son los 20 principales articulos que las personas ponen primero en sus carritos"
      ]
    },
    {
      "cell_type": "code",
      "execution_count": 109,
      "id": "0884c1e8",
      "metadata": {
        "trusted": false
      },
      "outputs": [
        {
          "data": {
            "text/html": [
              "<div>\n",
              "<style scoped>\n",
              "    .dataframe tbody tr th:only-of-type {\n",
              "        vertical-align: middle;\n",
              "    }\n",
              "\n",
              "    .dataframe tbody tr th {\n",
              "        vertical-align: top;\n",
              "    }\n",
              "\n",
              "    .dataframe thead th {\n",
              "        text-align: right;\n",
              "    }\n",
              "</style>\n",
              "<table border=\"1\" class=\"dataframe\">\n",
              "  <thead>\n",
              "    <tr style=\"text-align: right;\">\n",
              "      <th></th>\n",
              "      <th>product_id</th>\n",
              "      <th>first_add_count</th>\n",
              "      <th>product_name</th>\n",
              "    </tr>\n",
              "  </thead>\n",
              "  <tbody>\n",
              "    <tr>\n",
              "      <th>0</th>\n",
              "      <td>24852</td>\n",
              "      <td>15562</td>\n",
              "      <td>BANANA</td>\n",
              "    </tr>\n",
              "    <tr>\n",
              "      <th>1</th>\n",
              "      <td>13176</td>\n",
              "      <td>11026</td>\n",
              "      <td>BAG OF ORGANIC BANANAS</td>\n",
              "    </tr>\n",
              "    <tr>\n",
              "      <th>2</th>\n",
              "      <td>27845</td>\n",
              "      <td>4363</td>\n",
              "      <td>ORGANIC WHOLE MILK</td>\n",
              "    </tr>\n",
              "    <tr>\n",
              "      <th>3</th>\n",
              "      <td>21137</td>\n",
              "      <td>3946</td>\n",
              "      <td>ORGANIC STRAWBERRIES</td>\n",
              "    </tr>\n",
              "    <tr>\n",
              "      <th>4</th>\n",
              "      <td>47209</td>\n",
              "      <td>3390</td>\n",
              "      <td>ORGANIC HASS AVOCADO</td>\n",
              "    </tr>\n",
              "    <tr>\n",
              "      <th>5</th>\n",
              "      <td>21903</td>\n",
              "      <td>3336</td>\n",
              "      <td>ORGANIC BABY SPINACH</td>\n",
              "    </tr>\n",
              "    <tr>\n",
              "      <th>6</th>\n",
              "      <td>47766</td>\n",
              "      <td>3044</td>\n",
              "      <td>ORGANIC AVOCADO</td>\n",
              "    </tr>\n",
              "    <tr>\n",
              "      <th>7</th>\n",
              "      <td>19660</td>\n",
              "      <td>2336</td>\n",
              "      <td>SPRING WATER</td>\n",
              "    </tr>\n",
              "    <tr>\n",
              "      <th>8</th>\n",
              "      <td>16797</td>\n",
              "      <td>2308</td>\n",
              "      <td>STRAWBERRIES</td>\n",
              "    </tr>\n",
              "    <tr>\n",
              "      <th>9</th>\n",
              "      <td>27966</td>\n",
              "      <td>2024</td>\n",
              "      <td>ORGANIC RASPBERRIES</td>\n",
              "    </tr>\n",
              "    <tr>\n",
              "      <th>10</th>\n",
              "      <td>44632</td>\n",
              "      <td>1914</td>\n",
              "      <td>SPARKLING WATER GRAPEFRUIT</td>\n",
              "    </tr>\n",
              "    <tr>\n",
              "      <th>11</th>\n",
              "      <td>49235</td>\n",
              "      <td>1797</td>\n",
              "      <td>ORGANIC HALF &amp; HALF</td>\n",
              "    </tr>\n",
              "    <tr>\n",
              "      <th>12</th>\n",
              "      <td>47626</td>\n",
              "      <td>1737</td>\n",
              "      <td>LARGE LEMON</td>\n",
              "    </tr>\n",
              "    <tr>\n",
              "      <th>13</th>\n",
              "      <td>196</td>\n",
              "      <td>1733</td>\n",
              "      <td>SODA</td>\n",
              "    </tr>\n",
              "    <tr>\n",
              "      <th>14</th>\n",
              "      <td>38689</td>\n",
              "      <td>1397</td>\n",
              "      <td>ORGANIC REDUCED FAT MILK</td>\n",
              "    </tr>\n",
              "    <tr>\n",
              "      <th>15</th>\n",
              "      <td>26209</td>\n",
              "      <td>1370</td>\n",
              "      <td>LIMES</td>\n",
              "    </tr>\n",
              "    <tr>\n",
              "      <th>16</th>\n",
              "      <td>12341</td>\n",
              "      <td>1340</td>\n",
              "      <td>HASS AVOCADOS</td>\n",
              "    </tr>\n",
              "    <tr>\n",
              "      <th>17</th>\n",
              "      <td>5785</td>\n",
              "      <td>1310</td>\n",
              "      <td>ORGANIC REDUCED FAT 2% MILK</td>\n",
              "    </tr>\n",
              "    <tr>\n",
              "      <th>18</th>\n",
              "      <td>27086</td>\n",
              "      <td>1309</td>\n",
              "      <td>HALF &amp; HALF</td>\n",
              "    </tr>\n",
              "    <tr>\n",
              "      <th>19</th>\n",
              "      <td>22935</td>\n",
              "      <td>1246</td>\n",
              "      <td>ORGANIC YELLOW ONION</td>\n",
              "    </tr>\n",
              "  </tbody>\n",
              "</table>\n",
              "</div>"
            ],
            "text/plain": [
              "    product_id  first_add_count                 product_name\n",
              "0        24852            15562                       BANANA\n",
              "1        13176            11026       BAG OF ORGANIC BANANAS\n",
              "2        27845             4363           ORGANIC WHOLE MILK\n",
              "3        21137             3946         ORGANIC STRAWBERRIES\n",
              "4        47209             3390         ORGANIC HASS AVOCADO\n",
              "5        21903             3336         ORGANIC BABY SPINACH\n",
              "6        47766             3044              ORGANIC AVOCADO\n",
              "7        19660             2336                 SPRING WATER\n",
              "8        16797             2308                 STRAWBERRIES\n",
              "9        27966             2024          ORGANIC RASPBERRIES\n",
              "10       44632             1914   SPARKLING WATER GRAPEFRUIT\n",
              "11       49235             1797          ORGANIC HALF & HALF\n",
              "12       47626             1737                  LARGE LEMON\n",
              "13         196             1733                         SODA\n",
              "14       38689             1397     ORGANIC REDUCED FAT MILK\n",
              "15       26209             1370                        LIMES\n",
              "16       12341             1340                HASS AVOCADOS\n",
              "17        5785             1310  ORGANIC REDUCED FAT 2% MILK\n",
              "18       27086             1309                  HALF & HALF\n",
              "19       22935             1246         ORGANIC YELLOW ONION"
            ]
          },
          "execution_count": 109,
          "metadata": {},
          "output_type": "execute_result"
        }
      ],
      "source": [
        "top_first_products"
      ]
    },
    {
      "cell_type": "markdown",
      "id": "1b302a52",
      "metadata": {},
      "source": [
        "vemos que el principal articulo que las personas agregan como primer articulo al carrito es banana"
      ]
    },
    {
      "cell_type": "markdown",
      "id": "uITbFCEoDosC",
      "metadata": {
        "id": "uITbFCEoDosC"
      },
      "source": [
        "### Conclusion general del proyecto:"
      ]
    },
    {
      "cell_type": "markdown",
      "id": "52d18eb5",
      "metadata": {
        "id": "Nk-4GS7mDwqY"
      },
      "source": [
        "cómo conclusiones generales del proyecto tenemos que:\n",
        "1.hicimos un preprocesamiento adecuado de los datos.\n",
        "2.en el preprocesamiento tuvismo un buen acercamiento a los datos que nos pemite ver con que estamos trabajando.\n",
        "3.ya en el procesamiento de los datos realizamos analisis para verificar por ejemplo:\n",
        "-la cantidad de productos por pedido, Identificamos los productos más recurrentes\n",
        "-Medimos cuántas veces se volvió a pedir cada producto respecto a todas las veces que fue pedido.\n",
        "-Calculamos cuántos productos de un usuario fueron repetidos.\n",
        "etc\n",
        "4.Usamos todas las herramientas de la teoria y generamos graficos de barras e histogramas.\n",
        "5.Pienso que fue un poco retador el proyecto pero muy interesante para ampliar la perspectiva respecto al trabajo como analista de datos."
      ]
    }
  ],
  "metadata": {
    "ExecuteTimeLog": [
      {
        "duration": 324,
        "start_time": "2025-04-07T14:18:40.419Z"
      },
      {
        "duration": 218,
        "start_time": "2025-04-07T14:21:47.892Z"
      },
      {
        "duration": 358,
        "start_time": "2025-04-07T14:21:52.101Z"
      },
      {
        "duration": 6,
        "start_time": "2025-04-07T14:21:53.811Z"
      },
      {
        "duration": 5,
        "start_time": "2025-04-07T14:21:56.799Z"
      },
      {
        "duration": 5,
        "start_time": "2025-04-07T14:22:09.195Z"
      },
      {
        "duration": 6,
        "start_time": "2025-04-07T14:22:21.471Z"
      },
      {
        "duration": 4,
        "start_time": "2025-04-07T14:22:41.124Z"
      },
      {
        "duration": 30,
        "start_time": "2025-04-07T14:22:51.548Z"
      },
      {
        "duration": 10,
        "start_time": "2025-04-07T14:23:01.428Z"
      },
      {
        "duration": 9,
        "start_time": "2025-04-07T14:23:07.349Z"
      },
      {
        "duration": 8,
        "start_time": "2025-04-07T14:23:18.372Z"
      },
      {
        "duration": 7,
        "start_time": "2025-04-07T14:23:26.652Z"
      },
      {
        "duration": 23,
        "start_time": "2025-04-07T14:29:50.370Z"
      },
      {
        "duration": 20,
        "start_time": "2025-04-07T14:30:03.200Z"
      },
      {
        "duration": 25,
        "start_time": "2025-04-07T14:31:33.561Z"
      },
      {
        "duration": 195,
        "start_time": "2025-04-07T14:31:38.741Z"
      },
      {
        "duration": 12,
        "start_time": "2025-04-07T14:31:40.730Z"
      },
      {
        "duration": 177,
        "start_time": "2025-04-07T14:32:37.081Z"
      },
      {
        "duration": 12,
        "start_time": "2025-04-07T14:32:38.954Z"
      },
      {
        "duration": 10,
        "start_time": "2025-04-07T14:32:41.394Z"
      },
      {
        "duration": 9,
        "start_time": "2025-04-07T14:32:47.654Z"
      },
      {
        "duration": 10,
        "start_time": "2025-04-07T14:32:51.133Z"
      },
      {
        "duration": 8,
        "start_time": "2025-04-07T14:32:54.397Z"
      },
      {
        "duration": 299,
        "start_time": "2025-04-07T17:16:55.573Z"
      },
      {
        "duration": 236,
        "start_time": "2025-04-07T17:16:57.229Z"
      },
      {
        "duration": 13,
        "start_time": "2025-04-07T17:16:57.843Z"
      },
      {
        "duration": 11,
        "start_time": "2025-04-07T17:16:58.329Z"
      },
      {
        "duration": 10,
        "start_time": "2025-04-07T17:16:58.809Z"
      },
      {
        "duration": 8,
        "start_time": "2025-04-07T17:16:59.275Z"
      },
      {
        "duration": 10,
        "start_time": "2025-04-07T17:16:59.659Z"
      },
      {
        "duration": 5,
        "start_time": "2025-04-07T17:19:14.235Z"
      },
      {
        "duration": 96,
        "start_time": "2025-04-07T17:21:50.831Z"
      },
      {
        "duration": 95,
        "start_time": "2025-04-07T17:21:58.634Z"
      },
      {
        "duration": 115,
        "start_time": "2025-04-07T17:22:27.714Z"
      },
      {
        "duration": 205,
        "start_time": "2025-04-07T17:24:33.273Z"
      },
      {
        "duration": 93,
        "start_time": "2025-04-07T17:24:41.673Z"
      },
      {
        "duration": 17,
        "start_time": "2025-04-07T17:25:43.021Z"
      },
      {
        "duration": 43,
        "start_time": "2025-04-07T17:26:08.584Z"
      },
      {
        "duration": 107,
        "start_time": "2025-04-07T17:26:21.202Z"
      },
      {
        "duration": 116,
        "start_time": "2025-04-07T17:28:11.649Z"
      },
      {
        "duration": 281,
        "start_time": "2025-04-07T17:30:47.615Z"
      },
      {
        "duration": 98,
        "start_time": "2025-04-07T17:31:09.796Z"
      },
      {
        "duration": 7,
        "start_time": "2025-04-07T17:32:08.205Z"
      },
      {
        "duration": 3,
        "start_time": "2025-04-07T17:32:16.070Z"
      },
      {
        "duration": 116,
        "start_time": "2025-04-07T17:32:20.639Z"
      },
      {
        "duration": 95,
        "start_time": "2025-04-07T17:32:25.540Z"
      },
      {
        "duration": 124,
        "start_time": "2025-04-07T17:32:54.896Z"
      },
      {
        "duration": 321,
        "start_time": "2025-04-07T17:33:06.401Z"
      },
      {
        "duration": 117,
        "start_time": "2025-04-07T17:33:10.432Z"
      },
      {
        "duration": 16,
        "start_time": "2025-04-07T17:36:21.434Z"
      },
      {
        "duration": 3,
        "start_time": "2025-04-07T17:36:27.400Z"
      },
      {
        "duration": 25,
        "start_time": "2025-04-07T17:37:02.493Z"
      },
      {
        "duration": 10,
        "start_time": "2025-04-07T17:37:24.855Z"
      },
      {
        "duration": 248,
        "start_time": "2025-04-07T17:38:06.008Z"
      },
      {
        "duration": 8,
        "start_time": "2025-04-07T17:38:40.562Z"
      },
      {
        "duration": 128,
        "start_time": "2025-04-07T17:39:25.314Z"
      },
      {
        "duration": 137,
        "start_time": "2025-04-07T17:40:07.914Z"
      },
      {
        "duration": 112,
        "start_time": "2025-04-07T17:40:16.082Z"
      },
      {
        "duration": 105,
        "start_time": "2025-04-07T17:40:30.329Z"
      },
      {
        "duration": 8,
        "start_time": "2025-04-07T17:40:52.866Z"
      },
      {
        "duration": 8,
        "start_time": "2025-04-07T17:40:57.000Z"
      },
      {
        "duration": 10,
        "start_time": "2025-04-07T17:41:20.547Z"
      },
      {
        "duration": 8,
        "start_time": "2025-04-07T17:41:27.884Z"
      },
      {
        "duration": 119,
        "start_time": "2025-04-07T17:43:56.406Z"
      },
      {
        "duration": 96,
        "start_time": "2025-04-07T17:44:33.084Z"
      },
      {
        "duration": 96,
        "start_time": "2025-04-07T17:45:34.590Z"
      },
      {
        "duration": 119,
        "start_time": "2025-04-07T17:45:50.183Z"
      },
      {
        "duration": 7,
        "start_time": "2025-04-07T17:46:25.197Z"
      },
      {
        "duration": 94,
        "start_time": "2025-04-07T17:46:42.093Z"
      },
      {
        "duration": 178,
        "start_time": "2025-04-07T17:46:58.829Z"
      },
      {
        "duration": 184,
        "start_time": "2025-04-07T17:47:04.649Z"
      },
      {
        "duration": 5,
        "start_time": "2025-04-07T17:49:11.575Z"
      },
      {
        "duration": 109,
        "start_time": "2025-04-07T17:49:59.231Z"
      },
      {
        "duration": 136,
        "start_time": "2025-04-07T17:50:39.569Z"
      },
      {
        "duration": 142,
        "start_time": "2025-04-07T17:50:56.752Z"
      },
      {
        "duration": 15,
        "start_time": "2025-04-07T17:52:25.419Z"
      },
      {
        "duration": 68,
        "start_time": "2025-04-07T17:52:32.283Z"
      },
      {
        "duration": 17,
        "start_time": "2025-04-07T17:53:44.298Z"
      },
      {
        "duration": 13,
        "start_time": "2025-04-07T17:53:48.370Z"
      },
      {
        "duration": 5,
        "start_time": "2025-04-07T17:54:31.013Z"
      },
      {
        "duration": 23,
        "start_time": "2025-04-07T17:55:47.276Z"
      },
      {
        "duration": 15,
        "start_time": "2025-04-07T17:55:53.245Z"
      },
      {
        "duration": 31,
        "start_time": "2025-04-07T17:56:38.604Z"
      },
      {
        "duration": 22,
        "start_time": "2025-04-07T18:07:07.017Z"
      },
      {
        "duration": 19,
        "start_time": "2025-04-07T18:07:14.582Z"
      },
      {
        "duration": 4,
        "start_time": "2025-04-07T18:08:12.647Z"
      },
      {
        "duration": 6,
        "start_time": "2025-04-07T18:08:58.317Z"
      },
      {
        "duration": 5,
        "start_time": "2025-04-07T18:09:18.896Z"
      },
      {
        "duration": 4,
        "start_time": "2025-04-07T18:09:23.596Z"
      },
      {
        "duration": 4,
        "start_time": "2025-04-07T18:09:53.549Z"
      },
      {
        "duration": 25,
        "start_time": "2025-04-07T18:10:09.117Z"
      },
      {
        "duration": 27,
        "start_time": "2025-04-07T18:10:24.321Z"
      },
      {
        "duration": 4,
        "start_time": "2025-04-07T18:10:36.086Z"
      },
      {
        "duration": 4,
        "start_time": "2025-04-07T18:11:06.101Z"
      },
      {
        "duration": 8,
        "start_time": "2025-04-07T18:11:24.310Z"
      },
      {
        "duration": 6,
        "start_time": "2025-04-07T18:12:00.975Z"
      },
      {
        "duration": 4,
        "start_time": "2025-04-07T18:12:12.991Z"
      },
      {
        "duration": 4,
        "start_time": "2025-04-07T18:12:23.655Z"
      },
      {
        "duration": 5,
        "start_time": "2025-04-07T18:12:28.078Z"
      },
      {
        "duration": 16,
        "start_time": "2025-04-07T18:14:59.497Z"
      },
      {
        "duration": 6,
        "start_time": "2025-04-07T18:15:15.364Z"
      },
      {
        "duration": 15,
        "start_time": "2025-04-07T18:15:18.265Z"
      },
      {
        "duration": 21,
        "start_time": "2025-04-07T18:15:21.571Z"
      },
      {
        "duration": 17,
        "start_time": "2025-04-07T18:15:42.328Z"
      },
      {
        "duration": 5,
        "start_time": "2025-04-07T18:16:03.076Z"
      },
      {
        "duration": 12,
        "start_time": "2025-04-07T18:16:57.525Z"
      },
      {
        "duration": 11,
        "start_time": "2025-04-07T18:17:02.866Z"
      },
      {
        "duration": 7,
        "start_time": "2025-04-07T18:17:11.404Z"
      },
      {
        "duration": 13,
        "start_time": "2025-04-07T18:17:50.946Z"
      },
      {
        "duration": 10,
        "start_time": "2025-04-07T18:18:06.472Z"
      },
      {
        "duration": 13,
        "start_time": "2025-04-07T18:18:25.269Z"
      },
      {
        "duration": 12,
        "start_time": "2025-04-07T18:18:30.363Z"
      },
      {
        "duration": 9,
        "start_time": "2025-04-07T18:18:42.882Z"
      },
      {
        "duration": 6,
        "start_time": "2025-04-07T18:18:46.892Z"
      },
      {
        "duration": 8,
        "start_time": "2025-04-07T18:18:57.051Z"
      },
      {
        "duration": 9,
        "start_time": "2025-04-07T18:18:58.780Z"
      },
      {
        "duration": 4,
        "start_time": "2025-04-07T18:20:01.499Z"
      },
      {
        "duration": 7,
        "start_time": "2025-04-07T18:20:07.820Z"
      },
      {
        "duration": 9,
        "start_time": "2025-04-07T18:20:52.349Z"
      },
      {
        "duration": 11,
        "start_time": "2025-04-07T18:21:38.542Z"
      },
      {
        "duration": 4,
        "start_time": "2025-04-07T18:22:32.484Z"
      },
      {
        "duration": 4,
        "start_time": "2025-04-07T18:23:11.586Z"
      },
      {
        "duration": 4,
        "start_time": "2025-04-07T18:24:08.351Z"
      },
      {
        "duration": 7,
        "start_time": "2025-04-07T18:25:07.337Z"
      },
      {
        "duration": 6,
        "start_time": "2025-04-07T18:25:21.770Z"
      },
      {
        "duration": 12,
        "start_time": "2025-04-07T18:25:48.090Z"
      },
      {
        "duration": 5,
        "start_time": "2025-04-07T18:25:56.936Z"
      },
      {
        "duration": 7,
        "start_time": "2025-04-07T18:26:26.608Z"
      },
      {
        "duration": 7,
        "start_time": "2025-04-07T18:26:32.227Z"
      },
      {
        "duration": 6,
        "start_time": "2025-04-07T18:26:37.049Z"
      },
      {
        "duration": 7,
        "start_time": "2025-04-07T18:26:48.102Z"
      },
      {
        "duration": 6,
        "start_time": "2025-04-07T18:27:03.899Z"
      },
      {
        "duration": 7,
        "start_time": "2025-04-07T18:27:37.657Z"
      },
      {
        "duration": 12,
        "start_time": "2025-04-07T18:28:06.378Z"
      },
      {
        "duration": 6,
        "start_time": "2025-04-07T18:28:30.316Z"
      },
      {
        "duration": 4,
        "start_time": "2025-04-07T18:30:06.220Z"
      },
      {
        "duration": 9,
        "start_time": "2025-04-07T18:30:26.706Z"
      },
      {
        "duration": 6,
        "start_time": "2025-04-07T18:30:46.728Z"
      },
      {
        "duration": 11,
        "start_time": "2025-04-07T18:30:51.572Z"
      },
      {
        "duration": 10,
        "start_time": "2025-04-07T18:31:04.098Z"
      },
      {
        "duration": 4,
        "start_time": "2025-04-07T18:31:47.513Z"
      },
      {
        "duration": 4,
        "start_time": "2025-04-07T18:32:30.404Z"
      },
      {
        "duration": 3,
        "start_time": "2025-04-07T18:32:40.325Z"
      },
      {
        "duration": 3,
        "start_time": "2025-04-07T18:32:54.301Z"
      },
      {
        "duration": 4,
        "start_time": "2025-04-07T18:33:09.551Z"
      },
      {
        "duration": 8,
        "start_time": "2025-04-07T18:34:34.990Z"
      },
      {
        "duration": 1015,
        "start_time": "2025-04-07T18:35:52.694Z"
      },
      {
        "duration": 11,
        "start_time": "2025-04-07T18:35:55.749Z"
      },
      {
        "duration": 10,
        "start_time": "2025-04-07T18:35:56.095Z"
      },
      {
        "duration": 9,
        "start_time": "2025-04-07T18:35:56.527Z"
      },
      {
        "duration": 9,
        "start_time": "2025-04-07T18:35:57.143Z"
      },
      {
        "duration": 7,
        "start_time": "2025-04-07T18:35:57.718Z"
      },
      {
        "duration": 169,
        "start_time": "2025-04-07T18:36:01.531Z"
      },
      {
        "duration": 3,
        "start_time": "2025-04-07T18:36:03.654Z"
      },
      {
        "duration": 8,
        "start_time": "2025-04-07T18:36:04.300Z"
      },
      {
        "duration": 3,
        "start_time": "2025-04-07T18:36:05.367Z"
      },
      {
        "duration": 76,
        "start_time": "2025-04-07T18:36:05.673Z"
      },
      {
        "duration": 4,
        "start_time": "2025-04-07T18:36:06.013Z"
      },
      {
        "duration": 74,
        "start_time": "2025-04-07T18:36:07.080Z"
      },
      {
        "duration": 2,
        "start_time": "2025-04-07T18:36:07.375Z"
      },
      {
        "duration": 38,
        "start_time": "2025-04-07T18:36:07.795Z"
      },
      {
        "duration": 2,
        "start_time": "2025-04-07T18:36:09.790Z"
      },
      {
        "duration": 15,
        "start_time": "2025-04-07T18:36:10.494Z"
      },
      {
        "duration": 2,
        "start_time": "2025-04-07T18:36:10.871Z"
      },
      {
        "duration": 4,
        "start_time": "2025-04-07T18:36:11.181Z"
      },
      {
        "duration": 2,
        "start_time": "2025-04-07T18:36:11.495Z"
      },
      {
        "duration": 23,
        "start_time": "2025-04-07T18:36:12.019Z"
      },
      {
        "duration": 3,
        "start_time": "2025-04-07T18:36:12.477Z"
      },
      {
        "duration": 17,
        "start_time": "2025-04-07T18:36:12.982Z"
      },
      {
        "duration": 3,
        "start_time": "2025-04-07T18:36:14.981Z"
      },
      {
        "duration": 4,
        "start_time": "2025-04-07T18:36:15.294Z"
      },
      {
        "duration": 3,
        "start_time": "2025-04-07T18:36:15.716Z"
      },
      {
        "duration": 4,
        "start_time": "2025-04-07T18:36:16.018Z"
      },
      {
        "duration": 2,
        "start_time": "2025-04-07T18:36:17.331Z"
      },
      {
        "duration": 4,
        "start_time": "2025-04-07T18:36:17.784Z"
      },
      {
        "duration": 2,
        "start_time": "2025-04-07T18:36:18.096Z"
      },
      {
        "duration": 3,
        "start_time": "2025-04-07T18:36:18.823Z"
      },
      {
        "duration": 2,
        "start_time": "2025-04-07T18:36:23.357Z"
      },
      {
        "duration": 755,
        "start_time": "2025-04-07T18:36:23.701Z"
      },
      {
        "duration": 2,
        "start_time": "2025-04-07T18:36:25.181Z"
      },
      {
        "duration": 21,
        "start_time": "2025-04-07T18:36:26.022Z"
      },
      {
        "duration": 229,
        "start_time": "2025-04-07T18:36:57.720Z"
      },
      {
        "duration": 101,
        "start_time": "2025-04-07T18:37:10.630Z"
      },
      {
        "duration": 75,
        "start_time": "2025-04-07T18:37:29.671Z"
      },
      {
        "duration": 59,
        "start_time": "2025-04-07T18:37:48.557Z"
      },
      {
        "duration": 748,
        "start_time": "2025-04-07T18:37:54.776Z"
      },
      {
        "duration": 2,
        "start_time": "2025-04-07T18:38:04.697Z"
      },
      {
        "duration": 6,
        "start_time": "2025-04-07T18:38:05.800Z"
      },
      {
        "duration": 8,
        "start_time": "2025-04-07T18:38:06.407Z"
      },
      {
        "duration": 2,
        "start_time": "2025-04-07T18:38:12.970Z"
      },
      {
        "duration": 9,
        "start_time": "2025-04-07T18:38:13.494Z"
      },
      {
        "duration": 3,
        "start_time": "2025-04-07T18:38:15.006Z"
      },
      {
        "duration": 11,
        "start_time": "2025-04-07T18:38:15.376Z"
      },
      {
        "duration": 2,
        "start_time": "2025-04-07T18:38:15.975Z"
      },
      {
        "duration": 5,
        "start_time": "2025-04-07T18:38:16.440Z"
      },
      {
        "duration": 5,
        "start_time": "2025-04-07T18:38:16.718Z"
      },
      {
        "duration": 2,
        "start_time": "2025-04-07T18:38:17.497Z"
      },
      {
        "duration": 6,
        "start_time": "2025-04-07T18:38:17.951Z"
      },
      {
        "duration": 3,
        "start_time": "2025-04-07T18:38:19.123Z"
      },
      {
        "duration": 6,
        "start_time": "2025-04-07T18:38:20.436Z"
      },
      {
        "duration": 2,
        "start_time": "2025-04-07T18:38:20.735Z"
      },
      {
        "duration": 11,
        "start_time": "2025-04-07T18:38:21.114Z"
      },
      {
        "duration": 2,
        "start_time": "2025-04-07T18:38:22.534Z"
      },
      {
        "duration": 23,
        "start_time": "2025-04-07T18:38:25.524Z"
      },
      {
        "duration": 46,
        "start_time": "2025-04-07T18:38:41.727Z"
      },
      {
        "duration": 36,
        "start_time": "2025-04-07T18:42:41.425Z"
      },
      {
        "duration": 18,
        "start_time": "2025-04-07T18:42:56.483Z"
      },
      {
        "duration": 12,
        "start_time": "2025-04-07T18:43:38.700Z"
      },
      {
        "duration": 948,
        "start_time": "2025-04-07T18:43:47.347Z"
      },
      {
        "duration": 4,
        "start_time": "2025-04-07T18:44:00.156Z"
      },
      {
        "duration": 3,
        "start_time": "2025-04-07T18:45:08.437Z"
      },
      {
        "duration": 133,
        "start_time": "2025-04-07T18:45:24.721Z"
      },
      {
        "duration": 31,
        "start_time": "2025-04-07T18:45:41.732Z"
      },
      {
        "duration": 4,
        "start_time": "2025-04-07T18:45:52.767Z"
      },
      {
        "duration": 4,
        "start_time": "2025-04-07T18:46:12.550Z"
      },
      {
        "duration": 6,
        "start_time": "2025-04-07T18:46:37.827Z"
      },
      {
        "duration": 5,
        "start_time": "2025-04-07T18:47:17.669Z"
      },
      {
        "duration": 26,
        "start_time": "2025-04-07T18:48:27.416Z"
      },
      {
        "duration": 32,
        "start_time": "2025-04-07T18:48:33.336Z"
      },
      {
        "duration": 10,
        "start_time": "2025-04-07T18:48:48.527Z"
      },
      {
        "duration": 2,
        "start_time": "2025-04-07T18:49:35.158Z"
      },
      {
        "duration": 827,
        "start_time": "2025-04-07T18:49:35.382Z"
      },
      {
        "duration": 10,
        "start_time": "2025-04-07T18:49:36.211Z"
      },
      {
        "duration": 11,
        "start_time": "2025-04-07T18:49:36.223Z"
      },
      {
        "duration": 7,
        "start_time": "2025-04-07T18:49:36.236Z"
      },
      {
        "duration": 7,
        "start_time": "2025-04-07T18:49:36.246Z"
      },
      {
        "duration": 6,
        "start_time": "2025-04-07T18:49:36.415Z"
      },
      {
        "duration": 136,
        "start_time": "2025-04-07T18:49:37.551Z"
      },
      {
        "duration": 3,
        "start_time": "2025-04-07T18:49:37.967Z"
      },
      {
        "duration": 8,
        "start_time": "2025-04-07T18:49:38.166Z"
      },
      {
        "duration": 2,
        "start_time": "2025-04-07T18:49:38.604Z"
      },
      {
        "duration": 74,
        "start_time": "2025-04-07T18:49:38.815Z"
      },
      {
        "duration": 3,
        "start_time": "2025-04-07T18:49:39.037Z"
      },
      {
        "duration": 82,
        "start_time": "2025-04-07T18:49:39.263Z"
      },
      {
        "duration": 2,
        "start_time": "2025-04-07T18:49:39.485Z"
      },
      {
        "duration": 39,
        "start_time": "2025-04-07T18:49:39.959Z"
      },
      {
        "duration": 2,
        "start_time": "2025-04-07T18:49:40.727Z"
      },
      {
        "duration": 14,
        "start_time": "2025-04-07T18:49:40.957Z"
      },
      {
        "duration": 2,
        "start_time": "2025-04-07T18:49:41.203Z"
      },
      {
        "duration": 8,
        "start_time": "2025-04-07T18:49:41.451Z"
      },
      {
        "duration": 2,
        "start_time": "2025-04-07T18:49:41.695Z"
      },
      {
        "duration": 24,
        "start_time": "2025-04-07T18:49:41.950Z"
      },
      {
        "duration": 2,
        "start_time": "2025-04-07T18:49:42.174Z"
      },
      {
        "duration": 12,
        "start_time": "2025-04-07T18:49:42.366Z"
      },
      {
        "duration": 2,
        "start_time": "2025-04-07T18:49:43.015Z"
      },
      {
        "duration": 3,
        "start_time": "2025-04-07T18:49:43.223Z"
      },
      {
        "duration": 2,
        "start_time": "2025-04-07T18:49:43.451Z"
      },
      {
        "duration": 4,
        "start_time": "2025-04-07T18:49:43.669Z"
      },
      {
        "duration": 1,
        "start_time": "2025-04-07T18:49:44.361Z"
      },
      {
        "duration": 4,
        "start_time": "2025-04-07T18:49:44.766Z"
      },
      {
        "duration": 4,
        "start_time": "2025-04-07T18:49:44.999Z"
      },
      {
        "duration": 3,
        "start_time": "2025-04-07T18:49:45.225Z"
      },
      {
        "duration": 2,
        "start_time": "2025-04-07T18:49:45.894Z"
      },
      {
        "duration": 737,
        "start_time": "2025-04-07T18:49:46.144Z"
      },
      {
        "duration": 2,
        "start_time": "2025-04-07T18:49:46.883Z"
      },
      {
        "duration": 198,
        "start_time": "2025-04-07T18:49:46.887Z"
      },
      {
        "duration": 116,
        "start_time": "2025-04-07T18:49:47.087Z"
      },
      {
        "duration": 100,
        "start_time": "2025-04-07T18:49:47.209Z"
      },
      {
        "duration": 58,
        "start_time": "2025-04-07T18:49:47.312Z"
      },
      {
        "duration": 2,
        "start_time": "2025-04-07T18:49:48.223Z"
      },
      {
        "duration": 6,
        "start_time": "2025-04-07T18:49:48.458Z"
      },
      {
        "duration": 8,
        "start_time": "2025-04-07T18:49:48.669Z"
      },
      {
        "duration": 3,
        "start_time": "2025-04-07T18:49:49.111Z"
      },
      {
        "duration": 8,
        "start_time": "2025-04-07T18:49:49.367Z"
      },
      {
        "duration": 3,
        "start_time": "2025-04-07T18:49:49.815Z"
      },
      {
        "duration": 8,
        "start_time": "2025-04-07T18:49:50.240Z"
      },
      {
        "duration": 2,
        "start_time": "2025-04-07T18:49:50.814Z"
      },
      {
        "duration": 5,
        "start_time": "2025-04-07T18:49:51.112Z"
      },
      {
        "duration": 5,
        "start_time": "2025-04-07T18:49:51.376Z"
      },
      {
        "duration": 2,
        "start_time": "2025-04-07T18:49:51.874Z"
      },
      {
        "duration": 5,
        "start_time": "2025-04-07T18:49:52.190Z"
      },
      {
        "duration": 3,
        "start_time": "2025-04-07T18:49:53.278Z"
      },
      {
        "duration": 6,
        "start_time": "2025-04-07T18:49:53.638Z"
      },
      {
        "duration": 3,
        "start_time": "2025-04-07T18:49:54.366Z"
      },
      {
        "duration": 10,
        "start_time": "2025-04-07T18:49:55.377Z"
      },
      {
        "duration": 2,
        "start_time": "2025-04-07T18:49:56.856Z"
      },
      {
        "duration": 17,
        "start_time": "2025-04-07T18:49:57.181Z"
      },
      {
        "duration": 2,
        "start_time": "2025-04-07T18:49:57.518Z"
      },
      {
        "duration": 29,
        "start_time": "2025-04-07T18:49:57.862Z"
      },
      {
        "duration": 5,
        "start_time": "2025-04-07T18:49:58.477Z"
      },
      {
        "duration": 29,
        "start_time": "2025-04-07T18:49:58.766Z"
      },
      {
        "duration": 17,
        "start_time": "2025-04-07T18:49:59.395Z"
      },
      {
        "duration": 2,
        "start_time": "2025-04-07T18:49:59.780Z"
      },
      {
        "duration": 15,
        "start_time": "2025-04-07T18:52:12.259Z"
      },
      {
        "duration": 2,
        "start_time": "2025-04-07T18:52:12.992Z"
      },
      {
        "duration": 29,
        "start_time": "2025-04-07T18:52:13.297Z"
      },
      {
        "duration": 11,
        "start_time": "2025-04-07T18:52:13.785Z"
      },
      {
        "duration": 15,
        "start_time": "2025-04-07T18:52:19.912Z"
      },
      {
        "duration": 8,
        "start_time": "2025-04-07T18:52:36.807Z"
      },
      {
        "duration": 8,
        "start_time": "2025-04-07T18:52:40.376Z"
      },
      {
        "duration": 8,
        "start_time": "2025-04-07T18:52:44.319Z"
      },
      {
        "duration": 28,
        "start_time": "2025-04-07T18:53:06.282Z"
      },
      {
        "duration": 13,
        "start_time": "2025-04-07T18:53:08.609Z"
      },
      {
        "duration": 2,
        "start_time": "2025-04-07T18:55:28.709Z"
      },
      {
        "duration": 838,
        "start_time": "2025-04-07T18:55:28.893Z"
      },
      {
        "duration": 11,
        "start_time": "2025-04-07T18:55:29.733Z"
      },
      {
        "duration": 11,
        "start_time": "2025-04-07T18:55:29.745Z"
      },
      {
        "duration": 9,
        "start_time": "2025-04-07T18:55:29.758Z"
      },
      {
        "duration": 9,
        "start_time": "2025-04-07T18:55:29.768Z"
      },
      {
        "duration": 31,
        "start_time": "2025-04-07T18:55:29.780Z"
      },
      {
        "duration": 135,
        "start_time": "2025-04-07T18:55:30.926Z"
      },
      {
        "duration": 2,
        "start_time": "2025-04-07T18:55:31.302Z"
      },
      {
        "duration": 7,
        "start_time": "2025-04-07T18:55:31.490Z"
      },
      {
        "duration": 4,
        "start_time": "2025-04-07T18:55:31.921Z"
      },
      {
        "duration": 79,
        "start_time": "2025-04-07T18:55:32.121Z"
      },
      {
        "duration": 2,
        "start_time": "2025-04-07T18:55:32.355Z"
      },
      {
        "duration": 66,
        "start_time": "2025-04-07T18:55:32.603Z"
      },
      {
        "duration": 2,
        "start_time": "2025-04-07T18:55:32.868Z"
      },
      {
        "duration": 43,
        "start_time": "2025-04-07T18:55:33.225Z"
      },
      {
        "duration": 3,
        "start_time": "2025-04-07T18:55:34.570Z"
      },
      {
        "duration": 13,
        "start_time": "2025-04-07T18:55:34.882Z"
      },
      {
        "duration": 2,
        "start_time": "2025-04-07T18:55:35.114Z"
      },
      {
        "duration": 4,
        "start_time": "2025-04-07T18:55:35.417Z"
      },
      {
        "duration": 2,
        "start_time": "2025-04-07T18:55:35.859Z"
      },
      {
        "duration": 23,
        "start_time": "2025-04-07T18:55:36.279Z"
      },
      {
        "duration": 2,
        "start_time": "2025-04-07T18:55:36.652Z"
      },
      {
        "duration": 16,
        "start_time": "2025-04-07T18:55:37.330Z"
      },
      {
        "duration": 2,
        "start_time": "2025-04-07T18:55:38.826Z"
      },
      {
        "duration": 4,
        "start_time": "2025-04-07T18:55:39.074Z"
      },
      {
        "duration": 2,
        "start_time": "2025-04-07T18:55:39.330Z"
      },
      {
        "duration": 3,
        "start_time": "2025-04-07T18:55:39.622Z"
      },
      {
        "duration": 3,
        "start_time": "2025-04-07T18:55:40.689Z"
      },
      {
        "duration": 4,
        "start_time": "2025-04-07T18:55:41.164Z"
      },
      {
        "duration": 3,
        "start_time": "2025-04-07T18:55:41.707Z"
      },
      {
        "duration": 4,
        "start_time": "2025-04-07T18:55:42.074Z"
      },
      {
        "duration": 2,
        "start_time": "2025-04-07T18:55:43.099Z"
      },
      {
        "duration": 691,
        "start_time": "2025-04-07T18:55:43.554Z"
      },
      {
        "duration": 2,
        "start_time": "2025-04-07T18:55:44.248Z"
      },
      {
        "duration": 147,
        "start_time": "2025-04-07T18:55:44.364Z"
      },
      {
        "duration": 75,
        "start_time": "2025-04-07T18:55:46.234Z"
      },
      {
        "duration": 74,
        "start_time": "2025-04-07T18:55:46.842Z"
      },
      {
        "duration": 56,
        "start_time": "2025-04-07T18:55:47.127Z"
      },
      {
        "duration": 2,
        "start_time": "2025-04-07T18:55:49.348Z"
      },
      {
        "duration": 7,
        "start_time": "2025-04-07T18:55:49.796Z"
      },
      {
        "duration": 8,
        "start_time": "2025-04-07T18:55:50.955Z"
      },
      {
        "duration": 2,
        "start_time": "2025-04-07T18:55:56.946Z"
      },
      {
        "duration": 9,
        "start_time": "2025-04-07T18:55:58.587Z"
      },
      {
        "duration": 2,
        "start_time": "2025-04-07T18:56:03.937Z"
      },
      {
        "duration": 8,
        "start_time": "2025-04-07T18:56:04.343Z"
      },
      {
        "duration": 3,
        "start_time": "2025-04-07T18:56:08.135Z"
      },
      {
        "duration": 5,
        "start_time": "2025-04-07T18:56:08.851Z"
      },
      {
        "duration": 4,
        "start_time": "2025-04-07T18:56:09.853Z"
      },
      {
        "duration": 2,
        "start_time": "2025-04-07T18:56:13.165Z"
      },
      {
        "duration": 6,
        "start_time": "2025-04-07T18:56:14.038Z"
      },
      {
        "duration": 3,
        "start_time": "2025-04-07T18:56:16.989Z"
      },
      {
        "duration": 6,
        "start_time": "2025-04-07T18:56:17.570Z"
      },
      {
        "duration": 3,
        "start_time": "2025-04-07T18:56:23.719Z"
      },
      {
        "duration": 2,
        "start_time": "2025-04-07T18:58:11.959Z"
      },
      {
        "duration": 6,
        "start_time": "2025-04-07T18:58:12.293Z"
      },
      {
        "duration": 2,
        "start_time": "2025-04-07T18:58:12.512Z"
      },
      {
        "duration": 9,
        "start_time": "2025-04-07T18:58:12.966Z"
      },
      {
        "duration": 2,
        "start_time": "2025-04-07T18:58:16.597Z"
      },
      {
        "duration": 15,
        "start_time": "2025-04-07T18:58:20.533Z"
      },
      {
        "duration": 3,
        "start_time": "2025-04-07T18:58:25.460Z"
      },
      {
        "duration": 31,
        "start_time": "2025-04-07T18:58:27.622Z"
      },
      {
        "duration": 12,
        "start_time": "2025-04-07T19:00:16.621Z"
      },
      {
        "duration": 4,
        "start_time": "2025-04-07T19:00:35.061Z"
      },
      {
        "duration": 4,
        "start_time": "2025-04-07T19:00:54.061Z"
      },
      {
        "duration": 3,
        "start_time": "2025-04-07T19:00:59.325Z"
      },
      {
        "duration": 4,
        "start_time": "2025-04-07T19:01:12.479Z"
      },
      {
        "duration": 678,
        "start_time": "2025-04-07T19:05:11.353Z"
      },
      {
        "duration": 6,
        "start_time": "2025-04-07T19:05:55.039Z"
      },
      {
        "duration": 5,
        "start_time": "2025-04-07T19:06:42.162Z"
      },
      {
        "duration": 12,
        "start_time": "2025-04-07T19:07:06.508Z"
      },
      {
        "duration": 3,
        "start_time": "2025-04-07T19:07:53.848Z"
      },
      {
        "duration": 3,
        "start_time": "2025-04-07T19:07:59.293Z"
      },
      {
        "duration": 3,
        "start_time": "2025-04-07T19:08:16.427Z"
      },
      {
        "duration": 10,
        "start_time": "2025-04-07T19:09:22.670Z"
      },
      {
        "duration": 24,
        "start_time": "2025-04-07T19:09:52.571Z"
      },
      {
        "duration": 7,
        "start_time": "2025-04-07T19:09:58.732Z"
      },
      {
        "duration": 4,
        "start_time": "2025-04-07T19:10:02.134Z"
      },
      {
        "duration": 67,
        "start_time": "2025-04-07T19:10:04.797Z"
      },
      {
        "duration": 31,
        "start_time": "2025-04-07T19:10:16.589Z"
      },
      {
        "duration": 12,
        "start_time": "2025-04-07T19:10:31.068Z"
      },
      {
        "duration": 4,
        "start_time": "2025-04-07T19:11:49.965Z"
      },
      {
        "duration": 2,
        "start_time": "2025-04-07T19:12:00.962Z"
      },
      {
        "duration": 4,
        "start_time": "2025-04-07T19:12:14.609Z"
      },
      {
        "duration": 3,
        "start_time": "2025-04-07T19:12:37.829Z"
      },
      {
        "duration": 2,
        "start_time": "2025-04-07T19:12:50.607Z"
      },
      {
        "duration": 2,
        "start_time": "2025-04-07T19:13:04.726Z"
      },
      {
        "duration": 80,
        "start_time": "2025-04-07T19:14:40.688Z"
      },
      {
        "duration": 9,
        "start_time": "2025-04-07T19:14:49.447Z"
      },
      {
        "duration": 7,
        "start_time": "2025-04-07T19:15:15.711Z"
      },
      {
        "duration": 4,
        "start_time": "2025-04-07T19:15:38.930Z"
      },
      {
        "duration": 3,
        "start_time": "2025-04-07T19:15:52.883Z"
      },
      {
        "duration": 6,
        "start_time": "2025-04-07T19:16:42.428Z"
      },
      {
        "duration": 3,
        "start_time": "2025-04-07T19:16:42.888Z"
      },
      {
        "duration": 3,
        "start_time": "2025-04-07T19:16:43.513Z"
      },
      {
        "duration": 3,
        "start_time": "2025-04-07T19:16:51.079Z"
      },
      {
        "duration": 8,
        "start_time": "2025-04-07T19:16:56.251Z"
      },
      {
        "duration": 3,
        "start_time": "2025-04-07T19:18:08.160Z"
      },
      {
        "duration": 3,
        "start_time": "2025-04-07T19:18:21.161Z"
      },
      {
        "duration": 4,
        "start_time": "2025-04-07T19:18:40.441Z"
      },
      {
        "duration": 3,
        "start_time": "2025-04-07T19:19:13.150Z"
      },
      {
        "duration": 3,
        "start_time": "2025-04-07T19:19:34.588Z"
      },
      {
        "duration": 14,
        "start_time": "2025-04-07T19:19:39.390Z"
      },
      {
        "duration": 3,
        "start_time": "2025-04-07T19:19:41.965Z"
      },
      {
        "duration": 3,
        "start_time": "2025-04-07T19:19:54.797Z"
      },
      {
        "duration": 25,
        "start_time": "2025-04-07T19:21:16.906Z"
      },
      {
        "duration": 7,
        "start_time": "2025-04-07T19:21:40.045Z"
      },
      {
        "duration": 14,
        "start_time": "2025-04-07T19:21:48.942Z"
      },
      {
        "duration": 20,
        "start_time": "2025-04-07T19:21:57.318Z"
      },
      {
        "duration": 8,
        "start_time": "2025-04-07T19:22:06.274Z"
      },
      {
        "duration": 331,
        "start_time": "2025-04-07T20:28:31.223Z"
      },
      {
        "duration": 1083,
        "start_time": "2025-04-07T20:28:31.556Z"
      },
      {
        "duration": 12,
        "start_time": "2025-04-07T20:28:32.642Z"
      },
      {
        "duration": 10,
        "start_time": "2025-04-07T20:28:32.655Z"
      },
      {
        "duration": 7,
        "start_time": "2025-04-07T20:28:32.667Z"
      },
      {
        "duration": 34,
        "start_time": "2025-04-07T20:28:32.675Z"
      },
      {
        "duration": 6,
        "start_time": "2025-04-07T20:28:32.712Z"
      },
      {
        "duration": 214,
        "start_time": "2025-04-07T20:28:33.399Z"
      },
      {
        "duration": 2,
        "start_time": "2025-04-07T20:28:33.777Z"
      },
      {
        "duration": 10,
        "start_time": "2025-04-07T20:28:33.975Z"
      },
      {
        "duration": 3,
        "start_time": "2025-04-07T20:28:34.383Z"
      },
      {
        "duration": 97,
        "start_time": "2025-04-07T20:28:34.632Z"
      },
      {
        "duration": 2,
        "start_time": "2025-04-07T20:28:34.870Z"
      },
      {
        "duration": 85,
        "start_time": "2025-04-07T20:28:35.103Z"
      },
      {
        "duration": 2,
        "start_time": "2025-04-07T20:28:35.316Z"
      },
      {
        "duration": 43,
        "start_time": "2025-04-07T20:28:35.504Z"
      },
      {
        "duration": 2,
        "start_time": "2025-04-07T20:28:36.192Z"
      },
      {
        "duration": 15,
        "start_time": "2025-04-07T20:28:36.431Z"
      },
      {
        "duration": 3,
        "start_time": "2025-04-07T20:28:36.679Z"
      },
      {
        "duration": 4,
        "start_time": "2025-04-07T20:28:36.938Z"
      },
      {
        "duration": 3,
        "start_time": "2025-04-07T20:28:37.200Z"
      },
      {
        "duration": 24,
        "start_time": "2025-04-07T20:28:37.464Z"
      },
      {
        "duration": 2,
        "start_time": "2025-04-07T20:28:37.695Z"
      },
      {
        "duration": 16,
        "start_time": "2025-04-07T20:28:37.929Z"
      },
      {
        "duration": 3,
        "start_time": "2025-04-07T20:28:38.703Z"
      },
      {
        "duration": 6,
        "start_time": "2025-04-07T20:28:38.943Z"
      },
      {
        "duration": 3,
        "start_time": "2025-04-07T20:28:39.490Z"
      },
      {
        "duration": 4,
        "start_time": "2025-04-07T20:28:39.495Z"
      },
      {
        "duration": 2,
        "start_time": "2025-04-07T20:28:40.381Z"
      },
      {
        "duration": 4,
        "start_time": "2025-04-07T20:28:40.768Z"
      },
      {
        "duration": 2,
        "start_time": "2025-04-07T20:28:40.920Z"
      },
      {
        "duration": 3,
        "start_time": "2025-04-07T20:28:41.128Z"
      },
      {
        "duration": 2,
        "start_time": "2025-04-07T20:28:41.727Z"
      },
      {
        "duration": 767,
        "start_time": "2025-04-07T20:28:41.951Z"
      },
      {
        "duration": 3,
        "start_time": "2025-04-07T20:28:42.721Z"
      },
      {
        "duration": 228,
        "start_time": "2025-04-07T20:28:42.725Z"
      },
      {
        "duration": 112,
        "start_time": "2025-04-07T20:28:43.675Z"
      },
      {
        "duration": 76,
        "start_time": "2025-04-07T20:28:43.789Z"
      },
      {
        "duration": 66,
        "start_time": "2025-04-07T20:28:43.867Z"
      },
      {
        "duration": 3,
        "start_time": "2025-04-07T20:28:45.135Z"
      },
      {
        "duration": 7,
        "start_time": "2025-04-07T20:28:45.888Z"
      },
      {
        "duration": 9,
        "start_time": "2025-04-07T20:28:46.137Z"
      },
      {
        "duration": 5,
        "start_time": "2025-04-07T20:28:46.671Z"
      },
      {
        "duration": 10,
        "start_time": "2025-04-07T20:28:46.967Z"
      },
      {
        "duration": 2,
        "start_time": "2025-04-07T20:28:47.585Z"
      },
      {
        "duration": 9,
        "start_time": "2025-04-07T20:28:47.995Z"
      },
      {
        "duration": 2,
        "start_time": "2025-04-07T20:28:48.696Z"
      },
      {
        "duration": 5,
        "start_time": "2025-04-07T20:28:48.833Z"
      },
      {
        "duration": 5,
        "start_time": "2025-04-07T20:28:49.198Z"
      },
      {
        "duration": 4,
        "start_time": "2025-04-07T20:28:50.591Z"
      },
      {
        "duration": 6,
        "start_time": "2025-04-07T20:28:51.508Z"
      },
      {
        "duration": 5,
        "start_time": "2025-04-07T20:28:52.447Z"
      },
      {
        "duration": 7,
        "start_time": "2025-04-07T20:28:53.327Z"
      },
      {
        "duration": 2,
        "start_time": "2025-04-07T20:28:53.336Z"
      },
      {
        "duration": 10,
        "start_time": "2025-04-07T20:28:53.339Z"
      },
      {
        "duration": 2,
        "start_time": "2025-04-07T20:28:54.199Z"
      },
      {
        "duration": 26,
        "start_time": "2025-04-07T20:28:54.729Z"
      },
      {
        "duration": 2,
        "start_time": "2025-04-07T20:28:54.757Z"
      },
      {
        "duration": 32,
        "start_time": "2025-04-07T20:28:55.111Z"
      },
      {
        "duration": 2,
        "start_time": "2025-04-07T20:28:56.043Z"
      },
      {
        "duration": 12,
        "start_time": "2025-04-07T20:28:56.362Z"
      },
      {
        "duration": 11,
        "start_time": "2025-04-07T20:28:56.674Z"
      },
      {
        "duration": 3,
        "start_time": "2025-04-07T20:28:57.452Z"
      },
      {
        "duration": 2,
        "start_time": "2025-04-07T20:28:58.015Z"
      },
      {
        "duration": 7,
        "start_time": "2025-04-07T20:28:58.249Z"
      },
      {
        "duration": 3,
        "start_time": "2025-04-07T20:28:59.087Z"
      },
      {
        "duration": 3,
        "start_time": "2025-04-07T20:29:00.091Z"
      },
      {
        "duration": 5,
        "start_time": "2025-04-07T20:29:02.673Z"
      },
      {
        "duration": 4,
        "start_time": "2025-04-07T20:29:03.431Z"
      },
      {
        "duration": 5,
        "start_time": "2025-04-07T20:30:11.487Z"
      },
      {
        "duration": 6,
        "start_time": "2025-04-07T20:30:13.473Z"
      },
      {
        "duration": 3,
        "start_time": "2025-04-07T20:30:16.336Z"
      },
      {
        "duration": 4,
        "start_time": "2025-04-07T20:30:19.266Z"
      },
      {
        "duration": 6,
        "start_time": "2025-04-07T20:30:20.828Z"
      },
      {
        "duration": 6,
        "start_time": "2025-04-07T20:30:25.681Z"
      },
      {
        "duration": 5,
        "start_time": "2025-04-07T20:30:28.024Z"
      },
      {
        "duration": 3,
        "start_time": "2025-04-07T20:30:34.039Z"
      },
      {
        "duration": 4,
        "start_time": "2025-04-07T20:30:35.260Z"
      },
      {
        "duration": 3,
        "start_time": "2025-04-07T20:30:41.962Z"
      },
      {
        "duration": 20,
        "start_time": "2025-04-07T20:30:47.414Z"
      },
      {
        "duration": 18,
        "start_time": "2025-04-07T20:30:49.399Z"
      },
      {
        "duration": 13,
        "start_time": "2025-04-07T20:31:57.818Z"
      },
      {
        "duration": 7,
        "start_time": "2025-04-07T20:32:47.914Z"
      },
      {
        "duration": 174,
        "start_time": "2025-04-07T20:33:09.387Z"
      },
      {
        "duration": 20,
        "start_time": "2025-04-07T20:33:15.665Z"
      },
      {
        "duration": 5,
        "start_time": "2025-04-07T20:33:19.876Z"
      },
      {
        "duration": 3,
        "start_time": "2025-04-07T20:33:40.700Z"
      },
      {
        "duration": 4,
        "start_time": "2025-04-07T20:33:48.540Z"
      },
      {
        "duration": 5,
        "start_time": "2025-04-07T20:34:02.068Z"
      },
      {
        "duration": 4,
        "start_time": "2025-04-07T20:34:11.879Z"
      },
      {
        "duration": 6,
        "start_time": "2025-04-07T20:34:20.368Z"
      },
      {
        "duration": 7,
        "start_time": "2025-04-07T20:34:32.368Z"
      },
      {
        "duration": 8,
        "start_time": "2025-04-07T20:34:58.232Z"
      },
      {
        "duration": 7,
        "start_time": "2025-04-07T20:35:15.839Z"
      },
      {
        "duration": 7,
        "start_time": "2025-04-07T20:35:40.612Z"
      },
      {
        "duration": 1850,
        "start_time": "2025-04-07T20:36:46.669Z"
      },
      {
        "duration": 11,
        "start_time": "2025-04-07T20:38:01.403Z"
      },
      {
        "duration": 470,
        "start_time": "2025-04-07T20:42:36.525Z"
      },
      {
        "duration": 1064,
        "start_time": "2025-04-07T20:42:38.079Z"
      },
      {
        "duration": 11,
        "start_time": "2025-04-07T20:42:39.145Z"
      },
      {
        "duration": 11,
        "start_time": "2025-04-07T20:42:41.153Z"
      },
      {
        "duration": 8,
        "start_time": "2025-04-07T20:42:41.743Z"
      },
      {
        "duration": 8,
        "start_time": "2025-04-07T20:42:42.118Z"
      },
      {
        "duration": 7,
        "start_time": "2025-04-07T20:42:42.466Z"
      },
      {
        "duration": 186,
        "start_time": "2025-04-07T20:42:43.847Z"
      },
      {
        "duration": 2,
        "start_time": "2025-04-07T20:42:44.232Z"
      },
      {
        "duration": 8,
        "start_time": "2025-04-07T20:42:44.436Z"
      },
      {
        "duration": 2,
        "start_time": "2025-04-07T20:42:44.850Z"
      },
      {
        "duration": 102,
        "start_time": "2025-04-07T20:42:45.071Z"
      },
      {
        "duration": 2,
        "start_time": "2025-04-07T20:42:45.315Z"
      },
      {
        "duration": 99,
        "start_time": "2025-04-07T20:42:45.546Z"
      },
      {
        "duration": 2,
        "start_time": "2025-04-07T20:42:45.754Z"
      },
      {
        "duration": 43,
        "start_time": "2025-04-07T20:42:45.966Z"
      },
      {
        "duration": 3,
        "start_time": "2025-04-07T20:42:46.622Z"
      },
      {
        "duration": 14,
        "start_time": "2025-04-07T20:42:46.854Z"
      },
      {
        "duration": 3,
        "start_time": "2025-04-07T20:42:47.241Z"
      },
      {
        "duration": 4,
        "start_time": "2025-04-07T20:42:47.514Z"
      },
      {
        "duration": 3,
        "start_time": "2025-04-07T20:42:47.755Z"
      },
      {
        "duration": 24,
        "start_time": "2025-04-07T20:42:47.939Z"
      },
      {
        "duration": 3,
        "start_time": "2025-04-07T20:42:48.141Z"
      },
      {
        "duration": 14,
        "start_time": "2025-04-07T20:42:48.315Z"
      },
      {
        "duration": 3,
        "start_time": "2025-04-07T20:42:48.897Z"
      },
      {
        "duration": 5,
        "start_time": "2025-04-07T20:42:49.102Z"
      },
      {
        "duration": 3,
        "start_time": "2025-04-07T20:42:49.319Z"
      },
      {
        "duration": 4,
        "start_time": "2025-04-07T20:42:49.533Z"
      },
      {
        "duration": 2,
        "start_time": "2025-04-07T20:42:50.199Z"
      },
      {
        "duration": 4,
        "start_time": "2025-04-07T20:42:50.433Z"
      },
      {
        "duration": 2,
        "start_time": "2025-04-07T20:42:50.654Z"
      },
      {
        "duration": 4,
        "start_time": "2025-04-07T20:42:50.877Z"
      },
      {
        "duration": 2,
        "start_time": "2025-04-07T20:42:51.604Z"
      },
      {
        "duration": 752,
        "start_time": "2025-04-07T20:42:51.829Z"
      },
      {
        "duration": 2,
        "start_time": "2025-04-07T20:42:52.583Z"
      },
      {
        "duration": 196,
        "start_time": "2025-04-07T20:42:52.587Z"
      },
      {
        "duration": 108,
        "start_time": "2025-04-07T20:42:52.786Z"
      },
      {
        "duration": 76,
        "start_time": "2025-04-07T20:42:53.261Z"
      },
      {
        "duration": 56,
        "start_time": "2025-04-07T20:42:53.588Z"
      },
      {
        "duration": 3,
        "start_time": "2025-04-07T20:42:55.245Z"
      },
      {
        "duration": 6,
        "start_time": "2025-04-07T20:42:55.505Z"
      },
      {
        "duration": 8,
        "start_time": "2025-04-07T20:42:55.717Z"
      },
      {
        "duration": 2,
        "start_time": "2025-04-07T20:42:56.135Z"
      },
      {
        "duration": 8,
        "start_time": "2025-04-07T20:42:56.313Z"
      },
      {
        "duration": 3,
        "start_time": "2025-04-07T20:42:56.646Z"
      },
      {
        "duration": 10,
        "start_time": "2025-04-07T20:42:56.805Z"
      },
      {
        "duration": 2,
        "start_time": "2025-04-07T20:42:57.103Z"
      },
      {
        "duration": 4,
        "start_time": "2025-04-07T20:42:57.248Z"
      },
      {
        "duration": 6,
        "start_time": "2025-04-07T20:42:57.409Z"
      },
      {
        "duration": 2,
        "start_time": "2025-04-07T20:42:57.712Z"
      },
      {
        "duration": 6,
        "start_time": "2025-04-07T20:42:57.854Z"
      },
      {
        "duration": 3,
        "start_time": "2025-04-07T20:42:58.329Z"
      },
      {
        "duration": 6,
        "start_time": "2025-04-07T20:42:58.766Z"
      },
      {
        "duration": 2,
        "start_time": "2025-04-07T20:42:59.027Z"
      },
      {
        "duration": 9,
        "start_time": "2025-04-07T20:42:59.318Z"
      },
      {
        "duration": 2,
        "start_time": "2025-04-07T20:43:00.830Z"
      },
      {
        "duration": 15,
        "start_time": "2025-04-07T20:43:01.223Z"
      },
      {
        "duration": 2,
        "start_time": "2025-04-07T20:43:01.626Z"
      },
      {
        "duration": 31,
        "start_time": "2025-04-07T20:43:02.174Z"
      },
      {
        "duration": 2,
        "start_time": "2025-04-07T20:43:02.975Z"
      },
      {
        "duration": 11,
        "start_time": "2025-04-07T20:43:03.342Z"
      },
      {
        "duration": 9,
        "start_time": "2025-04-07T20:43:03.637Z"
      },
      {
        "duration": 4,
        "start_time": "2025-04-07T20:43:03.955Z"
      },
      {
        "duration": 3,
        "start_time": "2025-04-07T20:43:04.333Z"
      },
      {
        "duration": 6,
        "start_time": "2025-04-07T20:43:04.766Z"
      },
      {
        "duration": 4,
        "start_time": "2025-04-07T20:43:05.023Z"
      },
      {
        "duration": 4,
        "start_time": "2025-04-07T20:43:05.214Z"
      },
      {
        "duration": 4,
        "start_time": "2025-04-07T20:43:05.430Z"
      },
      {
        "duration": 3,
        "start_time": "2025-04-07T20:43:05.731Z"
      },
      {
        "duration": 2,
        "start_time": "2025-04-07T20:43:06.327Z"
      },
      {
        "duration": 21,
        "start_time": "2025-04-07T20:43:06.583Z"
      },
      {
        "duration": 18,
        "start_time": "2025-04-07T20:43:06.854Z"
      },
      {
        "duration": 7,
        "start_time": "2025-04-07T20:43:09.391Z"
      },
      {
        "duration": 7,
        "start_time": "2025-04-07T20:43:09.983Z"
      },
      {
        "duration": 2253,
        "start_time": "2025-04-07T20:43:11.638Z"
      },
      {
        "duration": 1629,
        "start_time": "2025-04-07T20:43:24.979Z"
      },
      {
        "duration": 8,
        "start_time": "2025-04-07T20:44:03.572Z"
      },
      {
        "duration": 1374,
        "start_time": "2025-04-07T20:44:06.870Z"
      },
      {
        "duration": 10,
        "start_time": "2025-04-07T20:44:53.617Z"
      },
      {
        "duration": 1821,
        "start_time": "2025-04-07T20:45:28.779Z"
      },
      {
        "duration": 1538,
        "start_time": "2025-04-07T20:46:31.002Z"
      },
      {
        "duration": 704,
        "start_time": "2025-04-07T20:51:00.749Z"
      },
      {
        "duration": 74,
        "start_time": "2025-04-07T20:53:16.257Z"
      },
      {
        "duration": 156,
        "start_time": "2025-04-07T20:53:24.424Z"
      },
      {
        "duration": 154,
        "start_time": "2025-04-07T20:53:34.942Z"
      },
      {
        "duration": 220,
        "start_time": "2025-04-07T20:54:40.527Z"
      },
      {
        "duration": 239,
        "start_time": "2025-04-07T20:54:58.327Z"
      },
      {
        "duration": 223,
        "start_time": "2025-04-07T20:56:19.077Z"
      },
      {
        "duration": 219,
        "start_time": "2025-04-07T20:56:44.499Z"
      },
      {
        "duration": 5,
        "start_time": "2025-04-07T21:00:50.523Z"
      },
      {
        "duration": 3,
        "start_time": "2025-04-07T21:01:11.474Z"
      },
      {
        "duration": 2,
        "start_time": "2025-04-07T21:01:22.839Z"
      },
      {
        "duration": 100,
        "start_time": "2025-04-07T21:01:45.345Z"
      },
      {
        "duration": 100,
        "start_time": "2025-04-07T21:01:56.038Z"
      },
      {
        "duration": 100,
        "start_time": "2025-04-07T21:01:59.902Z"
      },
      {
        "duration": 9,
        "start_time": "2025-04-07T21:03:58.854Z"
      },
      {
        "duration": 247,
        "start_time": "2025-04-07T21:04:42.117Z"
      },
      {
        "duration": 5,
        "start_time": "2025-04-07T21:06:12.254Z"
      },
      {
        "duration": 4,
        "start_time": "2025-04-07T21:06:16.421Z"
      },
      {
        "duration": 203,
        "start_time": "2025-04-07T21:06:32.365Z"
      },
      {
        "duration": 5,
        "start_time": "2025-04-07T21:06:46.106Z"
      },
      {
        "duration": 270,
        "start_time": "2025-04-07T21:06:49.150Z"
      },
      {
        "duration": 159,
        "start_time": "2025-04-07T21:07:20.129Z"
      },
      {
        "duration": 240,
        "start_time": "2025-04-07T21:07:42.519Z"
      },
      {
        "duration": 21,
        "start_time": "2025-04-07T21:10:36.788Z"
      },
      {
        "duration": 138,
        "start_time": "2025-04-07T21:11:02.891Z"
      },
      {
        "duration": 6,
        "start_time": "2025-04-07T21:11:45.708Z"
      },
      {
        "duration": 5,
        "start_time": "2025-04-07T21:11:52.897Z"
      },
      {
        "duration": 4,
        "start_time": "2025-04-07T21:11:57.217Z"
      },
      {
        "duration": 135,
        "start_time": "2025-04-07T21:12:33.270Z"
      },
      {
        "duration": 138,
        "start_time": "2025-04-07T21:12:40.906Z"
      },
      {
        "duration": 6,
        "start_time": "2025-04-07T21:13:11.827Z"
      },
      {
        "duration": 10,
        "start_time": "2025-04-07T21:13:36.959Z"
      },
      {
        "duration": 132,
        "start_time": "2025-04-07T21:14:28.322Z"
      },
      {
        "duration": 133,
        "start_time": "2025-04-07T21:14:43.720Z"
      },
      {
        "duration": 187,
        "start_time": "2025-04-07T21:15:38.373Z"
      },
      {
        "duration": 232,
        "start_time": "2025-04-07T21:15:49.450Z"
      },
      {
        "duration": 154,
        "start_time": "2025-04-07T21:15:58.286Z"
      },
      {
        "duration": 5,
        "start_time": "2025-04-07T21:17:43.870Z"
      },
      {
        "duration": 267,
        "start_time": "2025-04-07T21:17:47.966Z"
      },
      {
        "duration": 196,
        "start_time": "2025-04-07T21:18:24.862Z"
      },
      {
        "duration": 158,
        "start_time": "2025-04-07T21:20:53.951Z"
      },
      {
        "duration": 13,
        "start_time": "2025-04-07T21:21:11.144Z"
      },
      {
        "duration": 17,
        "start_time": "2025-04-07T21:21:19.017Z"
      },
      {
        "duration": 13,
        "start_time": "2025-04-07T21:21:30.347Z"
      },
      {
        "duration": 13,
        "start_time": "2025-04-07T21:21:40.103Z"
      },
      {
        "duration": 12,
        "start_time": "2025-04-07T21:21:44.887Z"
      },
      {
        "duration": 440,
        "start_time": "2025-04-07T21:21:56.303Z"
      },
      {
        "duration": 1079,
        "start_time": "2025-04-07T21:21:56.745Z"
      },
      {
        "duration": 13,
        "start_time": "2025-04-07T21:21:57.827Z"
      },
      {
        "duration": 10,
        "start_time": "2025-04-07T21:21:57.843Z"
      },
      {
        "duration": 8,
        "start_time": "2025-04-07T21:21:57.855Z"
      },
      {
        "duration": 8,
        "start_time": "2025-04-07T21:21:57.865Z"
      },
      {
        "duration": 34,
        "start_time": "2025-04-07T21:21:57.875Z"
      },
      {
        "duration": 202,
        "start_time": "2025-04-07T21:21:59.192Z"
      },
      {
        "duration": 3,
        "start_time": "2025-04-07T21:22:03.945Z"
      },
      {
        "duration": 15,
        "start_time": "2025-04-07T21:22:04.231Z"
      },
      {
        "duration": 4,
        "start_time": "2025-04-07T21:22:05.088Z"
      },
      {
        "duration": 111,
        "start_time": "2025-04-07T21:22:05.415Z"
      },
      {
        "duration": 3,
        "start_time": "2025-04-07T21:22:05.850Z"
      },
      {
        "duration": 128,
        "start_time": "2025-04-07T21:22:06.072Z"
      },
      {
        "duration": 5,
        "start_time": "2025-04-07T21:22:06.291Z"
      },
      {
        "duration": 58,
        "start_time": "2025-04-07T21:22:06.504Z"
      },
      {
        "duration": 2,
        "start_time": "2025-04-07T21:22:07.240Z"
      },
      {
        "duration": 14,
        "start_time": "2025-04-07T21:22:07.425Z"
      },
      {
        "duration": 2,
        "start_time": "2025-04-07T21:22:07.615Z"
      },
      {
        "duration": 4,
        "start_time": "2025-04-07T21:22:07.777Z"
      },
      {
        "duration": 2,
        "start_time": "2025-04-07T21:22:07.839Z"
      },
      {
        "duration": 34,
        "start_time": "2025-04-07T21:22:08.023Z"
      },
      {
        "duration": 2,
        "start_time": "2025-04-07T21:22:08.190Z"
      },
      {
        "duration": 17,
        "start_time": "2025-04-07T21:22:08.359Z"
      },
      {
        "duration": 2,
        "start_time": "2025-04-07T21:22:08.891Z"
      },
      {
        "duration": 4,
        "start_time": "2025-04-07T21:22:09.081Z"
      },
      {
        "duration": 4,
        "start_time": "2025-04-07T21:22:09.273Z"
      },
      {
        "duration": 4,
        "start_time": "2025-04-07T21:22:09.468Z"
      },
      {
        "duration": 4,
        "start_time": "2025-04-07T21:22:10.015Z"
      },
      {
        "duration": 4,
        "start_time": "2025-04-07T21:22:10.223Z"
      },
      {
        "duration": 3,
        "start_time": "2025-04-07T21:22:10.430Z"
      },
      {
        "duration": 3,
        "start_time": "2025-04-07T21:22:10.647Z"
      },
      {
        "duration": 2,
        "start_time": "2025-04-07T21:22:11.239Z"
      },
      {
        "duration": 864,
        "start_time": "2025-04-07T21:22:11.432Z"
      },
      {
        "duration": 3,
        "start_time": "2025-04-07T21:22:12.298Z"
      },
      {
        "duration": 276,
        "start_time": "2025-04-07T21:22:12.309Z"
      },
      {
        "duration": 111,
        "start_time": "2025-04-07T21:22:12.588Z"
      },
      {
        "duration": 108,
        "start_time": "2025-04-07T21:22:12.701Z"
      },
      {
        "duration": 78,
        "start_time": "2025-04-07T21:22:12.811Z"
      },
      {
        "duration": 2,
        "start_time": "2025-04-07T21:22:13.625Z"
      },
      {
        "duration": 8,
        "start_time": "2025-04-07T21:22:13.870Z"
      },
      {
        "duration": 9,
        "start_time": "2025-04-07T21:22:14.111Z"
      },
      {
        "duration": 3,
        "start_time": "2025-04-07T21:22:14.608Z"
      },
      {
        "duration": 11,
        "start_time": "2025-04-07T21:22:14.872Z"
      },
      {
        "duration": 2,
        "start_time": "2025-04-07T21:22:15.336Z"
      },
      {
        "duration": 10,
        "start_time": "2025-04-07T21:22:15.571Z"
      },
      {
        "duration": 2,
        "start_time": "2025-04-07T21:22:16.048Z"
      },
      {
        "duration": 4,
        "start_time": "2025-04-07T21:22:16.288Z"
      },
      {
        "duration": 5,
        "start_time": "2025-04-07T21:22:16.520Z"
      },
      {
        "duration": 3,
        "start_time": "2025-04-07T21:22:16.991Z"
      },
      {
        "duration": 9,
        "start_time": "2025-04-07T21:22:17.234Z"
      },
      {
        "duration": 3,
        "start_time": "2025-04-07T21:22:18.151Z"
      },
      {
        "duration": 6,
        "start_time": "2025-04-07T21:22:18.396Z"
      },
      {
        "duration": 3,
        "start_time": "2025-04-07T21:22:18.568Z"
      },
      {
        "duration": 17,
        "start_time": "2025-04-07T21:22:18.721Z"
      },
      {
        "duration": 3,
        "start_time": "2025-04-07T21:22:19.175Z"
      },
      {
        "duration": 15,
        "start_time": "2025-04-07T21:22:19.321Z"
      },
      {
        "duration": 2,
        "start_time": "2025-04-07T21:22:19.462Z"
      },
      {
        "duration": 37,
        "start_time": "2025-04-07T21:22:19.616Z"
      },
      {
        "duration": 2,
        "start_time": "2025-04-07T21:22:19.911Z"
      },
      {
        "duration": 12,
        "start_time": "2025-04-07T21:22:20.050Z"
      },
      {
        "duration": 9,
        "start_time": "2025-04-07T21:22:20.199Z"
      },
      {
        "duration": 2,
        "start_time": "2025-04-07T21:22:20.472Z"
      },
      {
        "duration": 2,
        "start_time": "2025-04-07T21:22:20.658Z"
      },
      {
        "duration": 6,
        "start_time": "2025-04-07T21:22:20.960Z"
      },
      {
        "duration": 2,
        "start_time": "2025-04-07T21:22:21.168Z"
      },
      {
        "duration": 3,
        "start_time": "2025-04-07T21:22:21.335Z"
      },
      {
        "duration": 3,
        "start_time": "2025-04-07T21:22:21.522Z"
      },
      {
        "duration": 3,
        "start_time": "2025-04-07T21:22:21.714Z"
      },
      {
        "duration": 3,
        "start_time": "2025-04-07T21:22:22.135Z"
      },
      {
        "duration": 19,
        "start_time": "2025-04-07T21:22:22.360Z"
      },
      {
        "duration": 16,
        "start_time": "2025-04-07T21:22:22.620Z"
      },
      {
        "duration": 7,
        "start_time": "2025-04-07T21:22:24.408Z"
      },
      {
        "duration": 6,
        "start_time": "2025-04-07T21:22:24.418Z"
      },
      {
        "duration": 243,
        "start_time": "2025-04-07T21:22:26.471Z"
      },
      {
        "duration": 6,
        "start_time": "2025-04-07T21:22:34.486Z"
      },
      {
        "duration": 2,
        "start_time": "2025-04-07T21:22:35.025Z"
      },
      {
        "duration": 97,
        "start_time": "2025-04-07T21:22:35.447Z"
      },
      {
        "duration": 145,
        "start_time": "2025-04-07T21:22:37.447Z"
      },
      {
        "duration": 254,
        "start_time": "2025-04-07T21:22:39.475Z"
      },
      {
        "duration": 624,
        "start_time": "2025-04-07T21:22:51.040Z"
      },
      {
        "duration": 243,
        "start_time": "2025-04-07T21:23:06.974Z"
      },
      {
        "duration": 246,
        "start_time": "2025-04-07T21:23:18.130Z"
      },
      {
        "duration": 401,
        "start_time": "2025-04-07T21:23:59.897Z"
      },
      {
        "duration": 472,
        "start_time": "2025-04-07T21:24:19.361Z"
      },
      {
        "duration": 408,
        "start_time": "2025-04-07T21:24:57.162Z"
      },
      {
        "duration": 462,
        "start_time": "2025-04-07T21:26:00.883Z"
      },
      {
        "duration": 395,
        "start_time": "2025-04-07T21:26:06.148Z"
      },
      {
        "duration": 474,
        "start_time": "2025-04-07T21:27:09.920Z"
      },
      {
        "duration": 406,
        "start_time": "2025-04-07T21:29:31.629Z"
      },
      {
        "duration": 11,
        "start_time": "2025-04-07T21:30:46.672Z"
      },
      {
        "duration": 107,
        "start_time": "2025-04-07T21:31:05.363Z"
      },
      {
        "duration": 111,
        "start_time": "2025-04-07T21:33:00.872Z"
      },
      {
        "duration": 12,
        "start_time": "2025-04-07T21:33:04.183Z"
      },
      {
        "duration": 110,
        "start_time": "2025-04-07T21:33:05.847Z"
      },
      {
        "duration": 105,
        "start_time": "2025-04-07T21:33:12.360Z"
      },
      {
        "duration": 136,
        "start_time": "2025-04-07T21:35:20.480Z"
      },
      {
        "duration": 249,
        "start_time": "2025-04-07T21:35:32.135Z"
      },
      {
        "duration": 162,
        "start_time": "2025-04-07T21:35:34.961Z"
      },
      {
        "duration": 150,
        "start_time": "2025-04-07T21:35:50.746Z"
      },
      {
        "duration": 145,
        "start_time": "2025-04-07T21:35:57.882Z"
      },
      {
        "duration": 143,
        "start_time": "2025-04-07T21:36:04.186Z"
      },
      {
        "duration": 134,
        "start_time": "2025-04-07T21:36:24.252Z"
      },
      {
        "duration": 124,
        "start_time": "2025-04-07T21:36:30.911Z"
      },
      {
        "duration": 15,
        "start_time": "2025-04-07T21:36:51.763Z"
      },
      {
        "duration": 16,
        "start_time": "2025-04-07T21:38:43.194Z"
      },
      {
        "duration": 30,
        "start_time": "2025-04-07T21:39:01.508Z"
      },
      {
        "duration": 127,
        "start_time": "2025-04-07T21:39:15.363Z"
      },
      {
        "duration": 22,
        "start_time": "2025-04-07T21:39:26.826Z"
      },
      {
        "duration": 22,
        "start_time": "2025-04-07T21:39:31.032Z"
      },
      {
        "duration": 6,
        "start_time": "2025-04-07T21:40:03.646Z"
      },
      {
        "duration": 4,
        "start_time": "2025-04-07T21:40:25.340Z"
      },
      {
        "duration": 23,
        "start_time": "2025-04-07T21:40:50.565Z"
      },
      {
        "duration": 180,
        "start_time": "2025-04-07T21:41:09.078Z"
      },
      {
        "duration": 281,
        "start_time": "2025-04-07T21:41:20.392Z"
      },
      {
        "duration": 182,
        "start_time": "2025-04-07T21:43:51.422Z"
      },
      {
        "duration": 178,
        "start_time": "2025-04-07T21:44:22.774Z"
      },
      {
        "duration": 178,
        "start_time": "2025-04-07T21:45:24.849Z"
      },
      {
        "duration": 179,
        "start_time": "2025-04-07T21:46:56.681Z"
      },
      {
        "duration": 178,
        "start_time": "2025-04-07T21:47:09.963Z"
      },
      {
        "duration": 178,
        "start_time": "2025-04-07T21:47:25.413Z"
      },
      {
        "duration": 4,
        "start_time": "2025-04-07T21:47:59.181Z"
      },
      {
        "duration": 177,
        "start_time": "2025-04-07T21:48:08.265Z"
      },
      {
        "duration": 4,
        "start_time": "2025-04-07T21:48:10.729Z"
      },
      {
        "duration": 123,
        "start_time": "2025-04-07T21:48:23.330Z"
      },
      {
        "duration": 307,
        "start_time": "2025-04-07T21:48:55.905Z"
      },
      {
        "duration": 12,
        "start_time": "2025-04-07T21:49:44.744Z"
      },
      {
        "duration": 158,
        "start_time": "2025-04-07T21:52:51.996Z"
      },
      {
        "duration": 451,
        "start_time": "2025-04-07T21:52:58.374Z"
      },
      {
        "duration": 1022,
        "start_time": "2025-04-07T21:52:58.827Z"
      },
      {
        "duration": 11,
        "start_time": "2025-04-07T21:52:59.852Z"
      },
      {
        "duration": 9,
        "start_time": "2025-04-07T21:52:59.865Z"
      },
      {
        "duration": 8,
        "start_time": "2025-04-07T21:52:59.876Z"
      },
      {
        "duration": 28,
        "start_time": "2025-04-07T21:52:59.885Z"
      },
      {
        "duration": 7,
        "start_time": "2025-04-07T21:52:59.914Z"
      },
      {
        "duration": 199,
        "start_time": "2025-04-07T21:53:01.661Z"
      },
      {
        "duration": 2,
        "start_time": "2025-04-07T21:53:02.123Z"
      },
      {
        "duration": 7,
        "start_time": "2025-04-07T21:53:02.451Z"
      },
      {
        "duration": 3,
        "start_time": "2025-04-07T21:53:02.787Z"
      },
      {
        "duration": 103,
        "start_time": "2025-04-07T21:53:03.039Z"
      },
      {
        "duration": 2,
        "start_time": "2025-04-07T21:53:03.285Z"
      },
      {
        "duration": 88,
        "start_time": "2025-04-07T21:53:03.519Z"
      },
      {
        "duration": 2,
        "start_time": "2025-04-07T21:53:03.736Z"
      },
      {
        "duration": 45,
        "start_time": "2025-04-07T21:53:03.956Z"
      },
      {
        "duration": 2,
        "start_time": "2025-04-07T21:53:04.663Z"
      },
      {
        "duration": 13,
        "start_time": "2025-04-07T21:53:04.892Z"
      },
      {
        "duration": 2,
        "start_time": "2025-04-07T21:53:05.116Z"
      },
      {
        "duration": 4,
        "start_time": "2025-04-07T21:53:05.339Z"
      },
      {
        "duration": 2,
        "start_time": "2025-04-07T21:53:05.588Z"
      },
      {
        "duration": 24,
        "start_time": "2025-04-07T21:53:05.827Z"
      },
      {
        "duration": 5,
        "start_time": "2025-04-07T21:53:06.075Z"
      },
      {
        "duration": 15,
        "start_time": "2025-04-07T21:53:06.300Z"
      },
      {
        "duration": 3,
        "start_time": "2025-04-07T21:53:07.007Z"
      },
      {
        "duration": 4,
        "start_time": "2025-04-07T21:53:07.237Z"
      },
      {
        "duration": 2,
        "start_time": "2025-04-07T21:53:07.469Z"
      },
      {
        "duration": 3,
        "start_time": "2025-04-07T21:53:07.700Z"
      },
      {
        "duration": 2,
        "start_time": "2025-04-07T21:53:08.371Z"
      },
      {
        "duration": 4,
        "start_time": "2025-04-07T21:53:08.588Z"
      },
      {
        "duration": 2,
        "start_time": "2025-04-07T21:53:08.820Z"
      },
      {
        "duration": 4,
        "start_time": "2025-04-07T21:53:09.061Z"
      },
      {
        "duration": 2,
        "start_time": "2025-04-07T21:53:09.748Z"
      },
      {
        "duration": 771,
        "start_time": "2025-04-07T21:53:09.980Z"
      },
      {
        "duration": 2,
        "start_time": "2025-04-07T21:53:10.753Z"
      },
      {
        "duration": 212,
        "start_time": "2025-04-07T21:53:10.757Z"
      },
      {
        "duration": 106,
        "start_time": "2025-04-07T21:53:10.971Z"
      },
      {
        "duration": 85,
        "start_time": "2025-04-07T21:53:11.079Z"
      },
      {
        "duration": 65,
        "start_time": "2025-04-07T21:53:11.166Z"
      },
      {
        "duration": 2,
        "start_time": "2025-04-07T21:53:12.061Z"
      },
      {
        "duration": 5,
        "start_time": "2025-04-07T21:53:12.244Z"
      },
      {
        "duration": 8,
        "start_time": "2025-04-07T21:53:12.404Z"
      },
      {
        "duration": 3,
        "start_time": "2025-04-07T21:53:12.723Z"
      },
      {
        "duration": 8,
        "start_time": "2025-04-07T21:53:12.883Z"
      },
      {
        "duration": 2,
        "start_time": "2025-04-07T21:53:13.219Z"
      },
      {
        "duration": 7,
        "start_time": "2025-04-07T21:53:13.400Z"
      },
      {
        "duration": 3,
        "start_time": "2025-04-07T21:53:13.762Z"
      },
      {
        "duration": 4,
        "start_time": "2025-04-07T21:53:13.964Z"
      },
      {
        "duration": 4,
        "start_time": "2025-04-07T21:53:14.405Z"
      },
      {
        "duration": 2,
        "start_time": "2025-04-07T21:53:14.949Z"
      },
      {
        "duration": 6,
        "start_time": "2025-04-07T21:53:15.251Z"
      },
      {
        "duration": 3,
        "start_time": "2025-04-07T21:53:16.331Z"
      },
      {
        "duration": 6,
        "start_time": "2025-04-07T21:53:16.596Z"
      },
      {
        "duration": 2,
        "start_time": "2025-04-07T21:53:16.821Z"
      },
      {
        "duration": 9,
        "start_time": "2025-04-07T21:53:17.068Z"
      },
      {
        "duration": 2,
        "start_time": "2025-04-07T21:53:17.844Z"
      },
      {
        "duration": 15,
        "start_time": "2025-04-07T21:53:18.437Z"
      },
      {
        "duration": 2,
        "start_time": "2025-04-07T21:53:18.455Z"
      },
      {
        "duration": 38,
        "start_time": "2025-04-07T21:53:18.930Z"
      },
      {
        "duration": 3,
        "start_time": "2025-04-07T21:53:19.086Z"
      },
      {
        "duration": 11,
        "start_time": "2025-04-07T21:53:19.308Z"
      },
      {
        "duration": 9,
        "start_time": "2025-04-07T21:53:19.501Z"
      },
      {
        "duration": 2,
        "start_time": "2025-04-07T21:53:19.711Z"
      },
      {
        "duration": 2,
        "start_time": "2025-04-07T21:53:19.980Z"
      },
      {
        "duration": 7,
        "start_time": "2025-04-07T21:53:20.311Z"
      },
      {
        "duration": 2,
        "start_time": "2025-04-07T21:53:20.475Z"
      },
      {
        "duration": 3,
        "start_time": "2025-04-07T21:53:21.021Z"
      },
      {
        "duration": 4,
        "start_time": "2025-04-07T21:53:21.025Z"
      },
      {
        "duration": 3,
        "start_time": "2025-04-07T21:53:21.535Z"
      },
      {
        "duration": 3,
        "start_time": "2025-04-07T21:53:21.777Z"
      },
      {
        "duration": 20,
        "start_time": "2025-04-07T21:53:22.013Z"
      },
      {
        "duration": 18,
        "start_time": "2025-04-07T21:53:22.336Z"
      },
      {
        "duration": 8,
        "start_time": "2025-04-07T21:53:24.849Z"
      },
      {
        "duration": 8,
        "start_time": "2025-04-07T21:53:25.412Z"
      },
      {
        "duration": 228,
        "start_time": "2025-04-07T21:53:27.812Z"
      },
      {
        "duration": 6,
        "start_time": "2025-04-07T21:53:29.548Z"
      },
      {
        "duration": 3,
        "start_time": "2025-04-07T21:53:29.821Z"
      },
      {
        "duration": 98,
        "start_time": "2025-04-07T21:53:30.405Z"
      },
      {
        "duration": 145,
        "start_time": "2025-04-07T21:53:32.068Z"
      },
      {
        "duration": 53,
        "start_time": "2025-04-07T21:53:34.732Z"
      },
      {
        "duration": 231,
        "start_time": "2025-04-07T21:53:47.088Z"
      },
      {
        "duration": 10,
        "start_time": "2025-04-07T21:53:51.188Z"
      },
      {
        "duration": 160,
        "start_time": "2025-04-07T21:56:02.085Z"
      },
      {
        "duration": 18,
        "start_time": "2025-04-07T21:56:25.242Z"
      },
      {
        "duration": 466,
        "start_time": "2025-04-07T21:56:35.853Z"
      },
      {
        "duration": 1026,
        "start_time": "2025-04-07T21:56:36.321Z"
      },
      {
        "duration": 11,
        "start_time": "2025-04-07T21:56:37.350Z"
      },
      {
        "duration": 11,
        "start_time": "2025-04-07T21:56:37.362Z"
      },
      {
        "duration": 7,
        "start_time": "2025-04-07T21:56:37.382Z"
      },
      {
        "duration": 20,
        "start_time": "2025-04-07T21:56:37.391Z"
      },
      {
        "duration": 7,
        "start_time": "2025-04-07T21:56:37.506Z"
      },
      {
        "duration": 192,
        "start_time": "2025-04-07T21:56:39.796Z"
      },
      {
        "duration": 2,
        "start_time": "2025-04-07T21:56:40.215Z"
      },
      {
        "duration": 8,
        "start_time": "2025-04-07T21:56:40.457Z"
      },
      {
        "duration": 2,
        "start_time": "2025-04-07T21:56:40.864Z"
      },
      {
        "duration": 109,
        "start_time": "2025-04-07T21:56:41.055Z"
      },
      {
        "duration": 2,
        "start_time": "2025-04-07T21:56:41.283Z"
      },
      {
        "duration": 88,
        "start_time": "2025-04-07T21:56:41.476Z"
      },
      {
        "duration": 3,
        "start_time": "2025-04-07T21:56:41.655Z"
      },
      {
        "duration": 45,
        "start_time": "2025-04-07T21:56:41.863Z"
      },
      {
        "duration": 2,
        "start_time": "2025-04-07T21:56:42.464Z"
      },
      {
        "duration": 12,
        "start_time": "2025-04-07T21:56:42.671Z"
      },
      {
        "duration": 1,
        "start_time": "2025-04-07T21:56:42.889Z"
      },
      {
        "duration": 3,
        "start_time": "2025-04-07T21:56:43.088Z"
      },
      {
        "duration": 2,
        "start_time": "2025-04-07T21:56:43.294Z"
      },
      {
        "duration": 27,
        "start_time": "2025-04-07T21:56:43.495Z"
      },
      {
        "duration": 3,
        "start_time": "2025-04-07T21:56:43.706Z"
      },
      {
        "duration": 15,
        "start_time": "2025-04-07T21:56:43.921Z"
      },
      {
        "duration": 2,
        "start_time": "2025-04-07T21:56:44.591Z"
      },
      {
        "duration": 4,
        "start_time": "2025-04-07T21:56:44.817Z"
      },
      {
        "duration": 2,
        "start_time": "2025-04-07T21:56:45.043Z"
      },
      {
        "duration": 3,
        "start_time": "2025-04-07T21:56:45.264Z"
      },
      {
        "duration": 2,
        "start_time": "2025-04-07T21:56:45.928Z"
      },
      {
        "duration": 3,
        "start_time": "2025-04-07T21:56:46.146Z"
      },
      {
        "duration": 3,
        "start_time": "2025-04-07T21:56:46.375Z"
      },
      {
        "duration": 4,
        "start_time": "2025-04-07T21:56:46.590Z"
      },
      {
        "duration": 3,
        "start_time": "2025-04-07T21:56:47.224Z"
      },
      {
        "duration": 784,
        "start_time": "2025-04-07T21:56:47.456Z"
      },
      {
        "duration": 3,
        "start_time": "2025-04-07T21:56:48.242Z"
      },
      {
        "duration": 221,
        "start_time": "2025-04-07T21:56:48.247Z"
      },
      {
        "duration": 118,
        "start_time": "2025-04-07T21:56:48.471Z"
      },
      {
        "duration": 93,
        "start_time": "2025-04-07T21:56:48.591Z"
      },
      {
        "duration": 64,
        "start_time": "2025-04-07T21:56:48.686Z"
      },
      {
        "duration": 2,
        "start_time": "2025-04-07T21:56:49.459Z"
      },
      {
        "duration": 6,
        "start_time": "2025-04-07T21:56:49.680Z"
      },
      {
        "duration": 8,
        "start_time": "2025-04-07T21:56:49.899Z"
      },
      {
        "duration": 2,
        "start_time": "2025-04-07T21:56:50.328Z"
      },
      {
        "duration": 8,
        "start_time": "2025-04-07T21:56:50.542Z"
      },
      {
        "duration": 5,
        "start_time": "2025-04-07T21:56:51.021Z"
      },
      {
        "duration": 8,
        "start_time": "2025-04-07T21:56:51.250Z"
      },
      {
        "duration": 2,
        "start_time": "2025-04-07T21:56:51.689Z"
      },
      {
        "duration": 4,
        "start_time": "2025-04-07T21:56:51.919Z"
      },
      {
        "duration": 5,
        "start_time": "2025-04-07T21:56:52.144Z"
      },
      {
        "duration": 2,
        "start_time": "2025-04-07T21:56:52.599Z"
      },
      {
        "duration": 5,
        "start_time": "2025-04-07T21:56:52.832Z"
      },
      {
        "duration": 2,
        "start_time": "2025-04-07T21:56:53.897Z"
      },
      {
        "duration": 6,
        "start_time": "2025-04-07T21:56:54.113Z"
      },
      {
        "duration": 2,
        "start_time": "2025-04-07T21:56:54.352Z"
      },
      {
        "duration": 10,
        "start_time": "2025-04-07T21:56:54.614Z"
      },
      {
        "duration": 2,
        "start_time": "2025-04-07T21:56:55.561Z"
      },
      {
        "duration": 15,
        "start_time": "2025-04-07T21:56:55.857Z"
      },
      {
        "duration": 3,
        "start_time": "2025-04-07T21:56:56.135Z"
      },
      {
        "duration": 31,
        "start_time": "2025-04-07T21:56:56.471Z"
      },
      {
        "duration": 2,
        "start_time": "2025-04-07T21:56:57.119Z"
      },
      {
        "duration": 11,
        "start_time": "2025-04-07T21:56:57.343Z"
      },
      {
        "duration": 9,
        "start_time": "2025-04-07T21:56:57.570Z"
      },
      {
        "duration": 2,
        "start_time": "2025-04-07T21:56:57.767Z"
      },
      {
        "duration": 3,
        "start_time": "2025-04-07T21:56:57.986Z"
      },
      {
        "duration": 5,
        "start_time": "2025-04-07T21:56:58.201Z"
      },
      {
        "duration": 3,
        "start_time": "2025-04-07T21:56:58.420Z"
      },
      {
        "duration": 3,
        "start_time": "2025-04-07T21:56:58.640Z"
      },
      {
        "duration": 3,
        "start_time": "2025-04-07T21:56:58.848Z"
      },
      {
        "duration": 3,
        "start_time": "2025-04-07T21:56:59.063Z"
      },
      {
        "duration": 2,
        "start_time": "2025-04-07T21:56:59.463Z"
      },
      {
        "duration": 21,
        "start_time": "2025-04-07T21:56:59.663Z"
      },
      {
        "duration": 18,
        "start_time": "2025-04-07T21:56:59.855Z"
      },
      {
        "duration": 8,
        "start_time": "2025-04-07T21:57:01.143Z"
      },
      {
        "duration": 7,
        "start_time": "2025-04-07T21:57:01.390Z"
      },
      {
        "duration": 233,
        "start_time": "2025-04-07T21:57:02.305Z"
      },
      {
        "duration": 6,
        "start_time": "2025-04-07T21:57:03.447Z"
      },
      {
        "duration": 3,
        "start_time": "2025-04-07T21:57:04.255Z"
      },
      {
        "duration": 97,
        "start_time": "2025-04-07T21:57:04.758Z"
      },
      {
        "duration": 144,
        "start_time": "2025-04-07T21:57:06.890Z"
      },
      {
        "duration": 217,
        "start_time": "2025-04-07T21:57:08.232Z"
      },
      {
        "duration": 10,
        "start_time": "2025-04-07T21:57:08.521Z"
      },
      {
        "duration": 999,
        "start_time": "2025-04-07T21:59:30.391Z"
      },
      {
        "duration": 41,
        "start_time": "2025-04-07T22:00:05.859Z"
      },
      {
        "duration": 4,
        "start_time": "2025-04-07T22:00:41.816Z"
      },
      {
        "duration": 165,
        "start_time": "2025-04-07T22:00:59.778Z"
      },
      {
        "duration": 180,
        "start_time": "2025-04-07T22:01:11.723Z"
      },
      {
        "duration": 196,
        "start_time": "2025-04-07T22:01:32.149Z"
      },
      {
        "duration": 44,
        "start_time": "2025-04-07T22:01:52.371Z"
      },
      {
        "duration": 4,
        "start_time": "2025-04-07T22:01:57.777Z"
      },
      {
        "duration": 181,
        "start_time": "2025-04-07T22:06:22.825Z"
      },
      {
        "duration": 213,
        "start_time": "2025-04-07T22:06:26.618Z"
      },
      {
        "duration": 11,
        "start_time": "2025-04-07T22:08:26.396Z"
      },
      {
        "duration": 116,
        "start_time": "2025-04-07T22:08:58.719Z"
      },
      {
        "duration": 5,
        "start_time": "2025-04-07T22:09:05.695Z"
      },
      {
        "duration": 7,
        "start_time": "2025-04-07T22:09:36.215Z"
      },
      {
        "duration": 49,
        "start_time": "2025-04-07T22:15:13.449Z"
      },
      {
        "duration": 0,
        "start_time": "2025-04-07T22:17:08.510Z"
      },
      {
        "duration": 55,
        "start_time": "2025-04-07T22:17:18.197Z"
      },
      {
        "duration": 16,
        "start_time": "2025-04-07T22:17:50.373Z"
      },
      {
        "duration": 50,
        "start_time": "2025-04-07T22:17:54.525Z"
      },
      {
        "duration": 45157,
        "start_time": "2025-04-07T22:17:58.076Z"
      },
      {
        "duration": 0,
        "start_time": "2025-04-07T22:18:43.235Z"
      },
      {
        "duration": 56,
        "start_time": "2025-04-07T22:19:51.871Z"
      },
      {
        "duration": 71,
        "start_time": "2025-04-07T22:20:08.603Z"
      },
      {
        "duration": 11,
        "start_time": "2025-04-07T22:21:35.207Z"
      },
      {
        "duration": 321,
        "start_time": "2025-04-07T22:21:47.340Z"
      },
      {
        "duration": 155,
        "start_time": "2025-04-07T22:21:59.841Z"
      },
      {
        "duration": 29,
        "start_time": "2025-04-07T22:22:02.815Z"
      },
      {
        "duration": 23,
        "start_time": "2025-04-07T22:22:15.703Z"
      },
      {
        "duration": 26,
        "start_time": "2025-04-07T22:22:17.576Z"
      },
      {
        "duration": 2,
        "start_time": "2025-04-07T22:22:33.984Z"
      },
      {
        "duration": 80,
        "start_time": "2025-04-07T22:22:55.112Z"
      },
      {
        "duration": 74,
        "start_time": "2025-04-07T22:22:57.768Z"
      },
      {
        "duration": 71,
        "start_time": "2025-04-07T22:23:13.337Z"
      },
      {
        "duration": 5,
        "start_time": "2025-04-07T22:23:18.847Z"
      },
      {
        "duration": 76,
        "start_time": "2025-04-07T22:23:35.878Z"
      },
      {
        "duration": 4,
        "start_time": "2025-04-07T22:23:36.363Z"
      },
      {
        "duration": 75,
        "start_time": "2025-04-07T22:23:52.152Z"
      },
      {
        "duration": 5,
        "start_time": "2025-04-07T22:23:52.743Z"
      },
      {
        "duration": 361,
        "start_time": "2025-04-07T22:24:23.913Z"
      },
      {
        "duration": 301,
        "start_time": "2025-04-07T22:25:04.937Z"
      },
      {
        "duration": 55,
        "start_time": "2025-04-07T22:25:21.862Z"
      },
      {
        "duration": 70,
        "start_time": "2025-04-07T22:25:26.801Z"
      },
      {
        "duration": 12,
        "start_time": "2025-04-07T22:26:05.322Z"
      },
      {
        "duration": 11,
        "start_time": "2025-04-07T22:26:30.170Z"
      },
      {
        "duration": 590,
        "start_time": "2025-04-07T22:30:44.648Z"
      },
      {
        "duration": 7,
        "start_time": "2025-04-07T22:30:55.381Z"
      },
      {
        "duration": 14,
        "start_time": "2025-04-07T22:31:24.232Z"
      },
      {
        "duration": 639,
        "start_time": "2025-04-07T22:31:26.462Z"
      },
      {
        "duration": 7,
        "start_time": "2025-04-07T22:31:27.103Z"
      },
      {
        "duration": 130,
        "start_time": "2025-04-07T22:32:15.183Z"
      },
      {
        "duration": 4,
        "start_time": "2025-04-07T22:32:25.696Z"
      },
      {
        "duration": 106,
        "start_time": "2025-04-07T22:32:36.356Z"
      },
      {
        "duration": 4,
        "start_time": "2025-04-07T22:32:37.778Z"
      },
      {
        "duration": 87,
        "start_time": "2025-04-07T22:33:00.414Z"
      },
      {
        "duration": 3,
        "start_time": "2025-04-07T22:33:02.119Z"
      },
      {
        "duration": 3,
        "start_time": "2025-04-07T22:33:35.862Z"
      },
      {
        "duration": 10,
        "start_time": "2025-04-07T22:34:52.627Z"
      },
      {
        "duration": 87,
        "start_time": "2025-04-07T22:34:54.447Z"
      },
      {
        "duration": 10,
        "start_time": "2025-04-07T22:34:54.812Z"
      },
      {
        "duration": 7,
        "start_time": "2025-04-07T22:35:02.508Z"
      },
      {
        "duration": 86,
        "start_time": "2025-04-07T22:35:14.816Z"
      },
      {
        "duration": 10,
        "start_time": "2025-04-07T22:35:15.080Z"
      },
      {
        "duration": 6,
        "start_time": "2025-04-07T22:35:15.556Z"
      },
      {
        "duration": 122,
        "start_time": "2025-04-07T22:35:27.658Z"
      },
      {
        "duration": 16,
        "start_time": "2025-04-07T22:35:27.959Z"
      },
      {
        "duration": 9,
        "start_time": "2025-04-07T22:35:28.329Z"
      },
      {
        "duration": 90,
        "start_time": "2025-04-07T22:35:33.811Z"
      },
      {
        "duration": 10,
        "start_time": "2025-04-07T22:35:34.848Z"
      },
      {
        "duration": 6,
        "start_time": "2025-04-07T22:35:35.143Z"
      },
      {
        "duration": 4,
        "start_time": "2025-04-07T22:36:34.419Z"
      },
      {
        "duration": 101,
        "start_time": "2025-04-07T22:37:30.393Z"
      },
      {
        "duration": 2,
        "start_time": "2025-04-07T22:38:26.598Z"
      },
      {
        "duration": 11,
        "start_time": "2025-04-07T22:38:26.973Z"
      },
      {
        "duration": 5,
        "start_time": "2025-04-07T22:38:27.451Z"
      },
      {
        "duration": 103,
        "start_time": "2025-04-07T22:38:34.418Z"
      },
      {
        "duration": 9,
        "start_time": "2025-04-07T22:38:34.906Z"
      },
      {
        "duration": 5,
        "start_time": "2025-04-07T22:38:36.286Z"
      },
      {
        "duration": 4,
        "start_time": "2025-04-07T22:38:54.402Z"
      },
      {
        "duration": 18,
        "start_time": "2025-04-07T22:39:40.724Z"
      },
      {
        "duration": 101,
        "start_time": "2025-04-07T22:39:52.489Z"
      },
      {
        "duration": 9,
        "start_time": "2025-04-07T22:39:52.733Z"
      },
      {
        "duration": 5,
        "start_time": "2025-04-07T22:39:53.115Z"
      },
      {
        "duration": 42,
        "start_time": "2025-04-07T22:41:31.764Z"
      },
      {
        "duration": 6,
        "start_time": "2025-04-07T22:41:32.683Z"
      },
      {
        "duration": 170,
        "start_time": "2025-04-07T22:41:33.062Z"
      },
      {
        "duration": 79,
        "start_time": "2025-04-07T22:41:37.007Z"
      },
      {
        "duration": 10,
        "start_time": "2025-04-07T22:41:37.368Z"
      },
      {
        "duration": 5,
        "start_time": "2025-04-07T22:41:38.036Z"
      },
      {
        "duration": 43,
        "start_time": "2025-04-07T22:41:57.844Z"
      },
      {
        "duration": 188,
        "start_time": "2025-04-07T22:42:07.516Z"
      },
      {
        "duration": 214,
        "start_time": "2025-04-07T22:42:16.637Z"
      },
      {
        "duration": 3,
        "start_time": "2025-04-08T10:58:34.480Z"
      },
      {
        "duration": 155,
        "start_time": "2025-04-08T10:58:34.751Z"
      },
      {
        "duration": 2167,
        "start_time": "2025-04-08T10:58:47.674Z"
      },
      {
        "duration": 1037,
        "start_time": "2025-04-08T10:58:49.843Z"
      },
      {
        "duration": 13,
        "start_time": "2025-04-08T10:58:50.881Z"
      },
      {
        "duration": 18,
        "start_time": "2025-04-08T10:58:50.896Z"
      },
      {
        "duration": 7,
        "start_time": "2025-04-08T10:58:50.916Z"
      },
      {
        "duration": 8,
        "start_time": "2025-04-08T10:58:50.925Z"
      },
      {
        "duration": 7,
        "start_time": "2025-04-08T10:58:52.244Z"
      },
      {
        "duration": 189,
        "start_time": "2025-04-08T10:58:55.990Z"
      },
      {
        "duration": 2,
        "start_time": "2025-04-08T10:58:58.225Z"
      },
      {
        "duration": 8,
        "start_time": "2025-04-08T10:58:58.752Z"
      },
      {
        "duration": 2,
        "start_time": "2025-04-08T10:59:00.348Z"
      },
      {
        "duration": 102,
        "start_time": "2025-04-08T10:59:00.896Z"
      },
      {
        "duration": 2,
        "start_time": "2025-04-08T10:59:03.778Z"
      },
      {
        "duration": 89,
        "start_time": "2025-04-08T10:59:04.624Z"
      },
      {
        "duration": 45,
        "start_time": "2025-04-08T11:00:00.116Z"
      },
      {
        "duration": 40,
        "start_time": "2025-04-08T11:00:08.204Z"
      },
      {
        "duration": 39,
        "start_time": "2025-04-08T11:00:15.269Z"
      },
      {
        "duration": 16,
        "start_time": "2025-04-08T11:02:31.549Z"
      },
      {
        "duration": 2164,
        "start_time": "2025-04-08T12:28:08.063Z"
      },
      {
        "duration": 1021,
        "start_time": "2025-04-08T12:28:10.229Z"
      },
      {
        "duration": 12,
        "start_time": "2025-04-08T12:28:11.252Z"
      },
      {
        "duration": 9,
        "start_time": "2025-04-08T12:28:11.267Z"
      },
      {
        "duration": 8,
        "start_time": "2025-04-08T12:28:11.278Z"
      },
      {
        "duration": 7,
        "start_time": "2025-04-08T12:28:11.288Z"
      },
      {
        "duration": 16,
        "start_time": "2025-04-08T12:28:11.297Z"
      },
      {
        "duration": 188,
        "start_time": "2025-04-08T12:28:14.487Z"
      },
      {
        "duration": 2,
        "start_time": "2025-04-08T12:28:15.740Z"
      },
      {
        "duration": 7,
        "start_time": "2025-04-08T12:28:16.208Z"
      },
      {
        "duration": 2,
        "start_time": "2025-04-08T12:28:17.230Z"
      },
      {
        "duration": 103,
        "start_time": "2025-04-08T12:28:18.421Z"
      },
      {
        "duration": 2,
        "start_time": "2025-04-08T12:28:19.099Z"
      },
      {
        "duration": 92,
        "start_time": "2025-04-08T12:28:19.556Z"
      },
      {
        "duration": 2,
        "start_time": "2025-04-08T12:28:20.278Z"
      },
      {
        "duration": 45,
        "start_time": "2025-04-08T12:28:21.646Z"
      },
      {
        "duration": 2,
        "start_time": "2025-04-08T12:28:25.107Z"
      },
      {
        "duration": 12,
        "start_time": "2025-04-08T12:28:25.540Z"
      },
      {
        "duration": 5,
        "start_time": "2025-04-08T12:28:42.696Z"
      },
      {
        "duration": 11,
        "start_time": "2025-04-08T12:29:40.334Z"
      },
      {
        "duration": 217,
        "start_time": "2025-04-08T12:31:50.255Z"
      },
      {
        "duration": 4,
        "start_time": "2025-04-08T12:31:55.507Z"
      },
      {
        "duration": 5,
        "start_time": "2025-04-08T12:32:08.289Z"
      },
      {
        "duration": 15,
        "start_time": "2025-04-08T12:34:17.739Z"
      },
      {
        "duration": 2172,
        "start_time": "2025-04-08T22:12:36.708Z"
      },
      {
        "duration": 1007,
        "start_time": "2025-04-08T22:12:39.603Z"
      },
      {
        "duration": 11,
        "start_time": "2025-04-08T22:12:40.612Z"
      },
      {
        "duration": 10,
        "start_time": "2025-04-08T22:12:40.625Z"
      },
      {
        "duration": 8,
        "start_time": "2025-04-08T22:12:42.755Z"
      },
      {
        "duration": 9,
        "start_time": "2025-04-08T22:12:43.258Z"
      },
      {
        "duration": 8,
        "start_time": "2025-04-08T22:12:43.660Z"
      },
      {
        "duration": 198,
        "start_time": "2025-04-08T22:13:00.973Z"
      },
      {
        "duration": 4,
        "start_time": "2025-04-08T22:15:03.928Z"
      },
      {
        "duration": 906,
        "start_time": "2025-04-08T22:15:04.132Z"
      },
      {
        "duration": 10,
        "start_time": "2025-04-08T22:15:05.041Z"
      },
      {
        "duration": 21,
        "start_time": "2025-04-08T22:15:05.053Z"
      },
      {
        "duration": 7,
        "start_time": "2025-04-08T22:15:05.364Z"
      },
      {
        "duration": 8,
        "start_time": "2025-04-08T22:15:05.752Z"
      },
      {
        "duration": 7,
        "start_time": "2025-04-08T22:15:06.092Z"
      },
      {
        "duration": 93,
        "start_time": "2025-04-08T22:15:58.490Z"
      },
      {
        "duration": 2,
        "start_time": "2025-04-08T22:16:21.679Z"
      },
      {
        "duration": 11,
        "start_time": "2025-04-08T22:16:26.857Z"
      },
      {
        "duration": 9,
        "start_time": "2025-04-08T22:16:51.957Z"
      },
      {
        "duration": 29,
        "start_time": "2025-04-08T22:17:04.773Z"
      },
      {
        "duration": 28,
        "start_time": "2025-04-08T22:17:11.541Z"
      },
      {
        "duration": 11,
        "start_time": "2025-04-08T22:17:41.626Z"
      },
      {
        "duration": 8,
        "start_time": "2025-04-08T22:17:45.462Z"
      },
      {
        "duration": 149,
        "start_time": "2025-04-08T22:18:17.894Z"
      },
      {
        "duration": 2,
        "start_time": "2025-04-08T22:20:29.103Z"
      },
      {
        "duration": 78,
        "start_time": "2025-04-08T22:20:31.089Z"
      },
      {
        "duration": 2,
        "start_time": "2025-04-08T22:21:12.459Z"
      },
      {
        "duration": 85,
        "start_time": "2025-04-08T22:21:13.146Z"
      },
      {
        "duration": 3,
        "start_time": "2025-04-08T22:21:36.208Z"
      },
      {
        "duration": 47,
        "start_time": "2025-04-08T22:21:36.567Z"
      },
      {
        "duration": 3,
        "start_time": "2025-04-08T22:23:41.072Z"
      },
      {
        "duration": 836,
        "start_time": "2025-04-08T22:23:41.319Z"
      },
      {
        "duration": 17,
        "start_time": "2025-04-08T22:23:42.158Z"
      },
      {
        "duration": 9,
        "start_time": "2025-04-08T22:23:42.177Z"
      },
      {
        "duration": 7,
        "start_time": "2025-04-08T22:23:42.188Z"
      },
      {
        "duration": 8,
        "start_time": "2025-04-08T22:23:42.385Z"
      },
      {
        "duration": 6,
        "start_time": "2025-04-08T22:23:42.679Z"
      },
      {
        "duration": 138,
        "start_time": "2025-04-08T22:23:46.107Z"
      },
      {
        "duration": 59,
        "start_time": "2025-04-08T22:23:51.097Z"
      },
      {
        "duration": 2,
        "start_time": "2025-04-08T22:23:56.394Z"
      },
      {
        "duration": 860,
        "start_time": "2025-04-08T22:23:56.611Z"
      },
      {
        "duration": 12,
        "start_time": "2025-04-08T22:23:57.474Z"
      },
      {
        "duration": 9,
        "start_time": "2025-04-08T22:23:57.488Z"
      },
      {
        "duration": 7,
        "start_time": "2025-04-08T22:23:57.501Z"
      },
      {
        "duration": 8,
        "start_time": "2025-04-08T22:23:57.510Z"
      },
      {
        "duration": 6,
        "start_time": "2025-04-08T22:23:57.535Z"
      },
      {
        "duration": 140,
        "start_time": "2025-04-08T22:23:59.353Z"
      },
      {
        "duration": 2,
        "start_time": "2025-04-08T22:24:00.276Z"
      },
      {
        "duration": 12,
        "start_time": "2025-04-08T22:24:00.507Z"
      },
      {
        "duration": 2,
        "start_time": "2025-04-08T22:24:01.263Z"
      },
      {
        "duration": 79,
        "start_time": "2025-04-08T22:24:01.495Z"
      },
      {
        "duration": 2,
        "start_time": "2025-04-08T22:24:01.933Z"
      },
      {
        "duration": 88,
        "start_time": "2025-04-08T22:24:02.170Z"
      },
      {
        "duration": 3,
        "start_time": "2025-04-08T22:24:02.926Z"
      },
      {
        "duration": 39,
        "start_time": "2025-04-08T22:24:08.538Z"
      },
      {
        "duration": 15,
        "start_time": "2025-04-08T22:24:52.834Z"
      },
      {
        "duration": 12,
        "start_time": "2025-04-08T22:25:15.898Z"
      },
      {
        "duration": 9,
        "start_time": "2025-04-08T22:25:22.330Z"
      },
      {
        "duration": 13,
        "start_time": "2025-04-08T22:25:35.115Z"
      },
      {
        "duration": 44,
        "start_time": "2025-04-08T22:29:08.815Z"
      },
      {
        "duration": 3,
        "start_time": "2025-04-08T22:29:12.940Z"
      },
      {
        "duration": 12,
        "start_time": "2025-04-08T22:29:13.799Z"
      },
      {
        "duration": 16,
        "start_time": "2025-04-08T22:30:02.181Z"
      },
      {
        "duration": 3,
        "start_time": "2025-04-08T22:30:08.333Z"
      },
      {
        "duration": 11,
        "start_time": "2025-04-08T22:30:21.684Z"
      },
      {
        "duration": 2,
        "start_time": "2025-04-08T22:30:25.764Z"
      },
      {
        "duration": 5,
        "start_time": "2025-04-08T22:31:15.422Z"
      },
      {
        "duration": 6,
        "start_time": "2025-04-08T22:31:23.737Z"
      },
      {
        "duration": 6,
        "start_time": "2025-04-08T22:31:32.381Z"
      },
      {
        "duration": 6,
        "start_time": "2025-04-08T22:31:40.327Z"
      },
      {
        "duration": 5,
        "start_time": "2025-04-08T22:31:44.511Z"
      },
      {
        "duration": 5,
        "start_time": "2025-04-08T22:31:49.991Z"
      },
      {
        "duration": 3,
        "start_time": "2025-04-08T22:31:54.528Z"
      },
      {
        "duration": 5,
        "start_time": "2025-04-08T22:31:57.023Z"
      },
      {
        "duration": 15,
        "start_time": "2025-04-08T22:32:33.841Z"
      },
      {
        "duration": 3,
        "start_time": "2025-04-08T22:32:42.222Z"
      },
      {
        "duration": 3,
        "start_time": "2025-04-08T22:32:48.479Z"
      },
      {
        "duration": 5,
        "start_time": "2025-04-08T22:32:48.904Z"
      },
      {
        "duration": 2,
        "start_time": "2025-04-08T22:32:55.046Z"
      },
      {
        "duration": 26,
        "start_time": "2025-04-08T22:34:10.676Z"
      },
      {
        "duration": 3,
        "start_time": "2025-04-08T22:34:13.910Z"
      },
      {
        "duration": 151,
        "start_time": "2025-04-08T22:34:31.630Z"
      },
      {
        "duration": 11,
        "start_time": "2025-04-08T22:34:39.120Z"
      },
      {
        "duration": 13,
        "start_time": "2025-04-08T22:35:28.106Z"
      },
      {
        "duration": 299,
        "start_time": "2025-04-08T22:35:38.670Z"
      },
      {
        "duration": 60,
        "start_time": "2025-04-08T22:35:50.205Z"
      },
      {
        "duration": 15,
        "start_time": "2025-04-08T22:36:31.524Z"
      },
      {
        "duration": 16,
        "start_time": "2025-04-08T22:36:38.778Z"
      },
      {
        "duration": 159,
        "start_time": "2025-04-08T22:36:46.475Z"
      },
      {
        "duration": 3,
        "start_time": "2025-04-08T22:36:51.723Z"
      },
      {
        "duration": 41,
        "start_time": "2025-04-08T22:37:04.236Z"
      },
      {
        "duration": 41,
        "start_time": "2025-04-08T22:37:13.674Z"
      },
      {
        "duration": 78,
        "start_time": "2025-04-08T22:37:19.963Z"
      },
      {
        "duration": 47,
        "start_time": "2025-04-08T22:37:23.731Z"
      },
      {
        "duration": 6,
        "start_time": "2025-04-08T22:38:38.955Z"
      },
      {
        "duration": 3,
        "start_time": "2025-04-08T22:38:39.834Z"
      },
      {
        "duration": 10,
        "start_time": "2025-04-08T22:38:40.980Z"
      },
      {
        "duration": 2,
        "start_time": "2025-04-08T22:38:45.066Z"
      },
      {
        "duration": 5,
        "start_time": "2025-04-08T22:38:46.210Z"
      },
      {
        "duration": 6,
        "start_time": "2025-04-08T22:38:50.290Z"
      },
      {
        "duration": 2,
        "start_time": "2025-04-08T22:38:59.267Z"
      },
      {
        "duration": 26,
        "start_time": "2025-04-08T22:39:00.094Z"
      },
      {
        "duration": 14,
        "start_time": "2025-04-08T22:40:24.349Z"
      },
      {
        "duration": 12,
        "start_time": "2025-04-08T22:40:30.967Z"
      },
      {
        "duration": 6,
        "start_time": "2025-04-08T22:40:47.134Z"
      },
      {
        "duration": 7,
        "start_time": "2025-04-08T22:40:53.188Z"
      },
      {
        "duration": 14,
        "start_time": "2025-04-08T22:41:00.949Z"
      },
      {
        "duration": 6,
        "start_time": "2025-04-08T22:42:09.806Z"
      },
      {
        "duration": 5,
        "start_time": "2025-04-08T22:42:14.054Z"
      },
      {
        "duration": 4,
        "start_time": "2025-04-08T22:42:24.973Z"
      },
      {
        "duration": 13,
        "start_time": "2025-04-08T22:42:25.348Z"
      },
      {
        "duration": 2,
        "start_time": "2025-04-08T22:42:26.588Z"
      },
      {
        "duration": 5,
        "start_time": "2025-04-08T22:42:27.382Z"
      },
      {
        "duration": 4,
        "start_time": "2025-04-08T22:42:30.006Z"
      },
      {
        "duration": 26,
        "start_time": "2025-04-08T22:42:49.909Z"
      },
      {
        "duration": 5,
        "start_time": "2025-04-08T22:43:13.372Z"
      },
      {
        "duration": 21,
        "start_time": "2025-04-08T22:47:04.505Z"
      },
      {
        "duration": 7,
        "start_time": "2025-04-08T22:47:25.027Z"
      },
      {
        "duration": 16,
        "start_time": "2025-04-08T22:47:51.321Z"
      },
      {
        "duration": 3,
        "start_time": "2025-04-08T22:48:22.464Z"
      },
      {
        "duration": 11,
        "start_time": "2025-04-08T22:48:22.969Z"
      },
      {
        "duration": 4,
        "start_time": "2025-04-08T22:48:24.312Z"
      },
      {
        "duration": 5,
        "start_time": "2025-04-08T22:48:25.419Z"
      },
      {
        "duration": 2,
        "start_time": "2025-04-08T22:48:34.940Z"
      },
      {
        "duration": 24,
        "start_time": "2025-04-08T22:48:35.748Z"
      },
      {
        "duration": 2,
        "start_time": "2025-04-08T22:48:55.964Z"
      },
      {
        "duration": 16,
        "start_time": "2025-04-08T22:49:22.349Z"
      },
      {
        "duration": 16,
        "start_time": "2025-04-08T22:49:39.514Z"
      },
      {
        "duration": 18,
        "start_time": "2025-04-08T22:50:02.542Z"
      },
      {
        "duration": 4,
        "start_time": "2025-04-08T22:52:49.069Z"
      },
      {
        "duration": 4,
        "start_time": "2025-04-08T22:52:52.771Z"
      },
      {
        "duration": 7,
        "start_time": "2025-04-08T22:52:57.644Z"
      },
      {
        "duration": 7,
        "start_time": "2025-04-08T22:54:06.389Z"
      },
      {
        "duration": 7,
        "start_time": "2025-04-08T22:54:12.188Z"
      },
      {
        "duration": 2,
        "start_time": "2025-04-08T22:54:35.349Z"
      },
      {
        "duration": 4,
        "start_time": "2025-04-08T22:54:36.021Z"
      },
      {
        "duration": 3,
        "start_time": "2025-04-08T22:55:16.801Z"
      },
      {
        "duration": 4,
        "start_time": "2025-04-08T22:55:18.438Z"
      },
      {
        "duration": 4,
        "start_time": "2025-04-08T22:57:09.773Z"
      },
      {
        "duration": 4,
        "start_time": "2025-04-08T22:57:19.596Z"
      },
      {
        "duration": 2,
        "start_time": "2025-04-08T22:59:11.816Z"
      },
      {
        "duration": 5,
        "start_time": "2025-04-08T23:00:44.121Z"
      },
      {
        "duration": 4,
        "start_time": "2025-04-08T23:01:00.978Z"
      },
      {
        "duration": 4,
        "start_time": "2025-04-08T23:01:04.631Z"
      },
      {
        "duration": 2,
        "start_time": "2025-04-08T23:01:56.742Z"
      },
      {
        "duration": 2,
        "start_time": "2025-04-08T23:02:28.954Z"
      },
      {
        "duration": 2,
        "start_time": "2025-04-08T23:04:59.522Z"
      },
      {
        "duration": 267,
        "start_time": "2025-04-08T23:04:59.980Z"
      },
      {
        "duration": 111,
        "start_time": "2025-04-08T23:05:00.676Z"
      },
      {
        "duration": 76,
        "start_time": "2025-04-08T23:05:01.524Z"
      },
      {
        "duration": 58,
        "start_time": "2025-04-08T23:05:02.351Z"
      },
      {
        "duration": 772,
        "start_time": "2025-04-08T23:08:09.231Z"
      },
      {
        "duration": 790,
        "start_time": "2025-04-08T23:08:37.271Z"
      },
      {
        "duration": 669,
        "start_time": "2025-04-08T23:08:51.792Z"
      },
      {
        "duration": 287,
        "start_time": "2025-04-08T23:08:56.326Z"
      },
      {
        "duration": 662,
        "start_time": "2025-04-08T23:09:15.495Z"
      },
      {
        "duration": 777,
        "start_time": "2025-04-08T23:09:20.702Z"
      },
      {
        "duration": 288,
        "start_time": "2025-04-08T23:10:13.963Z"
      },
      {
        "duration": 284,
        "start_time": "2025-04-08T23:10:40.887Z"
      },
      {
        "duration": 333,
        "start_time": "2025-04-08T23:10:43.504Z"
      },
      {
        "duration": 337,
        "start_time": "2025-04-08T23:11:01.256Z"
      },
      {
        "duration": 5,
        "start_time": "2025-04-08T23:13:39.688Z"
      },
      {
        "duration": 262,
        "start_time": "2025-04-08T23:13:51.030Z"
      },
      {
        "duration": 712,
        "start_time": "2025-04-08T23:15:17.220Z"
      },
      {
        "duration": 4,
        "start_time": "2025-04-08T23:19:29.144Z"
      },
      {
        "duration": 195,
        "start_time": "2025-04-08T23:19:37.021Z"
      },
      {
        "duration": 2,
        "start_time": "2025-04-08T23:24:02.745Z"
      },
      {
        "duration": 130,
        "start_time": "2025-04-08T23:24:02.982Z"
      },
      {
        "duration": 69,
        "start_time": "2025-04-08T23:24:03.208Z"
      },
      {
        "duration": 80,
        "start_time": "2025-04-08T23:24:03.599Z"
      },
      {
        "duration": 58,
        "start_time": "2025-04-08T23:24:04.232Z"
      },
      {
        "duration": 2,
        "start_time": "2025-04-08T23:26:00.599Z"
      },
      {
        "duration": 8,
        "start_time": "2025-04-08T23:27:32.907Z"
      },
      {
        "duration": 5,
        "start_time": "2025-04-08T23:28:23.406Z"
      },
      {
        "duration": 4,
        "start_time": "2025-04-08T23:28:42.340Z"
      },
      {
        "duration": 4,
        "start_time": "2025-04-08T23:28:52.270Z"
      },
      {
        "duration": 2,
        "start_time": "2025-04-08T23:37:48.778Z"
      },
      {
        "duration": 2,
        "start_time": "2025-04-08T23:38:45.486Z"
      },
      {
        "duration": 6,
        "start_time": "2025-04-08T23:38:45.881Z"
      },
      {
        "duration": 2,
        "start_time": "2025-04-08T23:38:50.803Z"
      },
      {
        "duration": 5,
        "start_time": "2025-04-08T23:40:18.578Z"
      },
      {
        "duration": 5,
        "start_time": "2025-04-08T23:40:22.789Z"
      },
      {
        "duration": 9,
        "start_time": "2025-04-08T23:40:25.923Z"
      },
      {
        "duration": 5,
        "start_time": "2025-04-08T23:40:58.500Z"
      },
      {
        "duration": 4,
        "start_time": "2025-04-08T23:44:47.082Z"
      },
      {
        "duration": 10,
        "start_time": "2025-04-08T23:44:50.847Z"
      },
      {
        "duration": 2,
        "start_time": "2025-04-08T23:46:27.081Z"
      },
      {
        "duration": 2,
        "start_time": "2025-04-08T23:47:02.595Z"
      },
      {
        "duration": 15,
        "start_time": "2025-04-08T23:47:02.847Z"
      },
      {
        "duration": 13,
        "start_time": "2025-04-08T23:55:56.478Z"
      },
      {
        "duration": 20,
        "start_time": "2025-04-08T23:56:04.293Z"
      },
      {
        "duration": 10,
        "start_time": "2025-04-08T23:56:04.653Z"
      },
      {
        "duration": 13,
        "start_time": "2025-04-08T23:56:05.108Z"
      },
      {
        "duration": 15,
        "start_time": "2025-04-08T23:56:23.984Z"
      },
      {
        "duration": 54,
        "start_time": "2025-04-08T23:56:45.280Z"
      },
      {
        "duration": 9,
        "start_time": "2025-04-08T23:56:45.741Z"
      },
      {
        "duration": 2,
        "start_time": "2025-04-08T23:56:56.261Z"
      },
      {
        "duration": 793,
        "start_time": "2025-04-08T23:56:56.437Z"
      },
      {
        "duration": 10,
        "start_time": "2025-04-08T23:56:57.233Z"
      },
      {
        "duration": 26,
        "start_time": "2025-04-08T23:56:57.244Z"
      },
      {
        "duration": 8,
        "start_time": "2025-04-08T23:56:57.272Z"
      },
      {
        "duration": 8,
        "start_time": "2025-04-08T23:56:57.282Z"
      },
      {
        "duration": 8,
        "start_time": "2025-04-08T23:56:57.455Z"
      },
      {
        "duration": 135,
        "start_time": "2025-04-08T23:56:59.309Z"
      },
      {
        "duration": 2,
        "start_time": "2025-04-08T23:57:00.175Z"
      },
      {
        "duration": 7,
        "start_time": "2025-04-08T23:57:00.373Z"
      },
      {
        "duration": 2,
        "start_time": "2025-04-08T23:57:00.965Z"
      },
      {
        "duration": 80,
        "start_time": "2025-04-08T23:57:01.189Z"
      },
      {
        "duration": 2,
        "start_time": "2025-04-08T23:57:01.591Z"
      },
      {
        "duration": 84,
        "start_time": "2025-04-08T23:57:01.781Z"
      },
      {
        "duration": 2,
        "start_time": "2025-04-08T23:57:02.206Z"
      },
      {
        "duration": 39,
        "start_time": "2025-04-08T23:57:02.437Z"
      },
      {
        "duration": 2,
        "start_time": "2025-04-08T23:57:03.678Z"
      },
      {
        "duration": 15,
        "start_time": "2025-04-08T23:57:03.878Z"
      },
      {
        "duration": 2,
        "start_time": "2025-04-08T23:57:04.285Z"
      },
      {
        "duration": 4,
        "start_time": "2025-04-08T23:57:04.490Z"
      },
      {
        "duration": 2,
        "start_time": "2025-04-08T23:57:04.933Z"
      },
      {
        "duration": 24,
        "start_time": "2025-04-08T23:57:05.151Z"
      },
      {
        "duration": 2,
        "start_time": "2025-04-08T23:57:05.590Z"
      },
      {
        "duration": 14,
        "start_time": "2025-04-08T23:57:05.805Z"
      },
      {
        "duration": 7,
        "start_time": "2025-04-08T23:57:06.237Z"
      },
      {
        "duration": 3,
        "start_time": "2025-04-08T23:57:06.860Z"
      },
      {
        "duration": 4,
        "start_time": "2025-04-08T23:57:07.046Z"
      },
      {
        "duration": 2,
        "start_time": "2025-04-08T23:57:07.439Z"
      },
      {
        "duration": 5,
        "start_time": "2025-04-08T23:57:07.637Z"
      },
      {
        "duration": 4,
        "start_time": "2025-04-08T23:57:08.032Z"
      },
      {
        "duration": 2,
        "start_time": "2025-04-08T23:57:08.713Z"
      },
      {
        "duration": 4,
        "start_time": "2025-04-08T23:57:08.940Z"
      },
      {
        "duration": 2,
        "start_time": "2025-04-08T23:57:09.349Z"
      },
      {
        "duration": 4,
        "start_time": "2025-04-08T23:57:09.590Z"
      },
      {
        "duration": 2,
        "start_time": "2025-04-08T23:57:10.472Z"
      },
      {
        "duration": 655,
        "start_time": "2025-04-08T23:57:10.927Z"
      },
      {
        "duration": 242,
        "start_time": "2025-04-08T23:57:14.757Z"
      },
      {
        "duration": 2,
        "start_time": "2025-04-08T23:57:15.002Z"
      },
      {
        "duration": 141,
        "start_time": "2025-04-08T23:57:15.405Z"
      },
      {
        "duration": 69,
        "start_time": "2025-04-08T23:57:15.686Z"
      },
      {
        "duration": 71,
        "start_time": "2025-04-08T23:57:16.038Z"
      },
      {
        "duration": 55,
        "start_time": "2025-04-08T23:57:16.701Z"
      },
      {
        "duration": 2,
        "start_time": "2025-04-08T23:57:20.294Z"
      },
      {
        "duration": 6,
        "start_time": "2025-04-08T23:57:20.549Z"
      },
      {
        "duration": 9,
        "start_time": "2025-04-08T23:57:20.829Z"
      },
      {
        "duration": 3,
        "start_time": "2025-04-08T23:57:21.443Z"
      },
      {
        "duration": 8,
        "start_time": "2025-04-08T23:57:21.710Z"
      },
      {
        "duration": 2,
        "start_time": "2025-04-08T23:57:22.170Z"
      },
      {
        "duration": 8,
        "start_time": "2025-04-08T23:57:22.412Z"
      },
      {
        "duration": 2,
        "start_time": "2025-04-08T23:57:23.027Z"
      },
      {
        "duration": 5,
        "start_time": "2025-04-08T23:57:23.309Z"
      },
      {
        "duration": 5,
        "start_time": "2025-04-08T23:57:23.786Z"
      },
      {
        "duration": 4,
        "start_time": "2025-04-08T23:57:24.505Z"
      },
      {
        "duration": 6,
        "start_time": "2025-04-08T23:57:24.981Z"
      },
      {
        "duration": 2,
        "start_time": "2025-04-08T23:57:26.110Z"
      },
      {
        "duration": 7,
        "start_time": "2025-04-08T23:57:26.492Z"
      },
      {
        "duration": 2,
        "start_time": "2025-04-08T23:57:27.679Z"
      },
      {
        "duration": 9,
        "start_time": "2025-04-08T23:57:28.150Z"
      },
      {
        "duration": 2,
        "start_time": "2025-04-08T23:57:30.269Z"
      },
      {
        "duration": 15,
        "start_time": "2025-04-08T23:57:30.542Z"
      },
      {
        "duration": 3,
        "start_time": "2025-04-08T23:57:31.407Z"
      },
      {
        "duration": 26,
        "start_time": "2025-04-08T23:57:32.272Z"
      },
      {
        "duration": 3,
        "start_time": "2025-04-08T23:57:56.038Z"
      },
      {
        "duration": 3,
        "start_time": "2025-04-08T23:58:04.976Z"
      },
      {
        "duration": 3,
        "start_time": "2025-04-08T23:58:08.726Z"
      },
      {
        "duration": 4,
        "start_time": "2025-04-08T23:58:15.286Z"
      },
      {
        "duration": 3,
        "start_time": "2025-04-08T23:58:18.064Z"
      },
      {
        "duration": 4,
        "start_time": "2025-04-08T23:58:25.599Z"
      },
      {
        "duration": 3,
        "start_time": "2025-04-08T23:58:31.824Z"
      },
      {
        "duration": 8,
        "start_time": "2025-04-08T23:58:32.361Z"
      },
      {
        "duration": 4,
        "start_time": "2025-04-08T23:58:33.654Z"
      },
      {
        "duration": 4,
        "start_time": "2025-04-08T23:59:01.047Z"
      },
      {
        "duration": 4,
        "start_time": "2025-04-08T23:59:20.099Z"
      },
      {
        "duration": 3,
        "start_time": "2025-04-08T23:59:35.070Z"
      },
      {
        "duration": 7,
        "start_time": "2025-04-08T23:59:35.401Z"
      },
      {
        "duration": 4,
        "start_time": "2025-04-09T00:00:06.368Z"
      },
      {
        "duration": 11,
        "start_time": "2025-04-09T00:00:07.831Z"
      },
      {
        "duration": 6,
        "start_time": "2025-04-09T00:00:11.115Z"
      },
      {
        "duration": 5,
        "start_time": "2025-04-09T00:00:11.727Z"
      },
      {
        "duration": 7,
        "start_time": "2025-04-09T00:00:14.343Z"
      },
      {
        "duration": 5,
        "start_time": "2025-04-09T00:00:14.544Z"
      },
      {
        "duration": 4,
        "start_time": "2025-04-09T00:00:19.032Z"
      },
      {
        "duration": 4,
        "start_time": "2025-04-09T00:00:32.459Z"
      },
      {
        "duration": 4,
        "start_time": "2025-04-09T00:00:35.185Z"
      },
      {
        "duration": 5,
        "start_time": "2025-04-09T00:00:50.632Z"
      },
      {
        "duration": 5,
        "start_time": "2025-04-09T00:00:59.454Z"
      },
      {
        "duration": 11,
        "start_time": "2025-04-09T00:01:09.040Z"
      },
      {
        "duration": 15,
        "start_time": "2025-04-09T00:01:32.746Z"
      },
      {
        "duration": 5,
        "start_time": "2025-04-09T00:01:40.794Z"
      },
      {
        "duration": 13,
        "start_time": "2025-04-09T00:01:52.733Z"
      },
      {
        "duration": 4,
        "start_time": "2025-04-09T00:02:03.959Z"
      },
      {
        "duration": 7,
        "start_time": "2025-04-09T00:02:17.732Z"
      },
      {
        "duration": 5,
        "start_time": "2025-04-09T00:02:18.169Z"
      },
      {
        "duration": 7,
        "start_time": "2025-04-09T00:02:22.353Z"
      },
      {
        "duration": 5,
        "start_time": "2025-04-09T00:02:22.716Z"
      },
      {
        "duration": 10,
        "start_time": "2025-04-09T00:02:23.371Z"
      },
      {
        "duration": 163,
        "start_time": "2025-04-09T00:03:02.729Z"
      },
      {
        "duration": 5,
        "start_time": "2025-04-09T00:03:03.237Z"
      },
      {
        "duration": 6,
        "start_time": "2025-04-09T00:03:14.714Z"
      },
      {
        "duration": 5,
        "start_time": "2025-04-09T00:03:17.234Z"
      },
      {
        "duration": 5,
        "start_time": "2025-04-09T00:03:21.605Z"
      },
      {
        "duration": 310,
        "start_time": "2025-04-09T00:03:48.097Z"
      },
      {
        "duration": 41,
        "start_time": "2025-04-09T00:04:07.435Z"
      },
      {
        "duration": 54,
        "start_time": "2025-04-09T00:04:12.306Z"
      },
      {
        "duration": 3,
        "start_time": "2025-04-09T00:04:18.478Z"
      },
      {
        "duration": 4,
        "start_time": "2025-04-09T00:04:57.148Z"
      },
      {
        "duration": 13,
        "start_time": "2025-04-09T00:05:00.404Z"
      },
      {
        "duration": 4,
        "start_time": "2025-04-09T00:05:06.250Z"
      },
      {
        "duration": 3,
        "start_time": "2025-04-09T00:05:13.491Z"
      },
      {
        "duration": 7,
        "start_time": "2025-04-09T00:05:19.138Z"
      },
      {
        "duration": 11,
        "start_time": "2025-04-09T00:05:20.302Z"
      },
      {
        "duration": 8,
        "start_time": "2025-04-09T00:06:01.061Z"
      },
      {
        "duration": 4,
        "start_time": "2025-04-09T00:06:12.537Z"
      },
      {
        "duration": 10,
        "start_time": "2025-04-09T00:07:37.629Z"
      },
      {
        "duration": 8,
        "start_time": "2025-04-09T00:07:59.581Z"
      },
      {
        "duration": 8,
        "start_time": "2025-04-09T00:08:10.213Z"
      },
      {
        "duration": 8,
        "start_time": "2025-04-09T00:08:17.465Z"
      },
      {
        "duration": 14,
        "start_time": "2025-04-09T00:08:28.501Z"
      },
      {
        "duration": 9,
        "start_time": "2025-04-09T00:08:42.591Z"
      },
      {
        "duration": 2,
        "start_time": "2025-04-09T00:09:04.047Z"
      },
      {
        "duration": 20,
        "start_time": "2025-04-09T00:09:04.286Z"
      },
      {
        "duration": 13,
        "start_time": "2025-04-09T00:09:04.637Z"
      },
      {
        "duration": 261,
        "start_time": "2025-04-09T00:12:38.668Z"
      },
      {
        "duration": 153,
        "start_time": "2025-04-09T00:15:57.458Z"
      },
      {
        "duration": 231,
        "start_time": "2025-04-09T00:16:00.317Z"
      },
      {
        "duration": 219,
        "start_time": "2025-04-09T00:20:52.017Z"
      },
      {
        "duration": 5,
        "start_time": "2025-04-09T00:23:46.711Z"
      },
      {
        "duration": 3,
        "start_time": "2025-04-09T00:23:47.143Z"
      },
      {
        "duration": 100,
        "start_time": "2025-04-09T00:23:48.131Z"
      },
      {
        "duration": 7,
        "start_time": "2025-04-09T00:23:51.343Z"
      },
      {
        "duration": 5,
        "start_time": "2025-04-09T00:23:53.191Z"
      },
      {
        "duration": 227,
        "start_time": "2025-04-09T00:23:53.462Z"
      },
      {
        "duration": 6,
        "start_time": "2025-04-09T00:23:58.997Z"
      },
      {
        "duration": 2,
        "start_time": "2025-04-09T00:23:59.498Z"
      },
      {
        "duration": 111,
        "start_time": "2025-04-09T00:23:59.943Z"
      },
      {
        "duration": 6,
        "start_time": "2025-04-09T00:24:04.194Z"
      },
      {
        "duration": 2,
        "start_time": "2025-04-09T00:24:05.535Z"
      },
      {
        "duration": 117,
        "start_time": "2025-04-09T00:24:07.824Z"
      },
      {
        "duration": 6,
        "start_time": "2025-04-09T00:25:05.736Z"
      },
      {
        "duration": 6,
        "start_time": "2025-04-09T00:25:28.753Z"
      },
      {
        "duration": 5,
        "start_time": "2025-04-09T00:26:04.210Z"
      },
      {
        "duration": 6,
        "start_time": "2025-04-09T00:26:10.954Z"
      },
      {
        "duration": 3,
        "start_time": "2025-04-09T00:26:13.155Z"
      },
      {
        "duration": 109,
        "start_time": "2025-04-09T00:26:13.847Z"
      },
      {
        "duration": 6,
        "start_time": "2025-04-09T00:26:22.312Z"
      },
      {
        "duration": 7,
        "start_time": "2025-04-09T00:26:22.676Z"
      },
      {
        "duration": 14,
        "start_time": "2025-04-09T00:26:31.363Z"
      },
      {
        "duration": 105,
        "start_time": "2025-04-09T00:26:56.799Z"
      },
      {
        "duration": 6,
        "start_time": "2025-04-09T00:27:18.232Z"
      },
      {
        "duration": 6,
        "start_time": "2025-04-09T00:27:18.773Z"
      },
      {
        "duration": 3,
        "start_time": "2025-04-09T01:07:16.408Z"
      },
      {
        "duration": 8,
        "start_time": "2025-04-09T01:15:22.193Z"
      },
      {
        "duration": 4,
        "start_time": "2025-04-09T01:20:55.371Z"
      },
      {
        "duration": 17,
        "start_time": "2025-04-09T01:21:19.940Z"
      },
      {
        "duration": 16,
        "start_time": "2025-04-09T01:21:23.834Z"
      },
      {
        "duration": 25,
        "start_time": "2025-04-09T01:21:30.548Z"
      },
      {
        "duration": 1541,
        "start_time": "2025-04-09T01:22:39.068Z"
      },
      {
        "duration": 1700,
        "start_time": "2025-04-09T01:24:37.213Z"
      },
      {
        "duration": 4,
        "start_time": "2025-04-09T01:25:22.586Z"
      },
      {
        "duration": 1850,
        "start_time": "2025-04-09T01:25:31.394Z"
      },
      {
        "duration": 1965,
        "start_time": "2025-04-09T01:26:13.680Z"
      },
      {
        "duration": 207,
        "start_time": "2025-04-09T01:31:27.312Z"
      },
      {
        "duration": 4,
        "start_time": "2025-04-09T01:33:24.512Z"
      },
      {
        "duration": 52,
        "start_time": "2025-04-09T01:35:10.773Z"
      },
      {
        "duration": 3,
        "start_time": "2025-04-09T01:35:15.653Z"
      },
      {
        "duration": 6,
        "start_time": "2025-04-09T01:35:23.341Z"
      },
      {
        "duration": 5,
        "start_time": "2025-04-09T01:35:35.310Z"
      },
      {
        "duration": 2,
        "start_time": "2025-04-09T01:35:35.751Z"
      },
      {
        "duration": 4,
        "start_time": "2025-04-09T01:35:47.617Z"
      },
      {
        "duration": 4,
        "start_time": "2025-04-09T01:35:54.460Z"
      },
      {
        "duration": 4,
        "start_time": "2025-04-09T01:35:59.457Z"
      },
      {
        "duration": 2,
        "start_time": "2025-04-09T01:36:13.052Z"
      },
      {
        "duration": 838,
        "start_time": "2025-04-09T01:36:13.279Z"
      },
      {
        "duration": 10,
        "start_time": "2025-04-09T01:36:14.284Z"
      },
      {
        "duration": 12,
        "start_time": "2025-04-09T01:36:14.464Z"
      },
      {
        "duration": 8,
        "start_time": "2025-04-09T01:36:14.693Z"
      },
      {
        "duration": 8,
        "start_time": "2025-04-09T01:36:14.967Z"
      },
      {
        "duration": 6,
        "start_time": "2025-04-09T01:36:15.241Z"
      },
      {
        "duration": 155,
        "start_time": "2025-04-09T01:36:17.156Z"
      },
      {
        "duration": 2,
        "start_time": "2025-04-09T01:36:18.008Z"
      },
      {
        "duration": 7,
        "start_time": "2025-04-09T01:36:18.200Z"
      },
      {
        "duration": 2,
        "start_time": "2025-04-09T01:36:18.718Z"
      },
      {
        "duration": 73,
        "start_time": "2025-04-09T01:36:18.902Z"
      },
      {
        "duration": 2,
        "start_time": "2025-04-09T01:36:19.317Z"
      },
      {
        "duration": 66,
        "start_time": "2025-04-09T01:36:19.509Z"
      },
      {
        "duration": 2,
        "start_time": "2025-04-09T01:36:19.915Z"
      },
      {
        "duration": 34,
        "start_time": "2025-04-09T01:36:20.158Z"
      },
      {
        "duration": 2,
        "start_time": "2025-04-09T01:36:21.387Z"
      },
      {
        "duration": 14,
        "start_time": "2025-04-09T01:36:21.712Z"
      },
      {
        "duration": 2,
        "start_time": "2025-04-09T01:36:22.261Z"
      },
      {
        "duration": 3,
        "start_time": "2025-04-09T01:36:22.372Z"
      },
      {
        "duration": 2,
        "start_time": "2025-04-09T01:36:22.822Z"
      },
      {
        "duration": 23,
        "start_time": "2025-04-09T01:36:23.034Z"
      },
      {
        "duration": 2,
        "start_time": "2025-04-09T01:36:23.461Z"
      },
      {
        "duration": 13,
        "start_time": "2025-04-09T01:36:23.940Z"
      },
      {
        "duration": 7,
        "start_time": "2025-04-09T01:36:24.979Z"
      },
      {
        "duration": 2,
        "start_time": "2025-04-09T01:36:31.602Z"
      },
      {
        "duration": 4,
        "start_time": "2025-04-09T01:36:31.891Z"
      },
      {
        "duration": 4,
        "start_time": "2025-04-09T01:36:32.469Z"
      },
      {
        "duration": 4,
        "start_time": "2025-04-09T01:36:32.734Z"
      },
      {
        "duration": 4,
        "start_time": "2025-04-09T01:36:33.274Z"
      },
      {
        "duration": 2,
        "start_time": "2025-04-09T01:36:34.268Z"
      },
      {
        "duration": 5,
        "start_time": "2025-04-09T01:36:35.114Z"
      },
      {
        "duration": 3,
        "start_time": "2025-04-09T01:36:35.310Z"
      },
      {
        "duration": 4,
        "start_time": "2025-04-09T01:36:35.799Z"
      },
      {
        "duration": 2,
        "start_time": "2025-04-09T01:36:36.087Z"
      },
      {
        "duration": 850,
        "start_time": "2025-04-09T01:36:36.274Z"
      },
      {
        "duration": 235,
        "start_time": "2025-04-09T01:36:37.456Z"
      },
      {
        "duration": 3,
        "start_time": "2025-04-09T01:36:37.693Z"
      },
      {
        "duration": 1985,
        "start_time": "2025-04-09T01:36:37.993Z"
      },
      {
        "duration": 2,
        "start_time": "2025-04-09T01:36:39.980Z"
      },
      {
        "duration": 7,
        "start_time": "2025-04-09T01:36:39.983Z"
      },
      {
        "duration": 7,
        "start_time": "2025-04-09T01:36:39.992Z"
      },
      {
        "duration": 4,
        "start_time": "2025-04-09T01:36:40.668Z"
      },
      {
        "duration": 9,
        "start_time": "2025-04-09T01:36:41.323Z"
      },
      {
        "duration": 2,
        "start_time": "2025-04-09T01:36:41.837Z"
      },
      {
        "duration": 11,
        "start_time": "2025-04-09T01:36:42.467Z"
      },
      {
        "duration": 2,
        "start_time": "2025-04-09T01:36:42.805Z"
      },
      {
        "duration": 9,
        "start_time": "2025-04-09T01:36:43.287Z"
      },
      {
        "duration": 5,
        "start_time": "2025-04-09T01:36:43.715Z"
      },
      {
        "duration": 3,
        "start_time": "2025-04-09T01:36:44.398Z"
      },
      {
        "duration": 7,
        "start_time": "2025-04-09T01:36:44.403Z"
      },
      {
        "duration": 6,
        "start_time": "2025-04-09T01:36:45.391Z"
      },
      {
        "duration": 6,
        "start_time": "2025-04-09T01:36:45.715Z"
      },
      {
        "duration": 2,
        "start_time": "2025-04-09T01:36:46.766Z"
      },
      {
        "duration": 9,
        "start_time": "2025-04-09T01:36:47.011Z"
      },
      {
        "duration": 3,
        "start_time": "2025-04-09T01:36:48.716Z"
      },
      {
        "duration": 15,
        "start_time": "2025-04-09T01:36:49.101Z"
      },
      {
        "duration": 2,
        "start_time": "2025-04-09T01:36:51.309Z"
      },
      {
        "duration": 25,
        "start_time": "2025-04-09T01:36:51.725Z"
      },
      {
        "duration": 3,
        "start_time": "2025-04-09T01:36:53.309Z"
      },
      {
        "duration": 9,
        "start_time": "2025-04-09T01:36:53.725Z"
      },
      {
        "duration": 5,
        "start_time": "2025-04-09T01:36:55.754Z"
      },
      {
        "duration": 40,
        "start_time": "2025-04-09T01:38:57.982Z"
      },
      {
        "duration": 52,
        "start_time": "2025-04-09T01:42:33.763Z"
      },
      {
        "duration": 39,
        "start_time": "2025-04-09T01:42:37.227Z"
      },
      {
        "duration": 33,
        "start_time": "2025-04-09T01:43:29.089Z"
      },
      {
        "duration": 33,
        "start_time": "2025-04-09T01:44:06.263Z"
      },
      {
        "duration": 42,
        "start_time": "2025-04-09T01:46:18.862Z"
      },
      {
        "duration": 34,
        "start_time": "2025-04-09T01:46:30.314Z"
      },
      {
        "duration": 42,
        "start_time": "2025-04-09T01:47:31.934Z"
      },
      {
        "duration": 41,
        "start_time": "2025-04-09T01:47:46.046Z"
      },
      {
        "duration": 34,
        "start_time": "2025-04-09T01:48:12.027Z"
      },
      {
        "duration": 7,
        "start_time": "2025-04-09T01:50:53.535Z"
      },
      {
        "duration": 166,
        "start_time": "2025-04-09T01:54:28.507Z"
      },
      {
        "duration": 143,
        "start_time": "2025-04-09T01:55:00.114Z"
      },
      {
        "duration": 145,
        "start_time": "2025-04-09T01:55:05.432Z"
      },
      {
        "duration": 173,
        "start_time": "2025-04-09T01:55:47.153Z"
      },
      {
        "duration": 153,
        "start_time": "2025-04-09T01:56:05.987Z"
      },
      {
        "duration": 165,
        "start_time": "2025-04-09T01:56:09.773Z"
      },
      {
        "duration": 147,
        "start_time": "2025-04-09T01:56:26.963Z"
      },
      {
        "duration": 144,
        "start_time": "2025-04-09T01:56:39.564Z"
      },
      {
        "duration": 661,
        "start_time": "2025-04-09T01:56:50.949Z"
      },
      {
        "duration": 157,
        "start_time": "2025-04-09T01:56:57.078Z"
      },
      {
        "duration": 148,
        "start_time": "2025-04-09T01:58:20.468Z"
      },
      {
        "duration": 834,
        "start_time": "2025-04-09T01:58:44.671Z"
      },
      {
        "duration": 0,
        "start_time": "2025-04-09T02:01:14.282Z"
      },
      {
        "duration": 6173,
        "start_time": "2025-04-09T02:02:05.333Z"
      },
      {
        "duration": 3,
        "start_time": "2025-04-09T02:02:11.508Z"
      },
      {
        "duration": 829,
        "start_time": "2025-04-09T02:02:12.202Z"
      },
      {
        "duration": 10,
        "start_time": "2025-04-09T02:02:13.034Z"
      },
      {
        "duration": 12,
        "start_time": "2025-04-09T02:02:13.627Z"
      },
      {
        "duration": 9,
        "start_time": "2025-04-09T02:02:14.268Z"
      },
      {
        "duration": 9,
        "start_time": "2025-04-09T02:02:14.574Z"
      },
      {
        "duration": 7,
        "start_time": "2025-04-09T02:02:14.839Z"
      },
      {
        "duration": 139,
        "start_time": "2025-04-09T02:02:16.233Z"
      },
      {
        "duration": 2,
        "start_time": "2025-04-09T02:02:16.872Z"
      },
      {
        "duration": 8,
        "start_time": "2025-04-09T02:02:17.042Z"
      },
      {
        "duration": 2,
        "start_time": "2025-04-09T02:02:17.551Z"
      },
      {
        "duration": 75,
        "start_time": "2025-04-09T02:02:17.721Z"
      },
      {
        "duration": 3,
        "start_time": "2025-04-09T02:02:18.050Z"
      },
      {
        "duration": 70,
        "start_time": "2025-04-09T02:02:18.222Z"
      },
      {
        "duration": 2,
        "start_time": "2025-04-09T02:02:18.633Z"
      },
      {
        "duration": 39,
        "start_time": "2025-04-09T02:02:18.836Z"
      },
      {
        "duration": 2,
        "start_time": "2025-04-09T02:02:20.022Z"
      },
      {
        "duration": 12,
        "start_time": "2025-04-09T02:02:20.215Z"
      },
      {
        "duration": 2,
        "start_time": "2025-04-09T02:02:20.583Z"
      },
      {
        "duration": 5,
        "start_time": "2025-04-09T02:02:20.761Z"
      },
      {
        "duration": 2,
        "start_time": "2025-04-09T02:02:21.161Z"
      },
      {
        "duration": 27,
        "start_time": "2025-04-09T02:02:21.362Z"
      },
      {
        "duration": 2,
        "start_time": "2025-04-09T02:02:21.775Z"
      },
      {
        "duration": 14,
        "start_time": "2025-04-09T02:02:21.981Z"
      },
      {
        "duration": 7,
        "start_time": "2025-04-09T02:02:22.408Z"
      },
      {
        "duration": 2,
        "start_time": "2025-04-09T02:02:23.011Z"
      },
      {
        "duration": 4,
        "start_time": "2025-04-09T02:02:23.216Z"
      },
      {
        "duration": 2,
        "start_time": "2025-04-09T02:02:23.641Z"
      },
      {
        "duration": 3,
        "start_time": "2025-04-09T02:02:23.813Z"
      },
      {
        "duration": 4,
        "start_time": "2025-04-09T02:02:24.213Z"
      },
      {
        "duration": 3,
        "start_time": "2025-04-09T02:02:24.827Z"
      },
      {
        "duration": 4,
        "start_time": "2025-04-09T02:02:25.032Z"
      },
      {
        "duration": 3,
        "start_time": "2025-04-09T02:02:25.423Z"
      },
      {
        "duration": 4,
        "start_time": "2025-04-09T02:02:25.630Z"
      },
      {
        "duration": 2,
        "start_time": "2025-04-09T02:02:26.232Z"
      },
      {
        "duration": 761,
        "start_time": "2025-04-09T02:02:26.476Z"
      },
      {
        "duration": 235,
        "start_time": "2025-04-09T02:02:27.240Z"
      },
      {
        "duration": 2,
        "start_time": "2025-04-09T02:02:27.477Z"
      },
      {
        "duration": 1906,
        "start_time": "2025-04-09T02:02:27.481Z"
      },
      {
        "duration": 2,
        "start_time": "2025-04-09T02:02:29.389Z"
      },
      {
        "duration": 6,
        "start_time": "2025-04-09T02:02:29.393Z"
      },
      {
        "duration": 8,
        "start_time": "2025-04-09T02:02:29.400Z"
      },
      {
        "duration": 3,
        "start_time": "2025-04-09T02:02:29.737Z"
      },
      {
        "duration": 9,
        "start_time": "2025-04-09T02:02:29.980Z"
      },
      {
        "duration": 3,
        "start_time": "2025-04-09T02:02:30.458Z"
      },
      {
        "duration": 9,
        "start_time": "2025-04-09T02:02:30.717Z"
      },
      {
        "duration": 2,
        "start_time": "2025-04-09T02:02:31.206Z"
      },
      {
        "duration": 5,
        "start_time": "2025-04-09T02:02:31.466Z"
      },
      {
        "duration": 7,
        "start_time": "2025-04-09T02:02:31.945Z"
      },
      {
        "duration": 2,
        "start_time": "2025-04-09T02:02:32.439Z"
      },
      {
        "duration": 6,
        "start_time": "2025-04-09T02:02:32.697Z"
      },
      {
        "duration": 2,
        "start_time": "2025-04-09T02:02:33.448Z"
      },
      {
        "duration": 7,
        "start_time": "2025-04-09T02:02:33.712Z"
      },
      {
        "duration": 4,
        "start_time": "2025-04-09T02:02:34.278Z"
      },
      {
        "duration": 9,
        "start_time": "2025-04-09T02:02:34.575Z"
      },
      {
        "duration": 4,
        "start_time": "2025-04-09T02:02:35.640Z"
      },
      {
        "duration": 16,
        "start_time": "2025-04-09T02:02:35.889Z"
      },
      {
        "duration": 2,
        "start_time": "2025-04-09T02:02:36.391Z"
      },
      {
        "duration": 27,
        "start_time": "2025-04-09T02:02:36.600Z"
      },
      {
        "duration": 4,
        "start_time": "2025-04-09T02:02:37.648Z"
      },
      {
        "duration": 10,
        "start_time": "2025-04-09T02:02:37.846Z"
      },
      {
        "duration": 5,
        "start_time": "2025-04-09T02:02:38.031Z"
      },
      {
        "duration": 37,
        "start_time": "2025-04-09T02:02:38.220Z"
      },
      {
        "duration": 38,
        "start_time": "2025-04-09T02:02:38.372Z"
      },
      {
        "duration": 9,
        "start_time": "2025-04-09T02:02:38.706Z"
      },
      {
        "duration": 3,
        "start_time": "2025-04-09T02:02:38.872Z"
      },
      {
        "duration": 7,
        "start_time": "2025-04-09T02:02:39.222Z"
      },
      {
        "duration": 2,
        "start_time": "2025-04-09T02:02:39.410Z"
      },
      {
        "duration": 3,
        "start_time": "2025-04-09T02:02:39.597Z"
      },
      {
        "duration": 3,
        "start_time": "2025-04-09T02:02:39.754Z"
      },
      {
        "duration": 2,
        "start_time": "2025-04-09T02:02:39.949Z"
      },
      {
        "duration": 2,
        "start_time": "2025-04-09T02:02:40.490Z"
      },
      {
        "duration": 22,
        "start_time": "2025-04-09T02:02:40.707Z"
      },
      {
        "duration": 19,
        "start_time": "2025-04-09T02:02:40.934Z"
      },
      {
        "duration": 7,
        "start_time": "2025-04-09T02:02:42.235Z"
      },
      {
        "duration": 7,
        "start_time": "2025-04-09T02:02:42.655Z"
      },
      {
        "duration": 254,
        "start_time": "2025-04-09T02:02:43.654Z"
      },
      {
        "duration": 5,
        "start_time": "2025-04-09T02:02:44.350Z"
      },
      {
        "duration": 6,
        "start_time": "2025-04-09T02:02:44.630Z"
      },
      {
        "duration": 107,
        "start_time": "2025-04-09T02:02:44.868Z"
      },
      {
        "duration": 7,
        "start_time": "2025-04-09T02:02:45.914Z"
      },
      {
        "duration": 151,
        "start_time": "2025-04-09T02:02:46.209Z"
      },
      {
        "duration": 204,
        "start_time": "2025-04-09T02:02:48.656Z"
      },
      {
        "duration": 4,
        "start_time": "2025-04-09T02:04:12.227Z"
      },
      {
        "duration": 13,
        "start_time": "2025-04-09T02:04:58.650Z"
      },
      {
        "duration": 5,
        "start_time": "2025-04-09T02:06:28.795Z"
      },
      {
        "duration": 7,
        "start_time": "2025-04-09T02:06:47.013Z"
      },
      {
        "duration": 215,
        "start_time": "2025-04-09T02:07:11.084Z"
      },
      {
        "duration": 201,
        "start_time": "2025-04-09T02:09:53.578Z"
      },
      {
        "duration": 215,
        "start_time": "2025-04-09T02:10:06.263Z"
      },
      {
        "duration": 2454,
        "start_time": "2025-04-09T17:24:00.333Z"
      },
      {
        "duration": 1417,
        "start_time": "2025-04-09T17:24:02.789Z"
      },
      {
        "duration": 16,
        "start_time": "2025-04-09T17:24:04.208Z"
      },
      {
        "duration": 21,
        "start_time": "2025-04-09T17:24:04.226Z"
      },
      {
        "duration": 9,
        "start_time": "2025-04-09T17:24:07.473Z"
      },
      {
        "duration": 13,
        "start_time": "2025-04-09T17:24:08.024Z"
      },
      {
        "duration": 8,
        "start_time": "2025-04-09T17:24:08.768Z"
      },
      {
        "duration": 189,
        "start_time": "2025-04-09T17:24:21.656Z"
      },
      {
        "duration": 3,
        "start_time": "2025-04-09T17:24:24.203Z"
      },
      {
        "duration": 8,
        "start_time": "2025-04-09T17:24:24.808Z"
      },
      {
        "duration": 2,
        "start_time": "2025-04-09T17:24:28.023Z"
      },
      {
        "duration": 101,
        "start_time": "2025-04-09T17:24:28.838Z"
      },
      {
        "duration": 3,
        "start_time": "2025-04-09T17:24:31.734Z"
      },
      {
        "duration": 89,
        "start_time": "2025-04-09T17:24:32.786Z"
      },
      {
        "duration": 3,
        "start_time": "2025-04-09T17:24:36.449Z"
      },
      {
        "duration": 45,
        "start_time": "2025-04-09T17:24:40.191Z"
      },
      {
        "duration": 2,
        "start_time": "2025-04-09T17:25:30.687Z"
      },
      {
        "duration": 12,
        "start_time": "2025-04-09T17:25:31.230Z"
      },
      {
        "duration": 2,
        "start_time": "2025-04-09T17:25:33.526Z"
      },
      {
        "duration": 5,
        "start_time": "2025-04-09T17:25:33.842Z"
      },
      {
        "duration": 2,
        "start_time": "2025-04-09T17:25:34.915Z"
      },
      {
        "duration": 23,
        "start_time": "2025-04-09T17:25:35.828Z"
      },
      {
        "duration": 3,
        "start_time": "2025-04-09T17:25:37.232Z"
      },
      {
        "duration": 14,
        "start_time": "2025-04-09T17:25:39.067Z"
      },
      {
        "duration": 7,
        "start_time": "2025-04-09T17:30:20.393Z"
      },
      {
        "duration": 2,
        "start_time": "2025-04-09T17:30:29.228Z"
      },
      {
        "duration": 3,
        "start_time": "2025-04-09T17:30:34.600Z"
      },
      {
        "duration": 3,
        "start_time": "2025-04-09T17:30:35.859Z"
      },
      {
        "duration": 4,
        "start_time": "2025-04-09T17:30:36.198Z"
      },
      {
        "duration": 4,
        "start_time": "2025-04-09T17:30:37.473Z"
      },
      {
        "duration": 2,
        "start_time": "2025-04-09T17:30:39.332Z"
      },
      {
        "duration": 4,
        "start_time": "2025-04-09T17:30:39.620Z"
      },
      {
        "duration": 3,
        "start_time": "2025-04-09T17:30:40.751Z"
      },
      {
        "duration": 4,
        "start_time": "2025-04-09T17:30:41.204Z"
      },
      {
        "duration": 2,
        "start_time": "2025-04-09T17:30:42.261Z"
      },
      {
        "duration": 724,
        "start_time": "2025-04-09T17:30:42.528Z"
      },
      {
        "duration": 250,
        "start_time": "2025-04-09T17:30:44.168Z"
      },
      {
        "duration": 2,
        "start_time": "2025-04-09T17:30:45.428Z"
      },
      {
        "duration": 2,
        "start_time": "2025-04-09T17:33:08.395Z"
      },
      {
        "duration": 6,
        "start_time": "2025-04-09T17:33:09.096Z"
      },
      {
        "duration": 13,
        "start_time": "2025-04-09T17:33:09.620Z"
      },
      {
        "duration": 3,
        "start_time": "2025-04-09T17:33:13.887Z"
      },
      {
        "duration": 2,
        "start_time": "2025-04-09T17:33:17.241Z"
      },
      {
        "duration": 9,
        "start_time": "2025-04-09T17:33:17.542Z"
      },
      {
        "duration": 3,
        "start_time": "2025-04-09T17:33:18.763Z"
      },
      {
        "duration": 11,
        "start_time": "2025-04-09T17:33:19.323Z"
      },
      {
        "duration": 3,
        "start_time": "2025-04-09T17:33:20.054Z"
      },
      {
        "duration": 4,
        "start_time": "2025-04-09T17:33:20.380Z"
      },
      {
        "duration": 5,
        "start_time": "2025-04-09T17:33:21.121Z"
      },
      {
        "duration": 2,
        "start_time": "2025-04-09T17:33:22.035Z"
      },
      {
        "duration": 5,
        "start_time": "2025-04-09T17:33:22.541Z"
      },
      {
        "duration": 2,
        "start_time": "2025-04-09T17:33:24.364Z"
      },
      {
        "duration": 5,
        "start_time": "2025-04-09T17:33:24.916Z"
      },
      {
        "duration": 2,
        "start_time": "2025-04-09T17:33:25.863Z"
      },
      {
        "duration": 9,
        "start_time": "2025-04-09T17:33:26.406Z"
      },
      {
        "duration": 2,
        "start_time": "2025-04-09T17:33:28.384Z"
      },
      {
        "duration": 15,
        "start_time": "2025-04-09T17:33:28.552Z"
      },
      {
        "duration": 2,
        "start_time": "2025-04-09T17:33:29.769Z"
      },
      {
        "duration": 38,
        "start_time": "2025-04-09T17:33:30.190Z"
      },
      {
        "duration": 31,
        "start_time": "2025-04-09T17:33:57.768Z"
      },
      {
        "duration": 2,
        "start_time": "2025-04-09T17:34:00.460Z"
      },
      {
        "duration": 740,
        "start_time": "2025-04-09T17:34:21.018Z"
      },
      {
        "duration": 6,
        "start_time": "2025-04-09T17:35:15.040Z"
      },
      {
        "duration": 7,
        "start_time": "2025-04-09T17:35:22.805Z"
      },
      {
        "duration": 4,
        "start_time": "2025-04-09T17:35:32.504Z"
      },
      {
        "duration": 37,
        "start_time": "2025-04-09T17:35:36.200Z"
      },
      {
        "duration": 39,
        "start_time": "2025-04-09T17:44:45.952Z"
      },
      {
        "duration": 3,
        "start_time": "2025-04-09T17:44:47.246Z"
      },
      {
        "duration": 25,
        "start_time": "2025-04-09T17:44:47.843Z"
      },
      {
        "duration": 2,
        "start_time": "2025-04-09T17:44:51.418Z"
      },
      {
        "duration": 6,
        "start_time": "2025-04-09T17:44:51.732Z"
      },
      {
        "duration": 3,
        "start_time": "2025-04-09T17:44:51.960Z"
      },
      {
        "duration": 4,
        "start_time": "2025-04-09T17:44:52.773Z"
      },
      {
        "duration": 20,
        "start_time": "2025-04-09T17:44:53.855Z"
      },
      {
        "duration": 23,
        "start_time": "2025-04-09T17:44:54.441Z"
      },
      {
        "duration": 3,
        "start_time": "2025-04-09T17:44:56.436Z"
      },
      {
        "duration": 29,
        "start_time": "2025-04-09T17:44:56.442Z"
      },
      {
        "duration": 26,
        "start_time": "2025-04-09T17:45:00.461Z"
      },
      {
        "duration": 10,
        "start_time": "2025-04-09T17:49:56.047Z"
      },
      {
        "duration": 8,
        "start_time": "2025-04-09T17:50:05.509Z"
      },
      {
        "duration": 263,
        "start_time": "2025-04-09T17:52:07.455Z"
      },
      {
        "duration": 228,
        "start_time": "2025-04-09T17:53:38.618Z"
      },
      {
        "duration": 262,
        "start_time": "2025-04-09T17:53:52.018Z"
      },
      {
        "duration": 250,
        "start_time": "2025-04-09T17:56:38.843Z"
      },
      {
        "duration": 17,
        "start_time": "2025-04-09T18:00:49.398Z"
      },
      {
        "duration": 6,
        "start_time": "2025-04-09T18:00:57.415Z"
      },
      {
        "duration": 7,
        "start_time": "2025-04-09T18:00:57.423Z"
      },
      {
        "duration": 624,
        "start_time": "2025-04-09T18:01:00.313Z"
      },
      {
        "duration": 112,
        "start_time": "2025-04-09T18:01:07.910Z"
      },
      {
        "duration": 140,
        "start_time": "2025-04-09T18:02:06.186Z"
      },
      {
        "duration": 112,
        "start_time": "2025-04-09T18:02:16.437Z"
      },
      {
        "duration": 233,
        "start_time": "2025-04-09T18:02:34.832Z"
      },
      {
        "duration": 117,
        "start_time": "2025-04-09T18:02:41.194Z"
      },
      {
        "duration": 100,
        "start_time": "2025-04-09T18:03:49.975Z"
      },
      {
        "duration": 120,
        "start_time": "2025-04-09T18:04:19.822Z"
      },
      {
        "duration": 102,
        "start_time": "2025-04-09T18:04:30.746Z"
      },
      {
        "duration": 112,
        "start_time": "2025-04-09T18:05:14.356Z"
      },
      {
        "duration": 108,
        "start_time": "2025-04-09T18:05:26.647Z"
      },
      {
        "duration": 112,
        "start_time": "2025-04-09T18:05:38.568Z"
      },
      {
        "duration": 108,
        "start_time": "2025-04-09T18:05:46.721Z"
      },
      {
        "duration": 114,
        "start_time": "2025-04-09T18:05:57.452Z"
      },
      {
        "duration": 12,
        "start_time": "2025-04-09T18:07:37.210Z"
      },
      {
        "duration": 102,
        "start_time": "2025-04-09T18:07:43.069Z"
      },
      {
        "duration": 131,
        "start_time": "2025-04-09T18:08:56.941Z"
      },
      {
        "duration": 117,
        "start_time": "2025-04-09T18:09:04.991Z"
      },
      {
        "duration": 17,
        "start_time": "2025-04-09T18:11:00.438Z"
      },
      {
        "duration": 7,
        "start_time": "2025-04-09T18:11:16.823Z"
      },
      {
        "duration": 15,
        "start_time": "2025-04-09T18:12:15.382Z"
      },
      {
        "duration": 122,
        "start_time": "2025-04-09T18:12:44.838Z"
      },
      {
        "duration": 113,
        "start_time": "2025-04-09T18:14:58.271Z"
      },
      {
        "duration": 8,
        "start_time": "2025-04-09T18:15:33.213Z"
      },
      {
        "duration": 4,
        "start_time": "2025-04-09T18:16:07.255Z"
      },
      {
        "duration": 163,
        "start_time": "2025-04-09T18:19:19.801Z"
      },
      {
        "duration": 193,
        "start_time": "2025-04-09T18:20:04.835Z"
      },
      {
        "duration": 218,
        "start_time": "2025-04-09T18:21:18.758Z"
      },
      {
        "duration": 140,
        "start_time": "2025-04-09T18:21:32.934Z"
      },
      {
        "duration": 243,
        "start_time": "2025-04-09T18:21:45.560Z"
      },
      {
        "duration": 3,
        "start_time": "2025-04-09T18:21:53.304Z"
      },
      {
        "duration": 163,
        "start_time": "2025-04-09T18:22:05.991Z"
      },
      {
        "duration": 163,
        "start_time": "2025-04-09T18:24:16.347Z"
      },
      {
        "duration": 165,
        "start_time": "2025-04-09T18:26:32.521Z"
      },
      {
        "duration": 174,
        "start_time": "2025-04-09T18:26:46.780Z"
      },
      {
        "duration": 169,
        "start_time": "2025-04-09T18:27:15.943Z"
      },
      {
        "duration": 191,
        "start_time": "2025-04-09T18:27:39.894Z"
      },
      {
        "duration": 172,
        "start_time": "2025-04-09T18:27:42.889Z"
      },
      {
        "duration": 4,
        "start_time": "2025-04-09T18:28:01.526Z"
      },
      {
        "duration": 171,
        "start_time": "2025-04-09T18:28:08.406Z"
      },
      {
        "duration": 171,
        "start_time": "2025-04-09T18:28:33.729Z"
      },
      {
        "duration": 156,
        "start_time": "2025-04-09T18:29:02.721Z"
      },
      {
        "duration": 165,
        "start_time": "2025-04-09T18:29:13.416Z"
      },
      {
        "duration": 161,
        "start_time": "2025-04-09T18:29:26.302Z"
      },
      {
        "duration": 155,
        "start_time": "2025-04-09T18:29:35.891Z"
      },
      {
        "duration": 183,
        "start_time": "2025-04-09T18:30:32.087Z"
      },
      {
        "duration": 164,
        "start_time": "2025-04-09T18:31:14.272Z"
      },
      {
        "duration": 6,
        "start_time": "2025-04-09T18:31:22.449Z"
      },
      {
        "duration": 4,
        "start_time": "2025-04-09T18:31:28.459Z"
      },
      {
        "duration": 176,
        "start_time": "2025-04-09T18:31:35.040Z"
      },
      {
        "duration": 218,
        "start_time": "2025-04-09T18:31:45.376Z"
      },
      {
        "duration": 305,
        "start_time": "2025-04-09T18:32:15.795Z"
      },
      {
        "duration": 171,
        "start_time": "2025-04-09T18:32:23.174Z"
      },
      {
        "duration": 154,
        "start_time": "2025-04-09T18:32:26.242Z"
      },
      {
        "duration": 157,
        "start_time": "2025-04-09T18:32:28.481Z"
      },
      {
        "duration": 7,
        "start_time": "2025-04-09T18:37:37.109Z"
      },
      {
        "duration": 7,
        "start_time": "2025-04-09T18:37:59.709Z"
      },
      {
        "duration": 7,
        "start_time": "2025-04-09T18:39:28.726Z"
      },
      {
        "duration": 11,
        "start_time": "2025-04-09T18:39:37.537Z"
      },
      {
        "duration": 11,
        "start_time": "2025-04-09T18:41:41.522Z"
      },
      {
        "duration": 126,
        "start_time": "2025-04-09T18:42:33.572Z"
      },
      {
        "duration": 5,
        "start_time": "2025-04-09T18:42:47.274Z"
      },
      {
        "duration": 9,
        "start_time": "2025-04-09T18:42:51.265Z"
      },
      {
        "duration": 8,
        "start_time": "2025-04-09T18:43:36.410Z"
      },
      {
        "duration": 11,
        "start_time": "2025-04-09T18:52:22.474Z"
      },
      {
        "duration": 13,
        "start_time": "2025-04-09T18:53:10.035Z"
      },
      {
        "duration": 5,
        "start_time": "2025-04-09T18:55:46.936Z"
      },
      {
        "duration": 9,
        "start_time": "2025-04-09T18:55:52.562Z"
      },
      {
        "duration": 9,
        "start_time": "2025-04-09T18:59:08.010Z"
      },
      {
        "duration": 6,
        "start_time": "2025-04-09T18:59:09.206Z"
      },
      {
        "duration": 12,
        "start_time": "2025-04-09T19:01:54.052Z"
      },
      {
        "duration": 194,
        "start_time": "2025-04-09T19:01:55.848Z"
      },
      {
        "duration": 205,
        "start_time": "2025-04-09T19:02:46.610Z"
      },
      {
        "duration": 203,
        "start_time": "2025-04-09T19:02:58.333Z"
      },
      {
        "duration": 266,
        "start_time": "2025-04-09T19:03:28.578Z"
      },
      {
        "duration": 164,
        "start_time": "2025-04-09T19:03:38.498Z"
      },
      {
        "duration": 203,
        "start_time": "2025-04-09T19:03:54.066Z"
      },
      {
        "duration": 361,
        "start_time": "2025-04-09T19:04:12.821Z"
      },
      {
        "duration": 221,
        "start_time": "2025-04-09T19:04:42.489Z"
      },
      {
        "duration": 224,
        "start_time": "2025-04-09T19:04:49.243Z"
      },
      {
        "duration": 206,
        "start_time": "2025-04-09T19:04:53.733Z"
      },
      {
        "duration": 17,
        "start_time": "2025-04-09T19:09:22.484Z"
      },
      {
        "duration": 44,
        "start_time": "2025-04-09T19:09:26.607Z"
      },
      {
        "duration": 182,
        "start_time": "2025-04-09T19:09:26.954Z"
      },
      {
        "duration": 135,
        "start_time": "2025-04-09T19:10:36.535Z"
      },
      {
        "duration": 128,
        "start_time": "2025-04-09T19:10:44.164Z"
      },
      {
        "duration": 129,
        "start_time": "2025-04-09T19:10:46.139Z"
      },
      {
        "duration": 121,
        "start_time": "2025-04-09T19:11:19.506Z"
      },
      {
        "duration": 123,
        "start_time": "2025-04-09T19:11:34.486Z"
      },
      {
        "duration": 176,
        "start_time": "2025-04-09T19:11:38.566Z"
      },
      {
        "duration": 190,
        "start_time": "2025-04-09T19:11:50.425Z"
      },
      {
        "duration": 187,
        "start_time": "2025-04-09T19:12:04.842Z"
      },
      {
        "duration": 346,
        "start_time": "2025-04-09T19:12:09.545Z"
      },
      {
        "duration": 168,
        "start_time": "2025-04-09T19:12:14.892Z"
      },
      {
        "duration": 13,
        "start_time": "2025-04-09T19:14:44.488Z"
      },
      {
        "duration": 82,
        "start_time": "2025-04-09T19:16:09.418Z"
      },
      {
        "duration": 10,
        "start_time": "2025-04-09T19:16:10.659Z"
      },
      {
        "duration": 84,
        "start_time": "2025-04-09T19:19:22.350Z"
      },
      {
        "duration": 8,
        "start_time": "2025-04-09T19:19:23.130Z"
      },
      {
        "duration": 5,
        "start_time": "2025-04-09T19:19:57.895Z"
      },
      {
        "duration": 2170,
        "start_time": "2025-04-10T14:05:45.689Z"
      },
      {
        "duration": 1032,
        "start_time": "2025-04-10T14:05:47.861Z"
      },
      {
        "duration": 12,
        "start_time": "2025-04-10T14:05:48.895Z"
      },
      {
        "duration": 9,
        "start_time": "2025-04-10T14:05:48.909Z"
      },
      {
        "duration": 9,
        "start_time": "2025-04-10T14:05:49.976Z"
      },
      {
        "duration": 9,
        "start_time": "2025-04-10T14:05:50.695Z"
      },
      {
        "duration": 7,
        "start_time": "2025-04-10T14:05:51.313Z"
      },
      {
        "duration": 191,
        "start_time": "2025-04-10T14:05:54.029Z"
      },
      {
        "duration": 2,
        "start_time": "2025-04-10T14:05:55.319Z"
      },
      {
        "duration": 9,
        "start_time": "2025-04-10T14:05:55.583Z"
      },
      {
        "duration": 2,
        "start_time": "2025-04-10T14:05:56.591Z"
      },
      {
        "duration": 107,
        "start_time": "2025-04-10T14:05:56.844Z"
      },
      {
        "duration": 3,
        "start_time": "2025-04-10T14:05:57.577Z"
      },
      {
        "duration": 100,
        "start_time": "2025-04-10T14:05:57.806Z"
      },
      {
        "duration": 3,
        "start_time": "2025-04-10T14:05:58.470Z"
      },
      {
        "duration": 49,
        "start_time": "2025-04-10T14:05:58.825Z"
      },
      {
        "duration": 3,
        "start_time": "2025-04-10T14:05:59.919Z"
      },
      {
        "duration": 12,
        "start_time": "2025-04-10T14:06:00.191Z"
      },
      {
        "duration": 2,
        "start_time": "2025-04-10T14:06:00.763Z"
      },
      {
        "duration": 5,
        "start_time": "2025-04-10T14:06:01.080Z"
      },
      {
        "duration": 2,
        "start_time": "2025-04-10T14:06:01.815Z"
      },
      {
        "duration": 24,
        "start_time": "2025-04-10T14:06:02.255Z"
      },
      {
        "duration": 2,
        "start_time": "2025-04-10T14:06:03.128Z"
      },
      {
        "duration": 13,
        "start_time": "2025-04-10T14:06:03.543Z"
      },
      {
        "duration": 8,
        "start_time": "2025-04-10T14:06:04.654Z"
      },
      {
        "duration": 2,
        "start_time": "2025-04-10T14:06:05.759Z"
      },
      {
        "duration": 3,
        "start_time": "2025-04-10T14:06:05.983Z"
      },
      {
        "duration": 2,
        "start_time": "2025-04-10T14:06:06.495Z"
      },
      {
        "duration": 4,
        "start_time": "2025-04-10T14:06:06.777Z"
      },
      {
        "duration": 4,
        "start_time": "2025-04-10T14:06:07.287Z"
      },
      {
        "duration": 2,
        "start_time": "2025-04-10T14:06:08.000Z"
      },
      {
        "duration": 4,
        "start_time": "2025-04-10T14:06:08.231Z"
      },
      {
        "duration": 3,
        "start_time": "2025-04-10T14:06:08.735Z"
      },
      {
        "duration": 4,
        "start_time": "2025-04-10T14:06:08.975Z"
      },
      {
        "duration": 3,
        "start_time": "2025-04-10T14:06:09.644Z"
      },
      {
        "duration": 800,
        "start_time": "2025-04-10T14:06:09.870Z"
      },
      {
        "duration": 2,
        "start_time": "2025-04-10T14:06:10.673Z"
      },
      {
        "duration": 2088,
        "start_time": "2025-04-10T14:06:10.762Z"
      },
      {
        "duration": 2,
        "start_time": "2025-04-10T14:06:12.902Z"
      },
      {
        "duration": 6,
        "start_time": "2025-04-10T14:06:13.263Z"
      },
      {
        "duration": 8,
        "start_time": "2025-04-10T14:06:13.775Z"
      },
      {
        "duration": 2,
        "start_time": "2025-04-10T14:06:14.744Z"
      },
      {
        "duration": 10,
        "start_time": "2025-04-10T14:06:15.096Z"
      },
      {
        "duration": 2,
        "start_time": "2025-04-10T14:06:15.725Z"
      },
      {
        "duration": 9,
        "start_time": "2025-04-10T14:06:16.121Z"
      },
      {
        "duration": 2,
        "start_time": "2025-04-10T14:06:17.067Z"
      },
      {
        "duration": 6,
        "start_time": "2025-04-10T14:06:17.375Z"
      },
      {
        "duration": 5,
        "start_time": "2025-04-10T14:06:17.978Z"
      },
      {
        "duration": 2,
        "start_time": "2025-04-10T14:06:18.826Z"
      },
      {
        "duration": 5,
        "start_time": "2025-04-10T14:06:19.187Z"
      },
      {
        "duration": 2,
        "start_time": "2025-04-10T14:06:20.306Z"
      },
      {
        "duration": 5,
        "start_time": "2025-04-10T14:06:20.571Z"
      },
      {
        "duration": 3,
        "start_time": "2025-04-10T14:06:21.088Z"
      },
      {
        "duration": 10,
        "start_time": "2025-04-10T14:06:21.535Z"
      },
      {
        "duration": 2,
        "start_time": "2025-04-10T14:06:23.047Z"
      },
      {
        "duration": 19,
        "start_time": "2025-04-10T14:06:23.419Z"
      },
      {
        "duration": 2,
        "start_time": "2025-04-10T14:06:24.043Z"
      },
      {
        "duration": 32,
        "start_time": "2025-04-10T14:06:24.362Z"
      },
      {
        "duration": 3,
        "start_time": "2025-04-10T14:06:25.110Z"
      },
      {
        "duration": 14,
        "start_time": "2025-04-10T14:06:25.447Z"
      },
      {
        "duration": 4,
        "start_time": "2025-04-10T14:06:25.776Z"
      },
      {
        "duration": 2,
        "start_time": "2025-04-10T14:06:26.431Z"
      },
      {
        "duration": 36,
        "start_time": "2025-04-10T14:06:27.560Z"
      },
      {
        "duration": 37,
        "start_time": "2025-04-10T14:06:28.855Z"
      },
      {
        "duration": 2,
        "start_time": "2025-04-10T14:06:36.640Z"
      },
      {
        "duration": 31,
        "start_time": "2025-04-10T14:06:37.095Z"
      },
      {
        "duration": 18,
        "start_time": "2025-04-10T14:06:38.081Z"
      },
      {
        "duration": 8,
        "start_time": "2025-04-10T14:06:41.031Z"
      },
      {
        "duration": 8,
        "start_time": "2025-04-10T14:06:41.848Z"
      },
      {
        "duration": 242,
        "start_time": "2025-04-10T14:06:51.584Z"
      },
      {
        "duration": 5,
        "start_time": "2025-04-10T14:06:58.815Z"
      },
      {
        "duration": 6,
        "start_time": "2025-04-10T14:06:59.563Z"
      },
      {
        "duration": 117,
        "start_time": "2025-04-10T14:07:13.000Z"
      },
      {
        "duration": 8,
        "start_time": "2025-04-10T14:07:22.352Z"
      },
      {
        "duration": 160,
        "start_time": "2025-04-10T14:07:44.080Z"
      },
      {
        "duration": 170,
        "start_time": "2025-04-10T14:07:49.561Z"
      },
      {
        "duration": 7,
        "start_time": "2025-04-10T14:07:54.881Z"
      },
      {
        "duration": 6,
        "start_time": "2025-04-10T14:07:55.578Z"
      },
      {
        "duration": 11,
        "start_time": "2025-04-10T14:07:56.960Z"
      },
      {
        "duration": 245,
        "start_time": "2025-04-10T14:08:02.272Z"
      },
      {
        "duration": 217,
        "start_time": "2025-04-10T14:08:18.851Z"
      },
      {
        "duration": 215,
        "start_time": "2025-04-10T14:08:43.777Z"
      },
      {
        "duration": 39,
        "start_time": "2025-04-10T14:08:49.232Z"
      },
      {
        "duration": 785,
        "start_time": "2025-04-10T14:09:06.234Z"
      },
      {
        "duration": 121,
        "start_time": "2025-04-10T14:09:16.612Z"
      },
      {
        "duration": 171,
        "start_time": "2025-04-10T14:09:22.548Z"
      },
      {
        "duration": 125,
        "start_time": "2025-04-10T14:09:33.973Z"
      },
      {
        "duration": 174,
        "start_time": "2025-04-10T14:09:49.466Z"
      },
      {
        "duration": 172,
        "start_time": "2025-04-10T14:10:38.675Z"
      },
      {
        "duration": 88,
        "start_time": "2025-04-10T14:10:45.830Z"
      },
      {
        "duration": 9,
        "start_time": "2025-04-10T14:10:46.532Z"
      },
      {
        "duration": 6,
        "start_time": "2025-04-10T14:10:47.202Z"
      },
      {
        "duration": 12,
        "start_time": "2025-04-10T14:12:42.493Z"
      },
      {
        "duration": 264,
        "start_time": "2025-04-10T14:12:48.308Z"
      },
      {
        "duration": 15,
        "start_time": "2025-04-10T14:13:20.198Z"
      },
      {
        "duration": 515,
        "start_time": "2025-04-10T14:13:52.479Z"
      },
      {
        "duration": 236,
        "start_time": "2025-04-10T14:14:24.781Z"
      },
      {
        "duration": 184,
        "start_time": "2025-04-10T14:15:16.048Z"
      },
      {
        "duration": 171,
        "start_time": "2025-04-10T14:15:54.636Z"
      },
      {
        "duration": 190,
        "start_time": "2025-04-10T14:16:13.303Z"
      },
      {
        "duration": 185,
        "start_time": "2025-04-10T14:16:30.393Z"
      },
      {
        "duration": 175,
        "start_time": "2025-04-10T14:16:43.431Z"
      },
      {
        "duration": 174,
        "start_time": "2025-04-10T14:18:33.521Z"
      },
      {
        "duration": 175,
        "start_time": "2025-04-10T14:18:39.200Z"
      },
      {
        "duration": 167,
        "start_time": "2025-04-10T14:18:47.632Z"
      },
      {
        "duration": 299,
        "start_time": "2025-04-10T14:18:53.032Z"
      },
      {
        "duration": 13,
        "start_time": "2025-04-10T14:32:39.809Z"
      },
      {
        "duration": 111,
        "start_time": "2025-04-10T14:32:44.093Z"
      },
      {
        "duration": 48,
        "start_time": "2025-04-10T14:32:56.786Z"
      },
      {
        "duration": 3,
        "start_time": "2025-04-10T14:33:03.722Z"
      },
      {
        "duration": 10,
        "start_time": "2025-04-10T14:33:36.026Z"
      },
      {
        "duration": 4,
        "start_time": "2025-04-10T14:33:45.812Z"
      },
      {
        "duration": 69,
        "start_time": "2025-04-10T14:37:17.908Z"
      },
      {
        "duration": 96,
        "start_time": "2025-04-10T14:38:17.270Z"
      },
      {
        "duration": 5,
        "start_time": "2025-04-10T14:38:17.681Z"
      },
      {
        "duration": 3,
        "start_time": "2025-04-10T14:38:18.230Z"
      },
      {
        "duration": 12,
        "start_time": "2025-04-10T14:38:24.249Z"
      },
      {
        "duration": 6,
        "start_time": "2025-04-10T14:38:35.150Z"
      },
      {
        "duration": 6,
        "start_time": "2025-04-10T14:55:38.481Z"
      },
      {
        "duration": 13,
        "start_time": "2025-04-10T14:57:45.116Z"
      },
      {
        "duration": 605,
        "start_time": "2025-04-10T14:57:49.755Z"
      },
      {
        "duration": 104,
        "start_time": "2025-04-10T14:58:52.853Z"
      },
      {
        "duration": 183,
        "start_time": "2025-04-10T14:59:06.878Z"
      },
      {
        "duration": 8,
        "start_time": "2025-04-10T14:59:16.776Z"
      },
      {
        "duration": 4,
        "start_time": "2025-04-10T14:59:25.410Z"
      },
      {
        "duration": 5,
        "start_time": "2025-04-10T14:59:39.310Z"
      },
      {
        "duration": 5,
        "start_time": "2025-04-10T14:59:44.366Z"
      },
      {
        "duration": 5,
        "start_time": "2025-04-10T14:59:50.361Z"
      },
      {
        "duration": 26,
        "start_time": "2025-04-10T15:08:58.033Z"
      },
      {
        "duration": 5,
        "start_time": "2025-04-10T15:10:12.624Z"
      },
      {
        "duration": 10,
        "start_time": "2025-04-10T15:10:25.405Z"
      },
      {
        "duration": 3,
        "start_time": "2025-04-10T15:11:39.935Z"
      },
      {
        "duration": 4,
        "start_time": "2025-04-10T15:14:40.547Z"
      },
      {
        "duration": 7,
        "start_time": "2025-04-10T15:14:49.618Z"
      },
      {
        "duration": 6,
        "start_time": "2025-04-10T15:15:41.314Z"
      },
      {
        "duration": 9,
        "start_time": "2025-04-10T15:16:21.506Z"
      },
      {
        "duration": 3,
        "start_time": "2025-04-10T15:17:42.323Z"
      },
      {
        "duration": 7,
        "start_time": "2025-04-10T15:19:07.572Z"
      },
      {
        "duration": 5,
        "start_time": "2025-04-10T15:21:27.614Z"
      },
      {
        "duration": 2261,
        "start_time": "2025-04-10T16:01:42.396Z"
      },
      {
        "duration": 1010,
        "start_time": "2025-04-10T16:01:44.659Z"
      },
      {
        "duration": 12,
        "start_time": "2025-04-10T16:01:45.671Z"
      },
      {
        "duration": 23,
        "start_time": "2025-04-10T16:01:45.685Z"
      },
      {
        "duration": 8,
        "start_time": "2025-04-10T16:01:45.711Z"
      },
      {
        "duration": 8,
        "start_time": "2025-04-10T16:01:45.721Z"
      },
      {
        "duration": 7,
        "start_time": "2025-04-10T16:01:45.730Z"
      },
      {
        "duration": 208,
        "start_time": "2025-04-10T16:01:45.739Z"
      },
      {
        "duration": 3,
        "start_time": "2025-04-10T16:01:45.949Z"
      },
      {
        "duration": 8,
        "start_time": "2025-04-10T16:01:45.954Z"
      },
      {
        "duration": 2,
        "start_time": "2025-04-10T16:01:45.963Z"
      },
      {
        "duration": 117,
        "start_time": "2025-04-10T16:01:45.967Z"
      },
      {
        "duration": 3,
        "start_time": "2025-04-10T16:01:46.086Z"
      },
      {
        "duration": 89,
        "start_time": "2025-04-10T16:01:46.093Z"
      },
      {
        "duration": 2,
        "start_time": "2025-04-10T16:01:46.184Z"
      },
      {
        "duration": 58,
        "start_time": "2025-04-10T16:01:46.188Z"
      },
      {
        "duration": 2,
        "start_time": "2025-04-10T16:01:46.248Z"
      },
      {
        "duration": 12,
        "start_time": "2025-04-10T16:01:46.251Z"
      },
      {
        "duration": 2,
        "start_time": "2025-04-10T16:01:46.265Z"
      },
      {
        "duration": 4,
        "start_time": "2025-04-10T16:01:46.269Z"
      },
      {
        "duration": 2,
        "start_time": "2025-04-10T16:01:46.275Z"
      },
      {
        "duration": 23,
        "start_time": "2025-04-10T16:01:46.306Z"
      },
      {
        "duration": 2,
        "start_time": "2025-04-10T16:01:46.331Z"
      },
      {
        "duration": 13,
        "start_time": "2025-04-10T16:01:46.334Z"
      },
      {
        "duration": 6,
        "start_time": "2025-04-10T16:01:46.349Z"
      },
      {
        "duration": 2,
        "start_time": "2025-04-10T16:01:46.357Z"
      },
      {
        "duration": 4,
        "start_time": "2025-04-10T16:01:46.361Z"
      },
      {
        "duration": 3,
        "start_time": "2025-04-10T16:01:46.367Z"
      },
      {
        "duration": 38,
        "start_time": "2025-04-10T16:01:46.371Z"
      },
      {
        "duration": 5,
        "start_time": "2025-04-10T16:01:46.410Z"
      },
      {
        "duration": 3,
        "start_time": "2025-04-10T16:01:46.416Z"
      },
      {
        "duration": 5,
        "start_time": "2025-04-10T16:01:46.421Z"
      },
      {
        "duration": 3,
        "start_time": "2025-04-10T16:01:46.427Z"
      },
      {
        "duration": 5,
        "start_time": "2025-04-10T16:01:46.431Z"
      },
      {
        "duration": 3,
        "start_time": "2025-04-10T16:01:46.437Z"
      },
      {
        "duration": 815,
        "start_time": "2025-04-10T16:01:46.442Z"
      },
      {
        "duration": 3,
        "start_time": "2025-04-10T16:01:47.258Z"
      },
      {
        "duration": 1970,
        "start_time": "2025-04-10T16:01:47.262Z"
      },
      {
        "duration": 2,
        "start_time": "2025-04-10T16:01:49.234Z"
      },
      {
        "duration": 6,
        "start_time": "2025-04-10T16:01:49.238Z"
      },
      {
        "duration": 8,
        "start_time": "2025-04-10T16:01:49.250Z"
      },
      {
        "duration": 3,
        "start_time": "2025-04-10T16:01:49.259Z"
      },
      {
        "duration": 7,
        "start_time": "2025-04-10T16:01:49.263Z"
      },
      {
        "duration": 32,
        "start_time": "2025-04-10T16:01:49.273Z"
      },
      {
        "duration": 7,
        "start_time": "2025-04-10T16:01:49.307Z"
      },
      {
        "duration": 3,
        "start_time": "2025-04-10T16:01:49.315Z"
      },
      {
        "duration": 5,
        "start_time": "2025-04-10T16:01:49.319Z"
      },
      {
        "duration": 5,
        "start_time": "2025-04-10T16:01:49.325Z"
      },
      {
        "duration": 3,
        "start_time": "2025-04-10T16:01:49.331Z"
      },
      {
        "duration": 5,
        "start_time": "2025-04-10T16:01:49.336Z"
      },
      {
        "duration": 3,
        "start_time": "2025-04-10T16:01:49.342Z"
      },
      {
        "duration": 6,
        "start_time": "2025-04-10T16:01:49.347Z"
      },
      {
        "duration": 2,
        "start_time": "2025-04-10T16:01:49.355Z"
      },
      {
        "duration": 47,
        "start_time": "2025-04-10T16:01:49.359Z"
      },
      {
        "duration": 3,
        "start_time": "2025-04-10T16:01:49.408Z"
      },
      {
        "duration": 19,
        "start_time": "2025-04-10T16:01:49.412Z"
      },
      {
        "duration": 2,
        "start_time": "2025-04-10T16:01:49.433Z"
      },
      {
        "duration": 34,
        "start_time": "2025-04-10T16:01:49.437Z"
      },
      {
        "duration": 2,
        "start_time": "2025-04-10T16:01:49.473Z"
      },
      {
        "duration": 38,
        "start_time": "2025-04-10T16:01:49.477Z"
      },
      {
        "duration": 5,
        "start_time": "2025-04-10T16:01:49.517Z"
      },
      {
        "duration": 3,
        "start_time": "2025-04-10T16:01:49.523Z"
      },
      {
        "duration": 36,
        "start_time": "2025-04-10T16:01:49.528Z"
      },
      {
        "duration": 65,
        "start_time": "2025-04-10T16:01:49.567Z"
      },
      {
        "duration": 2,
        "start_time": "2025-04-10T16:01:49.635Z"
      },
      {
        "duration": 20,
        "start_time": "2025-04-10T16:01:49.639Z"
      },
      {
        "duration": 17,
        "start_time": "2025-04-10T16:01:49.661Z"
      },
      {
        "duration": 28,
        "start_time": "2025-04-10T16:01:49.679Z"
      },
      {
        "duration": 7,
        "start_time": "2025-04-10T16:01:49.709Z"
      },
      {
        "duration": 272,
        "start_time": "2025-04-10T16:01:49.718Z"
      },
      {
        "duration": 14,
        "start_time": "2025-04-10T16:01:49.991Z"
      },
      {
        "duration": 6,
        "start_time": "2025-04-10T16:01:50.007Z"
      },
      {
        "duration": 123,
        "start_time": "2025-04-10T16:01:50.015Z"
      },
      {
        "duration": 8,
        "start_time": "2025-04-10T16:01:50.140Z"
      },
      {
        "duration": 170,
        "start_time": "2025-04-10T16:01:50.149Z"
      },
      {
        "duration": 6,
        "start_time": "2025-04-10T16:01:50.321Z"
      },
      {
        "duration": 5,
        "start_time": "2025-04-10T16:01:50.329Z"
      },
      {
        "duration": 11,
        "start_time": "2025-04-10T16:01:50.336Z"
      },
      {
        "duration": 300,
        "start_time": "2025-04-10T16:01:50.351Z"
      },
      {
        "duration": 53,
        "start_time": "2025-04-10T16:01:50.652Z"
      },
      {
        "duration": 188,
        "start_time": "2025-04-10T16:01:50.707Z"
      },
      {
        "duration": 87,
        "start_time": "2025-04-10T16:01:50.896Z"
      },
      {
        "duration": 8,
        "start_time": "2025-04-10T16:01:50.985Z"
      },
      {
        "duration": 14,
        "start_time": "2025-04-10T16:01:50.995Z"
      },
      {
        "duration": 287,
        "start_time": "2025-04-10T16:01:51.011Z"
      },
      {
        "duration": 185,
        "start_time": "2025-04-10T16:01:51.300Z"
      },
      {
        "duration": 118,
        "start_time": "2025-04-10T16:01:51.487Z"
      },
      {
        "duration": 41,
        "start_time": "2025-04-10T16:01:51.607Z"
      },
      {
        "duration": 3,
        "start_time": "2025-04-10T16:01:51.650Z"
      },
      {
        "duration": 11,
        "start_time": "2025-04-10T16:01:51.654Z"
      },
      {
        "duration": 4,
        "start_time": "2025-04-10T16:01:51.666Z"
      },
      {
        "duration": 112,
        "start_time": "2025-04-10T16:01:51.672Z"
      },
      {
        "duration": 122,
        "start_time": "2025-04-10T16:01:51.786Z"
      },
      {
        "duration": 5,
        "start_time": "2025-04-10T16:01:51.910Z"
      },
      {
        "duration": 4,
        "start_time": "2025-04-10T16:01:51.916Z"
      },
      {
        "duration": 12,
        "start_time": "2025-04-10T16:01:51.922Z"
      },
      {
        "duration": 5,
        "start_time": "2025-04-10T16:01:51.936Z"
      },
      {
        "duration": 630,
        "start_time": "2025-04-10T16:01:51.943Z"
      },
      {
        "duration": 92,
        "start_time": "2025-04-10T16:01:52.575Z"
      },
      {
        "duration": 180,
        "start_time": "2025-04-10T16:01:52.669Z"
      },
      {
        "duration": 8,
        "start_time": "2025-04-10T16:01:52.851Z"
      },
      {
        "duration": 4,
        "start_time": "2025-04-10T16:01:52.861Z"
      },
      {
        "duration": 5,
        "start_time": "2025-04-10T16:01:52.866Z"
      },
      {
        "duration": 43,
        "start_time": "2025-04-10T16:01:52.872Z"
      },
      {
        "duration": 8,
        "start_time": "2025-04-10T16:01:52.916Z"
      },
      {
        "duration": 4,
        "start_time": "2025-04-10T16:01:52.925Z"
      },
      {
        "duration": 9,
        "start_time": "2025-04-10T16:01:52.930Z"
      },
      {
        "duration": 3,
        "start_time": "2025-04-10T16:01:52.941Z"
      },
      {
        "duration": 8,
        "start_time": "2025-04-10T16:01:52.946Z"
      },
      {
        "duration": 5,
        "start_time": "2025-04-10T16:01:52.955Z"
      }
    ],
    "colab": {
      "provenance": []
    },
    "kernelspec": {
      "display_name": "base",
      "language": "python",
      "name": "python3"
    },
    "language_info": {
      "codemirror_mode": {
        "name": "ipython",
        "version": 3
      },
      "file_extension": ".py",
      "mimetype": "text/x-python",
      "name": "python",
      "nbconvert_exporter": "python",
      "pygments_lexer": "ipython3",
      "version": "3.12.7"
    },
    "toc": {
      "base_numbering": 1,
      "nav_menu": {},
      "number_sections": true,
      "sideBar": true,
      "skip_h1_title": true,
      "title_cell": "Table of Contents",
      "title_sidebar": "Contents",
      "toc_cell": false,
      "toc_position": {},
      "toc_section_display": true,
      "toc_window_display": false
    }
  },
  "nbformat": 4,
  "nbformat_minor": 5
}
